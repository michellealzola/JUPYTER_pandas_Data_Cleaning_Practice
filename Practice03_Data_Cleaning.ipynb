{
 "cells": [
  {
   "cell_type": "code",
   "execution_count": 22,
   "metadata": {
    "collapsed": true
   },
   "outputs": [],
   "source": [
    "import pandas as pd\n"
   ]
  },
  {
   "cell_type": "code",
   "execution_count": 23,
   "metadata": {},
   "outputs": [],
   "source": [
    "# Get invalid entries in ID\n",
    "\n",
    "df = pd.read_csv('Unclean_Data2.csv')\n"
   ]
  },
  {
   "cell_type": "code",
   "execution_count": 24,
   "outputs": [
    {
     "data": {
      "text/plain": "     ID          Name Age Gender                  Email     Occupation  \\\n0     1    John Smith  35      M    johnsmith@gmail.com       Engineer   \n1   two      Jane Doe  28      F    janedoe@hotmail.com      Scientist   \n2     3    Mark Brown  42      M                     xx         Doctor   \n3     4      Mary Lee   a      F  marylee@invalid-email  Sales Manager   \n4     5    David Chen  27      M    davidchen@gmail.com         Lawyer   \n5     6     Janny Low  32      F   jennylow@hotmail.com     Programmer   \n6     7    Carlos Lee  39      M    carloslee@gmail.com       Engineer   \n7     8      Samantha  24      F     samantha@gmail.com         Doctor   \n8     9     Brian Kim  31      M     briankim@gmail.com        Teacher   \n9    10      John Dow  44      M      johndoe@gmail.com     Programmer   \n10    x    Alice Wong  29      F    alicewong@yahoo.com       Engineer   \n11   12      Rose Lee  34      e      roselee@gmail.com            nnn   \n12   13           NaN  38      F  rachelkim@hotmail.com     Accountant   \n13  NaN    Michael Wu  27      M    michaelwu@gmail.com  Sales Manager   \n14   15           ???   b      F      anitali@yahoo.com        Teacher   \n15   16   William Tan  47      M   williamtan@gmail.com         Doctor   \n16   17     Emily Tan  25      F     emilytan@gmail.com       Engineer   \n17   18      Chris Li  36      M    chrisli@hotmail.com     Programmer   \n18   19  Sharon Gomez  42      F                     yy        Teacher   \n19   20    Jackson Wu  33      M    jacksonwu@gmail.com      Scientist   \n\n      Salary Have Children Number of Children         City_State  \n0    $90,000             Y                  2       New York, NY  \n1    $85,000             N                  1  San Francisco, CA  \n2   $100,000             Y                  3         Boston, MA  \n3    $75,000            no                 -1        Chicago, IL  \n4    $95,000           yes               five         Dallas, TX  \n5    $80,000           NaN                  0          Miami, FL  \n6   $110,000             Y                  1        Phoenix, AZ  \n7        80k             N                  3        Atlanta, GA  \n8    $70,000           yes                  2         Denver, CO  \n9   $105,000           NaN                 -1       New York, NY  \n10   $85,000             Y                  0  San Francisco, CA  \n11  $120,000            no                NaN         Boston, MA  \n12   $90,000           YES              three        Chicago, IL  \n13   $80,000             N                 -2         Dallas, TX  \n14   $65,000           yes                  2          Miami, FL  \n15  $130,000            NO                  2        Phoenix, AZ  \n16   $90,000             Y                  1        Atlanta, GA  \n17   $95,000             N                  0         Denver, CO  \n18  $100,000             y                two       New York, NY  \n19   $95,000           NaN                NaN  San Francisco, CA  ",
      "text/html": "<div>\n<style scoped>\n    .dataframe tbody tr th:only-of-type {\n        vertical-align: middle;\n    }\n\n    .dataframe tbody tr th {\n        vertical-align: top;\n    }\n\n    .dataframe thead th {\n        text-align: right;\n    }\n</style>\n<table border=\"1\" class=\"dataframe\">\n  <thead>\n    <tr style=\"text-align: right;\">\n      <th></th>\n      <th>ID</th>\n      <th>Name</th>\n      <th>Age</th>\n      <th>Gender</th>\n      <th>Email</th>\n      <th>Occupation</th>\n      <th>Salary</th>\n      <th>Have Children</th>\n      <th>Number of Children</th>\n      <th>City_State</th>\n    </tr>\n  </thead>\n  <tbody>\n    <tr>\n      <th>0</th>\n      <td>1</td>\n      <td>John Smith</td>\n      <td>35</td>\n      <td>M</td>\n      <td>johnsmith@gmail.com</td>\n      <td>Engineer</td>\n      <td>$90,000</td>\n      <td>Y</td>\n      <td>2</td>\n      <td>New York, NY</td>\n    </tr>\n    <tr>\n      <th>1</th>\n      <td>two</td>\n      <td>Jane Doe</td>\n      <td>28</td>\n      <td>F</td>\n      <td>janedoe@hotmail.com</td>\n      <td>Scientist</td>\n      <td>$85,000</td>\n      <td>N</td>\n      <td>1</td>\n      <td>San Francisco, CA</td>\n    </tr>\n    <tr>\n      <th>2</th>\n      <td>3</td>\n      <td>Mark Brown</td>\n      <td>42</td>\n      <td>M</td>\n      <td>xx</td>\n      <td>Doctor</td>\n      <td>$100,000</td>\n      <td>Y</td>\n      <td>3</td>\n      <td>Boston, MA</td>\n    </tr>\n    <tr>\n      <th>3</th>\n      <td>4</td>\n      <td>Mary Lee</td>\n      <td>a</td>\n      <td>F</td>\n      <td>marylee@invalid-email</td>\n      <td>Sales Manager</td>\n      <td>$75,000</td>\n      <td>no</td>\n      <td>-1</td>\n      <td>Chicago, IL</td>\n    </tr>\n    <tr>\n      <th>4</th>\n      <td>5</td>\n      <td>David Chen</td>\n      <td>27</td>\n      <td>M</td>\n      <td>davidchen@gmail.com</td>\n      <td>Lawyer</td>\n      <td>$95,000</td>\n      <td>yes</td>\n      <td>five</td>\n      <td>Dallas, TX</td>\n    </tr>\n    <tr>\n      <th>5</th>\n      <td>6</td>\n      <td>Janny Low</td>\n      <td>32</td>\n      <td>F</td>\n      <td>jennylow@hotmail.com</td>\n      <td>Programmer</td>\n      <td>$80,000</td>\n      <td>NaN</td>\n      <td>0</td>\n      <td>Miami, FL</td>\n    </tr>\n    <tr>\n      <th>6</th>\n      <td>7</td>\n      <td>Carlos Lee</td>\n      <td>39</td>\n      <td>M</td>\n      <td>carloslee@gmail.com</td>\n      <td>Engineer</td>\n      <td>$110,000</td>\n      <td>Y</td>\n      <td>1</td>\n      <td>Phoenix, AZ</td>\n    </tr>\n    <tr>\n      <th>7</th>\n      <td>8</td>\n      <td>Samantha</td>\n      <td>24</td>\n      <td>F</td>\n      <td>samantha@gmail.com</td>\n      <td>Doctor</td>\n      <td>80k</td>\n      <td>N</td>\n      <td>3</td>\n      <td>Atlanta, GA</td>\n    </tr>\n    <tr>\n      <th>8</th>\n      <td>9</td>\n      <td>Brian Kim</td>\n      <td>31</td>\n      <td>M</td>\n      <td>briankim@gmail.com</td>\n      <td>Teacher</td>\n      <td>$70,000</td>\n      <td>yes</td>\n      <td>2</td>\n      <td>Denver, CO</td>\n    </tr>\n    <tr>\n      <th>9</th>\n      <td>10</td>\n      <td>John Dow</td>\n      <td>44</td>\n      <td>M</td>\n      <td>johndoe@gmail.com</td>\n      <td>Programmer</td>\n      <td>$105,000</td>\n      <td>NaN</td>\n      <td>-1</td>\n      <td>New York, NY</td>\n    </tr>\n    <tr>\n      <th>10</th>\n      <td>x</td>\n      <td>Alice Wong</td>\n      <td>29</td>\n      <td>F</td>\n      <td>alicewong@yahoo.com</td>\n      <td>Engineer</td>\n      <td>$85,000</td>\n      <td>Y</td>\n      <td>0</td>\n      <td>San Francisco, CA</td>\n    </tr>\n    <tr>\n      <th>11</th>\n      <td>12</td>\n      <td>Rose Lee</td>\n      <td>34</td>\n      <td>e</td>\n      <td>roselee@gmail.com</td>\n      <td>nnn</td>\n      <td>$120,000</td>\n      <td>no</td>\n      <td>NaN</td>\n      <td>Boston, MA</td>\n    </tr>\n    <tr>\n      <th>12</th>\n      <td>13</td>\n      <td>NaN</td>\n      <td>38</td>\n      <td>F</td>\n      <td>rachelkim@hotmail.com</td>\n      <td>Accountant</td>\n      <td>$90,000</td>\n      <td>YES</td>\n      <td>three</td>\n      <td>Chicago, IL</td>\n    </tr>\n    <tr>\n      <th>13</th>\n      <td>NaN</td>\n      <td>Michael Wu</td>\n      <td>27</td>\n      <td>M</td>\n      <td>michaelwu@gmail.com</td>\n      <td>Sales Manager</td>\n      <td>$80,000</td>\n      <td>N</td>\n      <td>-2</td>\n      <td>Dallas, TX</td>\n    </tr>\n    <tr>\n      <th>14</th>\n      <td>15</td>\n      <td>???</td>\n      <td>b</td>\n      <td>F</td>\n      <td>anitali@yahoo.com</td>\n      <td>Teacher</td>\n      <td>$65,000</td>\n      <td>yes</td>\n      <td>2</td>\n      <td>Miami, FL</td>\n    </tr>\n    <tr>\n      <th>15</th>\n      <td>16</td>\n      <td>William Tan</td>\n      <td>47</td>\n      <td>M</td>\n      <td>williamtan@gmail.com</td>\n      <td>Doctor</td>\n      <td>$130,000</td>\n      <td>NO</td>\n      <td>2</td>\n      <td>Phoenix, AZ</td>\n    </tr>\n    <tr>\n      <th>16</th>\n      <td>17</td>\n      <td>Emily Tan</td>\n      <td>25</td>\n      <td>F</td>\n      <td>emilytan@gmail.com</td>\n      <td>Engineer</td>\n      <td>$90,000</td>\n      <td>Y</td>\n      <td>1</td>\n      <td>Atlanta, GA</td>\n    </tr>\n    <tr>\n      <th>17</th>\n      <td>18</td>\n      <td>Chris Li</td>\n      <td>36</td>\n      <td>M</td>\n      <td>chrisli@hotmail.com</td>\n      <td>Programmer</td>\n      <td>$95,000</td>\n      <td>N</td>\n      <td>0</td>\n      <td>Denver, CO</td>\n    </tr>\n    <tr>\n      <th>18</th>\n      <td>19</td>\n      <td>Sharon Gomez</td>\n      <td>42</td>\n      <td>F</td>\n      <td>yy</td>\n      <td>Teacher</td>\n      <td>$100,000</td>\n      <td>y</td>\n      <td>two</td>\n      <td>New York, NY</td>\n    </tr>\n    <tr>\n      <th>19</th>\n      <td>20</td>\n      <td>Jackson Wu</td>\n      <td>33</td>\n      <td>M</td>\n      <td>jacksonwu@gmail.com</td>\n      <td>Scientist</td>\n      <td>$95,000</td>\n      <td>NaN</td>\n      <td>NaN</td>\n      <td>San Francisco, CA</td>\n    </tr>\n  </tbody>\n</table>\n</div>"
     },
     "execution_count": 24,
     "metadata": {},
     "output_type": "execute_result"
    }
   ],
   "source": [
    "df\n"
   ],
   "metadata": {
    "collapsed": false
   }
  },
  {
   "cell_type": "code",
   "execution_count": 25,
   "outputs": [
    {
     "name": "stdout",
     "output_type": "stream",
     "text": [
      "<class 'pandas.core.frame.DataFrame'>\n",
      "RangeIndex: 20 entries, 0 to 19\n",
      "Data columns (total 10 columns):\n",
      " #   Column              Non-Null Count  Dtype \n",
      "---  ------              --------------  ----- \n",
      " 0   ID                  19 non-null     object\n",
      " 1   Name                19 non-null     object\n",
      " 2   Age                 20 non-null     object\n",
      " 3   Gender              20 non-null     object\n",
      " 4   Email               20 non-null     object\n",
      " 5   Occupation          20 non-null     object\n",
      " 6   Salary              20 non-null     object\n",
      " 7   Have Children       17 non-null     object\n",
      " 8   Number of Children  18 non-null     object\n",
      " 9   City_State          20 non-null     object\n",
      "dtypes: object(10)\n",
      "memory usage: 1.7+ KB\n"
     ]
    }
   ],
   "source": [
    "df.info()\n"
   ],
   "metadata": {
    "collapsed": false
   }
  },
  {
   "cell_type": "code",
   "execution_count": 26,
   "outputs": [
    {
     "data": {
      "text/plain": "0       1\n1     two\n2       3\n3       4\n4       5\n5       6\n6       7\n7       8\n8       9\n9      10\n10      x\n11     12\n12     13\n13    nan\n14     15\n15     16\n16     17\n17     18\n18     19\n19     20\nName: ID, dtype: object"
     },
     "execution_count": 26,
     "metadata": {},
     "output_type": "execute_result"
    }
   ],
   "source": [
    "df.ID.astype('str')\n"
   ],
   "metadata": {
    "collapsed": false
   }
  },
  {
   "cell_type": "code",
   "execution_count": 27,
   "outputs": [],
   "source": [
    "df['ID_isDigit'] = df.ID.str.isdigit()\n"
   ],
   "metadata": {
    "collapsed": false
   }
  },
  {
   "cell_type": "code",
   "execution_count": 28,
   "outputs": [
    {
     "data": {
      "text/plain": "     ID ID_isDigit\n0     1       True\n1   two      False\n2     3       True\n3     4       True\n4     5       True\n5     6       True\n6     7       True\n7     8       True\n8     9       True\n9    10       True\n10    x      False\n11   12       True\n12   13       True\n13  NaN        NaN\n14   15       True\n15   16       True\n16   17       True\n17   18       True\n18   19       True\n19   20       True",
      "text/html": "<div>\n<style scoped>\n    .dataframe tbody tr th:only-of-type {\n        vertical-align: middle;\n    }\n\n    .dataframe tbody tr th {\n        vertical-align: top;\n    }\n\n    .dataframe thead th {\n        text-align: right;\n    }\n</style>\n<table border=\"1\" class=\"dataframe\">\n  <thead>\n    <tr style=\"text-align: right;\">\n      <th></th>\n      <th>ID</th>\n      <th>ID_isDigit</th>\n    </tr>\n  </thead>\n  <tbody>\n    <tr>\n      <th>0</th>\n      <td>1</td>\n      <td>True</td>\n    </tr>\n    <tr>\n      <th>1</th>\n      <td>two</td>\n      <td>False</td>\n    </tr>\n    <tr>\n      <th>2</th>\n      <td>3</td>\n      <td>True</td>\n    </tr>\n    <tr>\n      <th>3</th>\n      <td>4</td>\n      <td>True</td>\n    </tr>\n    <tr>\n      <th>4</th>\n      <td>5</td>\n      <td>True</td>\n    </tr>\n    <tr>\n      <th>5</th>\n      <td>6</td>\n      <td>True</td>\n    </tr>\n    <tr>\n      <th>6</th>\n      <td>7</td>\n      <td>True</td>\n    </tr>\n    <tr>\n      <th>7</th>\n      <td>8</td>\n      <td>True</td>\n    </tr>\n    <tr>\n      <th>8</th>\n      <td>9</td>\n      <td>True</td>\n    </tr>\n    <tr>\n      <th>9</th>\n      <td>10</td>\n      <td>True</td>\n    </tr>\n    <tr>\n      <th>10</th>\n      <td>x</td>\n      <td>False</td>\n    </tr>\n    <tr>\n      <th>11</th>\n      <td>12</td>\n      <td>True</td>\n    </tr>\n    <tr>\n      <th>12</th>\n      <td>13</td>\n      <td>True</td>\n    </tr>\n    <tr>\n      <th>13</th>\n      <td>NaN</td>\n      <td>NaN</td>\n    </tr>\n    <tr>\n      <th>14</th>\n      <td>15</td>\n      <td>True</td>\n    </tr>\n    <tr>\n      <th>15</th>\n      <td>16</td>\n      <td>True</td>\n    </tr>\n    <tr>\n      <th>16</th>\n      <td>17</td>\n      <td>True</td>\n    </tr>\n    <tr>\n      <th>17</th>\n      <td>18</td>\n      <td>True</td>\n    </tr>\n    <tr>\n      <th>18</th>\n      <td>19</td>\n      <td>True</td>\n    </tr>\n    <tr>\n      <th>19</th>\n      <td>20</td>\n      <td>True</td>\n    </tr>\n  </tbody>\n</table>\n</div>"
     },
     "execution_count": 28,
     "metadata": {},
     "output_type": "execute_result"
    }
   ],
   "source": [
    "df[['ID', 'ID_isDigit']]\n"
   ],
   "metadata": {
    "collapsed": false
   }
  },
  {
   "cell_type": "code",
   "execution_count": 29,
   "outputs": [
    {
     "data": {
      "text/plain": "     ID\n1   two\n10    x",
      "text/html": "<div>\n<style scoped>\n    .dataframe tbody tr th:only-of-type {\n        vertical-align: middle;\n    }\n\n    .dataframe tbody tr th {\n        vertical-align: top;\n    }\n\n    .dataframe thead th {\n        text-align: right;\n    }\n</style>\n<table border=\"1\" class=\"dataframe\">\n  <thead>\n    <tr style=\"text-align: right;\">\n      <th></th>\n      <th>ID</th>\n    </tr>\n  </thead>\n  <tbody>\n    <tr>\n      <th>1</th>\n      <td>two</td>\n    </tr>\n    <tr>\n      <th>10</th>\n      <td>x</td>\n    </tr>\n  </tbody>\n</table>\n</div>"
     },
     "execution_count": 29,
     "metadata": {},
     "output_type": "execute_result"
    }
   ],
   "source": [
    "df[['ID']][df.ID_isDigit == False]\n"
   ],
   "metadata": {
    "collapsed": false
   }
  },
  {
   "cell_type": "code",
   "execution_count": 46,
   "outputs": [
    {
     "data": {
      "text/plain": "0       John Smith\n1         Jane Doe\n2       Mark Brown\n3         Mary Lee\n4       David Chen\n5        Janny Low\n6       Carlos Lee\n7         Samantha\n8        Brian Kim\n9         John Dow\n10      Alice Wong\n11        Rose Lee\n12             nan\n13      Michael Wu\n14             ???\n15     William Tan\n16       Emily Tan\n17        Chris Li\n18    Sharon Gomez\n19      Jackson Wu\nName: Name, dtype: object"
     },
     "execution_count": 46,
     "metadata": {},
     "output_type": "execute_result"
    }
   ],
   "source": [
    "# Clean Name\n",
    "df.Name.astype('str')\n"
   ],
   "metadata": {
    "collapsed": false
   }
  },
  {
   "cell_type": "code",
   "execution_count": 49,
   "outputs": [
    {
     "name": "stdout",
     "output_type": "stream",
     "text": [
      "<class 'pandas.core.series.Series'>\n",
      "RangeIndex: 20 entries, 0 to 19\n",
      "Series name: Name\n",
      "Non-Null Count  Dtype \n",
      "--------------  ----- \n",
      "19 non-null     object\n",
      "dtypes: object(1)\n",
      "memory usage: 292.0+ bytes\n"
     ]
    }
   ],
   "source": [
    "df.Name.info()\n"
   ],
   "metadata": {
    "collapsed": false
   }
  },
  {
   "cell_type": "code",
   "execution_count": 64,
   "outputs": [],
   "source": [
    "def in_alphabet(x):\n",
    "    x = str(x)\n",
    "    for i in range(len(x)):\n",
    "        if x[i] in 'abcdefghijklmnopqrstuvwxyzABCDEFGHIJKLMNOPQRSTUVWXYZ':\n",
    "            return x\n",
    "        else:\n",
    "            return None\n",
    "\n",
    "df['Name_clean'] = df.Name.apply(in_alphabet)\n"
   ],
   "metadata": {
    "collapsed": false
   }
  },
  {
   "cell_type": "code",
   "execution_count": 65,
   "outputs": [
    {
     "data": {
      "text/plain": "     ID          Name Age Gender                  Email     Occupation  \\\n0     1    John Smith  35      M    johnsmith@gmail.com       Engineer   \n1   two      Jane Doe  28      F    janedoe@hotmail.com      Scientist   \n2     3    Mark Brown  42      M                     xx         Doctor   \n3     4      Mary Lee   a      F  marylee@invalid-email  Sales Manager   \n4     5    David Chen  27      M    davidchen@gmail.com         Lawyer   \n5     6     Janny Low  32      F   jennylow@hotmail.com     Programmer   \n6     7    Carlos Lee  39      M    carloslee@gmail.com       Engineer   \n7     8      Samantha  24      F     samantha@gmail.com         Doctor   \n8     9     Brian Kim  31      M     briankim@gmail.com        Teacher   \n9    10      John Dow  44      M      johndoe@gmail.com     Programmer   \n10    x    Alice Wong  29      F    alicewong@yahoo.com       Engineer   \n11   12      Rose Lee  34      e      roselee@gmail.com            nnn   \n12   13           NaN  38      F  rachelkim@hotmail.com     Accountant   \n13  NaN    Michael Wu  27      M    michaelwu@gmail.com  Sales Manager   \n14   15           ???   b      F      anitali@yahoo.com        Teacher   \n15   16   William Tan  47      M   williamtan@gmail.com         Doctor   \n16   17     Emily Tan  25      F     emilytan@gmail.com       Engineer   \n17   18      Chris Li  36      M    chrisli@hotmail.com     Programmer   \n18   19  Sharon Gomez  42      F                     yy        Teacher   \n19   20    Jackson Wu  33      M    jacksonwu@gmail.com      Scientist   \n\n      Salary Have Children Number of Children         City_State ID_isDigit  \\\n0    $90,000             Y                  2       New York, NY       True   \n1    $85,000             N                  1  San Francisco, CA      False   \n2   $100,000             Y                  3         Boston, MA       True   \n3    $75,000            no                 -1        Chicago, IL       True   \n4    $95,000           yes               five         Dallas, TX       True   \n5    $80,000           NaN                  0          Miami, FL       True   \n6   $110,000             Y                  1        Phoenix, AZ       True   \n7        80k             N                  3        Atlanta, GA       True   \n8    $70,000           yes                  2         Denver, CO       True   \n9   $105,000           NaN                 -1       New York, NY       True   \n10   $85,000             Y                  0  San Francisco, CA      False   \n11  $120,000            no                NaN         Boston, MA       True   \n12   $90,000           YES              three        Chicago, IL       True   \n13   $80,000             N                 -2         Dallas, TX        NaN   \n14   $65,000           yes                  2          Miami, FL       True   \n15  $130,000            NO                  2        Phoenix, AZ       True   \n16   $90,000             Y                  1        Atlanta, GA       True   \n17   $95,000             N                  0         Denver, CO       True   \n18  $100,000             y                two       New York, NY       True   \n19   $95,000           NaN                NaN  San Francisco, CA       True   \n\n      Name_clean  \n0     John Smith  \n1       Jane Doe  \n2     Mark Brown  \n3       Mary Lee  \n4     David Chen  \n5      Janny Low  \n6     Carlos Lee  \n7       Samantha  \n8      Brian Kim  \n9       John Dow  \n10    Alice Wong  \n11      Rose Lee  \n12           nan  \n13    Michael Wu  \n14          None  \n15   William Tan  \n16     Emily Tan  \n17      Chris Li  \n18  Sharon Gomez  \n19    Jackson Wu  ",
      "text/html": "<div>\n<style scoped>\n    .dataframe tbody tr th:only-of-type {\n        vertical-align: middle;\n    }\n\n    .dataframe tbody tr th {\n        vertical-align: top;\n    }\n\n    .dataframe thead th {\n        text-align: right;\n    }\n</style>\n<table border=\"1\" class=\"dataframe\">\n  <thead>\n    <tr style=\"text-align: right;\">\n      <th></th>\n      <th>ID</th>\n      <th>Name</th>\n      <th>Age</th>\n      <th>Gender</th>\n      <th>Email</th>\n      <th>Occupation</th>\n      <th>Salary</th>\n      <th>Have Children</th>\n      <th>Number of Children</th>\n      <th>City_State</th>\n      <th>ID_isDigit</th>\n      <th>Name_clean</th>\n    </tr>\n  </thead>\n  <tbody>\n    <tr>\n      <th>0</th>\n      <td>1</td>\n      <td>John Smith</td>\n      <td>35</td>\n      <td>M</td>\n      <td>johnsmith@gmail.com</td>\n      <td>Engineer</td>\n      <td>$90,000</td>\n      <td>Y</td>\n      <td>2</td>\n      <td>New York, NY</td>\n      <td>True</td>\n      <td>John Smith</td>\n    </tr>\n    <tr>\n      <th>1</th>\n      <td>two</td>\n      <td>Jane Doe</td>\n      <td>28</td>\n      <td>F</td>\n      <td>janedoe@hotmail.com</td>\n      <td>Scientist</td>\n      <td>$85,000</td>\n      <td>N</td>\n      <td>1</td>\n      <td>San Francisco, CA</td>\n      <td>False</td>\n      <td>Jane Doe</td>\n    </tr>\n    <tr>\n      <th>2</th>\n      <td>3</td>\n      <td>Mark Brown</td>\n      <td>42</td>\n      <td>M</td>\n      <td>xx</td>\n      <td>Doctor</td>\n      <td>$100,000</td>\n      <td>Y</td>\n      <td>3</td>\n      <td>Boston, MA</td>\n      <td>True</td>\n      <td>Mark Brown</td>\n    </tr>\n    <tr>\n      <th>3</th>\n      <td>4</td>\n      <td>Mary Lee</td>\n      <td>a</td>\n      <td>F</td>\n      <td>marylee@invalid-email</td>\n      <td>Sales Manager</td>\n      <td>$75,000</td>\n      <td>no</td>\n      <td>-1</td>\n      <td>Chicago, IL</td>\n      <td>True</td>\n      <td>Mary Lee</td>\n    </tr>\n    <tr>\n      <th>4</th>\n      <td>5</td>\n      <td>David Chen</td>\n      <td>27</td>\n      <td>M</td>\n      <td>davidchen@gmail.com</td>\n      <td>Lawyer</td>\n      <td>$95,000</td>\n      <td>yes</td>\n      <td>five</td>\n      <td>Dallas, TX</td>\n      <td>True</td>\n      <td>David Chen</td>\n    </tr>\n    <tr>\n      <th>5</th>\n      <td>6</td>\n      <td>Janny Low</td>\n      <td>32</td>\n      <td>F</td>\n      <td>jennylow@hotmail.com</td>\n      <td>Programmer</td>\n      <td>$80,000</td>\n      <td>NaN</td>\n      <td>0</td>\n      <td>Miami, FL</td>\n      <td>True</td>\n      <td>Janny Low</td>\n    </tr>\n    <tr>\n      <th>6</th>\n      <td>7</td>\n      <td>Carlos Lee</td>\n      <td>39</td>\n      <td>M</td>\n      <td>carloslee@gmail.com</td>\n      <td>Engineer</td>\n      <td>$110,000</td>\n      <td>Y</td>\n      <td>1</td>\n      <td>Phoenix, AZ</td>\n      <td>True</td>\n      <td>Carlos Lee</td>\n    </tr>\n    <tr>\n      <th>7</th>\n      <td>8</td>\n      <td>Samantha</td>\n      <td>24</td>\n      <td>F</td>\n      <td>samantha@gmail.com</td>\n      <td>Doctor</td>\n      <td>80k</td>\n      <td>N</td>\n      <td>3</td>\n      <td>Atlanta, GA</td>\n      <td>True</td>\n      <td>Samantha</td>\n    </tr>\n    <tr>\n      <th>8</th>\n      <td>9</td>\n      <td>Brian Kim</td>\n      <td>31</td>\n      <td>M</td>\n      <td>briankim@gmail.com</td>\n      <td>Teacher</td>\n      <td>$70,000</td>\n      <td>yes</td>\n      <td>2</td>\n      <td>Denver, CO</td>\n      <td>True</td>\n      <td>Brian Kim</td>\n    </tr>\n    <tr>\n      <th>9</th>\n      <td>10</td>\n      <td>John Dow</td>\n      <td>44</td>\n      <td>M</td>\n      <td>johndoe@gmail.com</td>\n      <td>Programmer</td>\n      <td>$105,000</td>\n      <td>NaN</td>\n      <td>-1</td>\n      <td>New York, NY</td>\n      <td>True</td>\n      <td>John Dow</td>\n    </tr>\n    <tr>\n      <th>10</th>\n      <td>x</td>\n      <td>Alice Wong</td>\n      <td>29</td>\n      <td>F</td>\n      <td>alicewong@yahoo.com</td>\n      <td>Engineer</td>\n      <td>$85,000</td>\n      <td>Y</td>\n      <td>0</td>\n      <td>San Francisco, CA</td>\n      <td>False</td>\n      <td>Alice Wong</td>\n    </tr>\n    <tr>\n      <th>11</th>\n      <td>12</td>\n      <td>Rose Lee</td>\n      <td>34</td>\n      <td>e</td>\n      <td>roselee@gmail.com</td>\n      <td>nnn</td>\n      <td>$120,000</td>\n      <td>no</td>\n      <td>NaN</td>\n      <td>Boston, MA</td>\n      <td>True</td>\n      <td>Rose Lee</td>\n    </tr>\n    <tr>\n      <th>12</th>\n      <td>13</td>\n      <td>NaN</td>\n      <td>38</td>\n      <td>F</td>\n      <td>rachelkim@hotmail.com</td>\n      <td>Accountant</td>\n      <td>$90,000</td>\n      <td>YES</td>\n      <td>three</td>\n      <td>Chicago, IL</td>\n      <td>True</td>\n      <td>nan</td>\n    </tr>\n    <tr>\n      <th>13</th>\n      <td>NaN</td>\n      <td>Michael Wu</td>\n      <td>27</td>\n      <td>M</td>\n      <td>michaelwu@gmail.com</td>\n      <td>Sales Manager</td>\n      <td>$80,000</td>\n      <td>N</td>\n      <td>-2</td>\n      <td>Dallas, TX</td>\n      <td>NaN</td>\n      <td>Michael Wu</td>\n    </tr>\n    <tr>\n      <th>14</th>\n      <td>15</td>\n      <td>???</td>\n      <td>b</td>\n      <td>F</td>\n      <td>anitali@yahoo.com</td>\n      <td>Teacher</td>\n      <td>$65,000</td>\n      <td>yes</td>\n      <td>2</td>\n      <td>Miami, FL</td>\n      <td>True</td>\n      <td>None</td>\n    </tr>\n    <tr>\n      <th>15</th>\n      <td>16</td>\n      <td>William Tan</td>\n      <td>47</td>\n      <td>M</td>\n      <td>williamtan@gmail.com</td>\n      <td>Doctor</td>\n      <td>$130,000</td>\n      <td>NO</td>\n      <td>2</td>\n      <td>Phoenix, AZ</td>\n      <td>True</td>\n      <td>William Tan</td>\n    </tr>\n    <tr>\n      <th>16</th>\n      <td>17</td>\n      <td>Emily Tan</td>\n      <td>25</td>\n      <td>F</td>\n      <td>emilytan@gmail.com</td>\n      <td>Engineer</td>\n      <td>$90,000</td>\n      <td>Y</td>\n      <td>1</td>\n      <td>Atlanta, GA</td>\n      <td>True</td>\n      <td>Emily Tan</td>\n    </tr>\n    <tr>\n      <th>17</th>\n      <td>18</td>\n      <td>Chris Li</td>\n      <td>36</td>\n      <td>M</td>\n      <td>chrisli@hotmail.com</td>\n      <td>Programmer</td>\n      <td>$95,000</td>\n      <td>N</td>\n      <td>0</td>\n      <td>Denver, CO</td>\n      <td>True</td>\n      <td>Chris Li</td>\n    </tr>\n    <tr>\n      <th>18</th>\n      <td>19</td>\n      <td>Sharon Gomez</td>\n      <td>42</td>\n      <td>F</td>\n      <td>yy</td>\n      <td>Teacher</td>\n      <td>$100,000</td>\n      <td>y</td>\n      <td>two</td>\n      <td>New York, NY</td>\n      <td>True</td>\n      <td>Sharon Gomez</td>\n    </tr>\n    <tr>\n      <th>19</th>\n      <td>20</td>\n      <td>Jackson Wu</td>\n      <td>33</td>\n      <td>M</td>\n      <td>jacksonwu@gmail.com</td>\n      <td>Scientist</td>\n      <td>$95,000</td>\n      <td>NaN</td>\n      <td>NaN</td>\n      <td>San Francisco, CA</td>\n      <td>True</td>\n      <td>Jackson Wu</td>\n    </tr>\n  </tbody>\n</table>\n</div>"
     },
     "execution_count": 65,
     "metadata": {},
     "output_type": "execute_result"
    }
   ],
   "source": [
    "df\n"
   ],
   "metadata": {
    "collapsed": false
   }
  },
  {
   "cell_type": "code",
   "execution_count": 66,
   "outputs": [],
   "source": [
    "# Clean age\n"
   ],
   "metadata": {
    "collapsed": false
   }
  },
  {
   "cell_type": "code",
   "execution_count": 68,
   "outputs": [],
   "source": [
    "df['Age_clean'] = pd.to_numeric(df.Age, errors='coerce')\n"
   ],
   "metadata": {
    "collapsed": false
   }
  },
  {
   "cell_type": "code",
   "execution_count": 69,
   "outputs": [
    {
     "data": {
      "text/plain": "   Age  Age_clean\n0   35       35.0\n1   28       28.0\n2   42       42.0\n3    a        NaN\n4   27       27.0\n5   32       32.0\n6   39       39.0\n7   24       24.0\n8   31       31.0\n9   44       44.0\n10  29       29.0\n11  34       34.0\n12  38       38.0\n13  27       27.0\n14   b        NaN\n15  47       47.0\n16  25       25.0\n17  36       36.0\n18  42       42.0\n19  33       33.0",
      "text/html": "<div>\n<style scoped>\n    .dataframe tbody tr th:only-of-type {\n        vertical-align: middle;\n    }\n\n    .dataframe tbody tr th {\n        vertical-align: top;\n    }\n\n    .dataframe thead th {\n        text-align: right;\n    }\n</style>\n<table border=\"1\" class=\"dataframe\">\n  <thead>\n    <tr style=\"text-align: right;\">\n      <th></th>\n      <th>Age</th>\n      <th>Age_clean</th>\n    </tr>\n  </thead>\n  <tbody>\n    <tr>\n      <th>0</th>\n      <td>35</td>\n      <td>35.0</td>\n    </tr>\n    <tr>\n      <th>1</th>\n      <td>28</td>\n      <td>28.0</td>\n    </tr>\n    <tr>\n      <th>2</th>\n      <td>42</td>\n      <td>42.0</td>\n    </tr>\n    <tr>\n      <th>3</th>\n      <td>a</td>\n      <td>NaN</td>\n    </tr>\n    <tr>\n      <th>4</th>\n      <td>27</td>\n      <td>27.0</td>\n    </tr>\n    <tr>\n      <th>5</th>\n      <td>32</td>\n      <td>32.0</td>\n    </tr>\n    <tr>\n      <th>6</th>\n      <td>39</td>\n      <td>39.0</td>\n    </tr>\n    <tr>\n      <th>7</th>\n      <td>24</td>\n      <td>24.0</td>\n    </tr>\n    <tr>\n      <th>8</th>\n      <td>31</td>\n      <td>31.0</td>\n    </tr>\n    <tr>\n      <th>9</th>\n      <td>44</td>\n      <td>44.0</td>\n    </tr>\n    <tr>\n      <th>10</th>\n      <td>29</td>\n      <td>29.0</td>\n    </tr>\n    <tr>\n      <th>11</th>\n      <td>34</td>\n      <td>34.0</td>\n    </tr>\n    <tr>\n      <th>12</th>\n      <td>38</td>\n      <td>38.0</td>\n    </tr>\n    <tr>\n      <th>13</th>\n      <td>27</td>\n      <td>27.0</td>\n    </tr>\n    <tr>\n      <th>14</th>\n      <td>b</td>\n      <td>NaN</td>\n    </tr>\n    <tr>\n      <th>15</th>\n      <td>47</td>\n      <td>47.0</td>\n    </tr>\n    <tr>\n      <th>16</th>\n      <td>25</td>\n      <td>25.0</td>\n    </tr>\n    <tr>\n      <th>17</th>\n      <td>36</td>\n      <td>36.0</td>\n    </tr>\n    <tr>\n      <th>18</th>\n      <td>42</td>\n      <td>42.0</td>\n    </tr>\n    <tr>\n      <th>19</th>\n      <td>33</td>\n      <td>33.0</td>\n    </tr>\n  </tbody>\n</table>\n</div>"
     },
     "execution_count": 69,
     "metadata": {},
     "output_type": "execute_result"
    }
   ],
   "source": [
    "df[['Age', 'Age_clean']]\n"
   ],
   "metadata": {
    "collapsed": false
   }
  },
  {
   "cell_type": "code",
   "execution_count": 70,
   "outputs": [],
   "source": [
    "# Clean Gender\n"
   ],
   "metadata": {
    "collapsed": false
   }
  },
  {
   "cell_type": "code",
   "execution_count": 71,
   "outputs": [],
   "source": [
    "df['Gender_clean'] = df.Gender.apply(lambda x: x if x == 'F' or x == 'M' else None)\n"
   ],
   "metadata": {
    "collapsed": false
   }
  },
  {
   "cell_type": "code",
   "execution_count": 72,
   "outputs": [
    {
     "data": {
      "text/plain": "   Gender Gender_clean\n0       M            M\n1       F            F\n2       M            M\n3       F            F\n4       M            M\n5       F            F\n6       M            M\n7       F            F\n8       M            M\n9       M            M\n10      F            F\n11      e         None\n12      F            F\n13      M            M\n14      F            F\n15      M            M\n16      F            F\n17      M            M\n18      F            F\n19      M            M",
      "text/html": "<div>\n<style scoped>\n    .dataframe tbody tr th:only-of-type {\n        vertical-align: middle;\n    }\n\n    .dataframe tbody tr th {\n        vertical-align: top;\n    }\n\n    .dataframe thead th {\n        text-align: right;\n    }\n</style>\n<table border=\"1\" class=\"dataframe\">\n  <thead>\n    <tr style=\"text-align: right;\">\n      <th></th>\n      <th>Gender</th>\n      <th>Gender_clean</th>\n    </tr>\n  </thead>\n  <tbody>\n    <tr>\n      <th>0</th>\n      <td>M</td>\n      <td>M</td>\n    </tr>\n    <tr>\n      <th>1</th>\n      <td>F</td>\n      <td>F</td>\n    </tr>\n    <tr>\n      <th>2</th>\n      <td>M</td>\n      <td>M</td>\n    </tr>\n    <tr>\n      <th>3</th>\n      <td>F</td>\n      <td>F</td>\n    </tr>\n    <tr>\n      <th>4</th>\n      <td>M</td>\n      <td>M</td>\n    </tr>\n    <tr>\n      <th>5</th>\n      <td>F</td>\n      <td>F</td>\n    </tr>\n    <tr>\n      <th>6</th>\n      <td>M</td>\n      <td>M</td>\n    </tr>\n    <tr>\n      <th>7</th>\n      <td>F</td>\n      <td>F</td>\n    </tr>\n    <tr>\n      <th>8</th>\n      <td>M</td>\n      <td>M</td>\n    </tr>\n    <tr>\n      <th>9</th>\n      <td>M</td>\n      <td>M</td>\n    </tr>\n    <tr>\n      <th>10</th>\n      <td>F</td>\n      <td>F</td>\n    </tr>\n    <tr>\n      <th>11</th>\n      <td>e</td>\n      <td>None</td>\n    </tr>\n    <tr>\n      <th>12</th>\n      <td>F</td>\n      <td>F</td>\n    </tr>\n    <tr>\n      <th>13</th>\n      <td>M</td>\n      <td>M</td>\n    </tr>\n    <tr>\n      <th>14</th>\n      <td>F</td>\n      <td>F</td>\n    </tr>\n    <tr>\n      <th>15</th>\n      <td>M</td>\n      <td>M</td>\n    </tr>\n    <tr>\n      <th>16</th>\n      <td>F</td>\n      <td>F</td>\n    </tr>\n    <tr>\n      <th>17</th>\n      <td>M</td>\n      <td>M</td>\n    </tr>\n    <tr>\n      <th>18</th>\n      <td>F</td>\n      <td>F</td>\n    </tr>\n    <tr>\n      <th>19</th>\n      <td>M</td>\n      <td>M</td>\n    </tr>\n  </tbody>\n</table>\n</div>"
     },
     "execution_count": 72,
     "metadata": {},
     "output_type": "execute_result"
    }
   ],
   "source": [
    "df[['Gender', 'Gender_clean']]\n"
   ],
   "metadata": {
    "collapsed": false
   }
  },
  {
   "cell_type": "code",
   "execution_count": 73,
   "outputs": [],
   "source": [
    "# Clean Email\n"
   ],
   "metadata": {
    "collapsed": false
   }
  },
  {
   "cell_type": "code",
   "execution_count": 81,
   "outputs": [
    {
     "data": {
      "text/plain": "True"
     },
     "execution_count": 81,
     "metadata": {},
     "output_type": "execute_result"
    }
   ],
   "source": [
    "df.Email.is_unique\n"
   ],
   "metadata": {
    "collapsed": false
   }
  },
  {
   "cell_type": "code",
   "execution_count": 86,
   "outputs": [
    {
     "data": {
      "text/plain": "0       johnsmith@gmail.com\n1       janedoe@hotmail.com\n2                        xx\n3     marylee@invalid-email\n4       davidchen@gmail.com\n5      jennylow@hotmail.com\n6       carloslee@gmail.com\n7        samantha@gmail.com\n8        briankim@gmail.com\n9         johndoe@gmail.com\n10      alicewong@yahoo.com\n11        roselee@gmail.com\n12    rachelkim@hotmail.com\n13      michaelwu@gmail.com\n14        anitali@yahoo.com\n15     williamtan@gmail.com\n16       emilytan@gmail.com\n17      chrisli@hotmail.com\n18                       yy\n19      jacksonwu@gmail.com\nName: Email, dtype: object"
     },
     "execution_count": 86,
     "metadata": {},
     "output_type": "execute_result"
    }
   ],
   "source": [
    "df.Email.astype('str')"
   ],
   "metadata": {
    "collapsed": false
   }
  },
  {
   "cell_type": "code",
   "execution_count": 131,
   "outputs": [],
   "source": [
    "def valid_email(x):\n",
    "    x = str(x)\n",
    "    if x.endswith('.com') and x.__contains__('@'):\n",
    "        return x\n",
    "    else:\n",
    "        return None\n",
    "\n",
    "\n",
    "df['Email_clean'] = df.Email.apply(valid_email)\n"
   ],
   "metadata": {
    "collapsed": false
   }
  },
  {
   "cell_type": "code",
   "execution_count": 132,
   "outputs": [
    {
     "data": {
      "text/plain": "                    Email            Email_clean\n0     johnsmith@gmail.com    johnsmith@gmail.com\n1     janedoe@hotmail.com    janedoe@hotmail.com\n2                      xx                   None\n3   marylee@invalid-email                   None\n4     davidchen@gmail.com    davidchen@gmail.com\n5    jennylow@hotmail.com   jennylow@hotmail.com\n6     carloslee@gmail.com    carloslee@gmail.com\n7      samantha@gmail.com     samantha@gmail.com\n8      briankim@gmail.com     briankim@gmail.com\n9       johndoe@gmail.com      johndoe@gmail.com\n10    alicewong@yahoo.com    alicewong@yahoo.com\n11      roselee@gmail.com      roselee@gmail.com\n12  rachelkim@hotmail.com  rachelkim@hotmail.com\n13    michaelwu@gmail.com    michaelwu@gmail.com\n14      anitali@yahoo.com      anitali@yahoo.com\n15   williamtan@gmail.com   williamtan@gmail.com\n16     emilytan@gmail.com     emilytan@gmail.com\n17    chrisli@hotmail.com    chrisli@hotmail.com\n18                     yy                   None\n19    jacksonwu@gmail.com    jacksonwu@gmail.com",
      "text/html": "<div>\n<style scoped>\n    .dataframe tbody tr th:only-of-type {\n        vertical-align: middle;\n    }\n\n    .dataframe tbody tr th {\n        vertical-align: top;\n    }\n\n    .dataframe thead th {\n        text-align: right;\n    }\n</style>\n<table border=\"1\" class=\"dataframe\">\n  <thead>\n    <tr style=\"text-align: right;\">\n      <th></th>\n      <th>Email</th>\n      <th>Email_clean</th>\n    </tr>\n  </thead>\n  <tbody>\n    <tr>\n      <th>0</th>\n      <td>johnsmith@gmail.com</td>\n      <td>johnsmith@gmail.com</td>\n    </tr>\n    <tr>\n      <th>1</th>\n      <td>janedoe@hotmail.com</td>\n      <td>janedoe@hotmail.com</td>\n    </tr>\n    <tr>\n      <th>2</th>\n      <td>xx</td>\n      <td>None</td>\n    </tr>\n    <tr>\n      <th>3</th>\n      <td>marylee@invalid-email</td>\n      <td>None</td>\n    </tr>\n    <tr>\n      <th>4</th>\n      <td>davidchen@gmail.com</td>\n      <td>davidchen@gmail.com</td>\n    </tr>\n    <tr>\n      <th>5</th>\n      <td>jennylow@hotmail.com</td>\n      <td>jennylow@hotmail.com</td>\n    </tr>\n    <tr>\n      <th>6</th>\n      <td>carloslee@gmail.com</td>\n      <td>carloslee@gmail.com</td>\n    </tr>\n    <tr>\n      <th>7</th>\n      <td>samantha@gmail.com</td>\n      <td>samantha@gmail.com</td>\n    </tr>\n    <tr>\n      <th>8</th>\n      <td>briankim@gmail.com</td>\n      <td>briankim@gmail.com</td>\n    </tr>\n    <tr>\n      <th>9</th>\n      <td>johndoe@gmail.com</td>\n      <td>johndoe@gmail.com</td>\n    </tr>\n    <tr>\n      <th>10</th>\n      <td>alicewong@yahoo.com</td>\n      <td>alicewong@yahoo.com</td>\n    </tr>\n    <tr>\n      <th>11</th>\n      <td>roselee@gmail.com</td>\n      <td>roselee@gmail.com</td>\n    </tr>\n    <tr>\n      <th>12</th>\n      <td>rachelkim@hotmail.com</td>\n      <td>rachelkim@hotmail.com</td>\n    </tr>\n    <tr>\n      <th>13</th>\n      <td>michaelwu@gmail.com</td>\n      <td>michaelwu@gmail.com</td>\n    </tr>\n    <tr>\n      <th>14</th>\n      <td>anitali@yahoo.com</td>\n      <td>anitali@yahoo.com</td>\n    </tr>\n    <tr>\n      <th>15</th>\n      <td>williamtan@gmail.com</td>\n      <td>williamtan@gmail.com</td>\n    </tr>\n    <tr>\n      <th>16</th>\n      <td>emilytan@gmail.com</td>\n      <td>emilytan@gmail.com</td>\n    </tr>\n    <tr>\n      <th>17</th>\n      <td>chrisli@hotmail.com</td>\n      <td>chrisli@hotmail.com</td>\n    </tr>\n    <tr>\n      <th>18</th>\n      <td>yy</td>\n      <td>None</td>\n    </tr>\n    <tr>\n      <th>19</th>\n      <td>jacksonwu@gmail.com</td>\n      <td>jacksonwu@gmail.com</td>\n    </tr>\n  </tbody>\n</table>\n</div>"
     },
     "execution_count": 132,
     "metadata": {},
     "output_type": "execute_result"
    }
   ],
   "source": [
    "df[['Email', 'Email_clean']]\n"
   ],
   "metadata": {
    "collapsed": false
   }
  },
  {
   "cell_type": "code",
   "execution_count": 133,
   "outputs": [],
   "source": [
    "# Clean Occupation\n"
   ],
   "metadata": {
    "collapsed": false
   }
  },
  {
   "cell_type": "code",
   "execution_count": 134,
   "outputs": [
    {
     "data": {
      "text/plain": "0          Engineer\n1         Scientist\n2            Doctor\n3     Sales Manager\n4            Lawyer\n5        Programmer\n6          Engineer\n7            Doctor\n8           Teacher\n9        Programmer\n10         Engineer\n11              nnn\n12       Accountant\n13    Sales Manager\n14          Teacher\n15           Doctor\n16         Engineer\n17       Programmer\n18          Teacher\n19        Scientist\nName: Occupation, dtype: object"
     },
     "execution_count": 134,
     "metadata": {},
     "output_type": "execute_result"
    }
   ],
   "source": [
    "df['Occupation']\n"
   ],
   "metadata": {
    "collapsed": false
   }
  },
  {
   "cell_type": "code",
   "execution_count": 144,
   "outputs": [],
   "source": [
    "occupation_list = ['Engineer',\n",
    "                   'Scientist',\n",
    "                   'Doctor',\n",
    "                   'Sales Manager',\n",
    "                   'Lawyer',\n",
    "                   'Programmer',\n",
    "                   'Teacher',\n",
    "                   'Accountant']\n"
   ],
   "metadata": {
    "collapsed": false
   }
  },
  {
   "cell_type": "code",
   "execution_count": 145,
   "outputs": [
    {
     "data": {
      "text/plain": "['Engineer',\n 'Scientist',\n 'Doctor',\n 'Sales Manager',\n 'Lawyer',\n 'Programmer',\n 'Teacher',\n 'Accountant']"
     },
     "execution_count": 145,
     "metadata": {},
     "output_type": "execute_result"
    }
   ],
   "source": [
    "occupation_list\n"
   ],
   "metadata": {
    "collapsed": false
   }
  },
  {
   "cell_type": "code",
   "execution_count": 146,
   "outputs": [],
   "source": [
    "df['Occupation_clean'] = df.Occupation.apply(lambda x: x if x in occupation_list else None)\n"
   ],
   "metadata": {
    "collapsed": false
   }
  },
  {
   "cell_type": "code",
   "execution_count": 147,
   "outputs": [
    {
     "data": {
      "text/plain": "       Occupation Occupation_clean\n0        Engineer         Engineer\n1       Scientist        Scientist\n2          Doctor           Doctor\n3   Sales Manager    Sales Manager\n4          Lawyer           Lawyer\n5      Programmer       Programmer\n6        Engineer         Engineer\n7          Doctor           Doctor\n8         Teacher          Teacher\n9      Programmer       Programmer\n10       Engineer         Engineer\n11            nnn             None\n12     Accountant       Accountant\n13  Sales Manager    Sales Manager\n14        Teacher          Teacher\n15         Doctor           Doctor\n16       Engineer         Engineer\n17     Programmer       Programmer\n18        Teacher          Teacher\n19      Scientist        Scientist",
      "text/html": "<div>\n<style scoped>\n    .dataframe tbody tr th:only-of-type {\n        vertical-align: middle;\n    }\n\n    .dataframe tbody tr th {\n        vertical-align: top;\n    }\n\n    .dataframe thead th {\n        text-align: right;\n    }\n</style>\n<table border=\"1\" class=\"dataframe\">\n  <thead>\n    <tr style=\"text-align: right;\">\n      <th></th>\n      <th>Occupation</th>\n      <th>Occupation_clean</th>\n    </tr>\n  </thead>\n  <tbody>\n    <tr>\n      <th>0</th>\n      <td>Engineer</td>\n      <td>Engineer</td>\n    </tr>\n    <tr>\n      <th>1</th>\n      <td>Scientist</td>\n      <td>Scientist</td>\n    </tr>\n    <tr>\n      <th>2</th>\n      <td>Doctor</td>\n      <td>Doctor</td>\n    </tr>\n    <tr>\n      <th>3</th>\n      <td>Sales Manager</td>\n      <td>Sales Manager</td>\n    </tr>\n    <tr>\n      <th>4</th>\n      <td>Lawyer</td>\n      <td>Lawyer</td>\n    </tr>\n    <tr>\n      <th>5</th>\n      <td>Programmer</td>\n      <td>Programmer</td>\n    </tr>\n    <tr>\n      <th>6</th>\n      <td>Engineer</td>\n      <td>Engineer</td>\n    </tr>\n    <tr>\n      <th>7</th>\n      <td>Doctor</td>\n      <td>Doctor</td>\n    </tr>\n    <tr>\n      <th>8</th>\n      <td>Teacher</td>\n      <td>Teacher</td>\n    </tr>\n    <tr>\n      <th>9</th>\n      <td>Programmer</td>\n      <td>Programmer</td>\n    </tr>\n    <tr>\n      <th>10</th>\n      <td>Engineer</td>\n      <td>Engineer</td>\n    </tr>\n    <tr>\n      <th>11</th>\n      <td>nnn</td>\n      <td>None</td>\n    </tr>\n    <tr>\n      <th>12</th>\n      <td>Accountant</td>\n      <td>Accountant</td>\n    </tr>\n    <tr>\n      <th>13</th>\n      <td>Sales Manager</td>\n      <td>Sales Manager</td>\n    </tr>\n    <tr>\n      <th>14</th>\n      <td>Teacher</td>\n      <td>Teacher</td>\n    </tr>\n    <tr>\n      <th>15</th>\n      <td>Doctor</td>\n      <td>Doctor</td>\n    </tr>\n    <tr>\n      <th>16</th>\n      <td>Engineer</td>\n      <td>Engineer</td>\n    </tr>\n    <tr>\n      <th>17</th>\n      <td>Programmer</td>\n      <td>Programmer</td>\n    </tr>\n    <tr>\n      <th>18</th>\n      <td>Teacher</td>\n      <td>Teacher</td>\n    </tr>\n    <tr>\n      <th>19</th>\n      <td>Scientist</td>\n      <td>Scientist</td>\n    </tr>\n  </tbody>\n</table>\n</div>"
     },
     "execution_count": 147,
     "metadata": {},
     "output_type": "execute_result"
    }
   ],
   "source": [
    "df[['Occupation', 'Occupation_clean']]\n",
    "\n"
   ],
   "metadata": {
    "collapsed": false
   }
  },
  {
   "cell_type": "code",
   "execution_count": 148,
   "outputs": [],
   "source": [
    "# Clean Salary"
   ],
   "metadata": {
    "collapsed": false
   }
  },
  {
   "cell_type": "code",
   "execution_count": 175,
   "outputs": [],
   "source": [
    "def valid_salary(x):\n",
    "    x = str(x)\n",
    "    y = x.replace('$', '').lower().replace('k', '000').replace(',', '')\n",
    "    return y\n"
   ],
   "metadata": {
    "collapsed": false
   }
  },
  {
   "cell_type": "code",
   "execution_count": 176,
   "outputs": [],
   "source": [
    "df['Salary_clean'] = df.Salary.apply(valid_salary)\n"
   ],
   "metadata": {
    "collapsed": false
   }
  },
  {
   "cell_type": "code",
   "execution_count": 177,
   "outputs": [
    {
     "data": {
      "text/plain": "      Salary Salary_clean\n0    $90,000        90000\n1    $85,000        85000\n2   $100,000       100000\n3    $75,000        75000\n4    $95,000        95000\n5    $80,000        80000\n6   $110,000       110000\n7        80k        80000\n8    $70,000        70000\n9   $105,000       105000\n10   $85,000        85000\n11  $120,000       120000\n12   $90,000        90000\n13   $80,000        80000\n14   $65,000        65000\n15  $130,000       130000\n16   $90,000        90000\n17   $95,000        95000\n18  $100,000       100000\n19   $95,000        95000",
      "text/html": "<div>\n<style scoped>\n    .dataframe tbody tr th:only-of-type {\n        vertical-align: middle;\n    }\n\n    .dataframe tbody tr th {\n        vertical-align: top;\n    }\n\n    .dataframe thead th {\n        text-align: right;\n    }\n</style>\n<table border=\"1\" class=\"dataframe\">\n  <thead>\n    <tr style=\"text-align: right;\">\n      <th></th>\n      <th>Salary</th>\n      <th>Salary_clean</th>\n    </tr>\n  </thead>\n  <tbody>\n    <tr>\n      <th>0</th>\n      <td>$90,000</td>\n      <td>90000</td>\n    </tr>\n    <tr>\n      <th>1</th>\n      <td>$85,000</td>\n      <td>85000</td>\n    </tr>\n    <tr>\n      <th>2</th>\n      <td>$100,000</td>\n      <td>100000</td>\n    </tr>\n    <tr>\n      <th>3</th>\n      <td>$75,000</td>\n      <td>75000</td>\n    </tr>\n    <tr>\n      <th>4</th>\n      <td>$95,000</td>\n      <td>95000</td>\n    </tr>\n    <tr>\n      <th>5</th>\n      <td>$80,000</td>\n      <td>80000</td>\n    </tr>\n    <tr>\n      <th>6</th>\n      <td>$110,000</td>\n      <td>110000</td>\n    </tr>\n    <tr>\n      <th>7</th>\n      <td>80k</td>\n      <td>80000</td>\n    </tr>\n    <tr>\n      <th>8</th>\n      <td>$70,000</td>\n      <td>70000</td>\n    </tr>\n    <tr>\n      <th>9</th>\n      <td>$105,000</td>\n      <td>105000</td>\n    </tr>\n    <tr>\n      <th>10</th>\n      <td>$85,000</td>\n      <td>85000</td>\n    </tr>\n    <tr>\n      <th>11</th>\n      <td>$120,000</td>\n      <td>120000</td>\n    </tr>\n    <tr>\n      <th>12</th>\n      <td>$90,000</td>\n      <td>90000</td>\n    </tr>\n    <tr>\n      <th>13</th>\n      <td>$80,000</td>\n      <td>80000</td>\n    </tr>\n    <tr>\n      <th>14</th>\n      <td>$65,000</td>\n      <td>65000</td>\n    </tr>\n    <tr>\n      <th>15</th>\n      <td>$130,000</td>\n      <td>130000</td>\n    </tr>\n    <tr>\n      <th>16</th>\n      <td>$90,000</td>\n      <td>90000</td>\n    </tr>\n    <tr>\n      <th>17</th>\n      <td>$95,000</td>\n      <td>95000</td>\n    </tr>\n    <tr>\n      <th>18</th>\n      <td>$100,000</td>\n      <td>100000</td>\n    </tr>\n    <tr>\n      <th>19</th>\n      <td>$95,000</td>\n      <td>95000</td>\n    </tr>\n  </tbody>\n</table>\n</div>"
     },
     "execution_count": 177,
     "metadata": {},
     "output_type": "execute_result"
    }
   ],
   "source": [
    "df[['Salary', 'Salary_clean']]\n"
   ],
   "metadata": {
    "collapsed": false
   }
  },
  {
   "cell_type": "code",
   "execution_count": 178,
   "outputs": [
    {
     "data": {
      "text/plain": "0      90000.0\n1      85000.0\n2     100000.0\n3      75000.0\n4      95000.0\n5      80000.0\n6     110000.0\n7      80000.0\n8      70000.0\n9     105000.0\n10     85000.0\n11    120000.0\n12     90000.0\n13     80000.0\n14     65000.0\n15    130000.0\n16     90000.0\n17     95000.0\n18    100000.0\n19     95000.0\nName: Salary_clean, dtype: float64"
     },
     "execution_count": 178,
     "metadata": {},
     "output_type": "execute_result"
    }
   ],
   "source": [
    "df.Salary_clean.astype('float64')\n"
   ],
   "metadata": {
    "collapsed": false
   }
  },
  {
   "cell_type": "code",
   "execution_count": 235,
   "outputs": [],
   "source": [
    "# Check the columns Have Children and Number of Children using Inter-Field Checking\n"
   ],
   "metadata": {
    "collapsed": false
   }
  },
  {
   "cell_type": "code",
   "execution_count": 236,
   "outputs": [],
   "source": [
    "df['Have_Children_clean'] = df['Have Children'].str[0].str.lower()\n"
   ],
   "metadata": {
    "collapsed": false
   }
  },
  {
   "cell_type": "code",
   "execution_count": 237,
   "outputs": [
    {
     "data": {
      "text/plain": "   Have Children Have_Children_clean\n0              Y                   y\n1              N                   n\n2              Y                   y\n3             no                   n\n4            yes                   y\n5            NaN                 NaN\n6              Y                   y\n7              N                   n\n8            yes                   y\n9            NaN                 NaN\n10             Y                   y\n11            no                   n\n12           YES                   y\n13             N                   n\n14           yes                   y\n15            NO                   n\n16             Y                   y\n17             N                   n\n18             y                   y\n19           NaN                 NaN",
      "text/html": "<div>\n<style scoped>\n    .dataframe tbody tr th:only-of-type {\n        vertical-align: middle;\n    }\n\n    .dataframe tbody tr th {\n        vertical-align: top;\n    }\n\n    .dataframe thead th {\n        text-align: right;\n    }\n</style>\n<table border=\"1\" class=\"dataframe\">\n  <thead>\n    <tr style=\"text-align: right;\">\n      <th></th>\n      <th>Have Children</th>\n      <th>Have_Children_clean</th>\n    </tr>\n  </thead>\n  <tbody>\n    <tr>\n      <th>0</th>\n      <td>Y</td>\n      <td>y</td>\n    </tr>\n    <tr>\n      <th>1</th>\n      <td>N</td>\n      <td>n</td>\n    </tr>\n    <tr>\n      <th>2</th>\n      <td>Y</td>\n      <td>y</td>\n    </tr>\n    <tr>\n      <th>3</th>\n      <td>no</td>\n      <td>n</td>\n    </tr>\n    <tr>\n      <th>4</th>\n      <td>yes</td>\n      <td>y</td>\n    </tr>\n    <tr>\n      <th>5</th>\n      <td>NaN</td>\n      <td>NaN</td>\n    </tr>\n    <tr>\n      <th>6</th>\n      <td>Y</td>\n      <td>y</td>\n    </tr>\n    <tr>\n      <th>7</th>\n      <td>N</td>\n      <td>n</td>\n    </tr>\n    <tr>\n      <th>8</th>\n      <td>yes</td>\n      <td>y</td>\n    </tr>\n    <tr>\n      <th>9</th>\n      <td>NaN</td>\n      <td>NaN</td>\n    </tr>\n    <tr>\n      <th>10</th>\n      <td>Y</td>\n      <td>y</td>\n    </tr>\n    <tr>\n      <th>11</th>\n      <td>no</td>\n      <td>n</td>\n    </tr>\n    <tr>\n      <th>12</th>\n      <td>YES</td>\n      <td>y</td>\n    </tr>\n    <tr>\n      <th>13</th>\n      <td>N</td>\n      <td>n</td>\n    </tr>\n    <tr>\n      <th>14</th>\n      <td>yes</td>\n      <td>y</td>\n    </tr>\n    <tr>\n      <th>15</th>\n      <td>NO</td>\n      <td>n</td>\n    </tr>\n    <tr>\n      <th>16</th>\n      <td>Y</td>\n      <td>y</td>\n    </tr>\n    <tr>\n      <th>17</th>\n      <td>N</td>\n      <td>n</td>\n    </tr>\n    <tr>\n      <th>18</th>\n      <td>y</td>\n      <td>y</td>\n    </tr>\n    <tr>\n      <th>19</th>\n      <td>NaN</td>\n      <td>NaN</td>\n    </tr>\n  </tbody>\n</table>\n</div>"
     },
     "execution_count": 237,
     "metadata": {},
     "output_type": "execute_result"
    }
   ],
   "source": [
    "df[['Have Children', 'Have_Children_clean']]\n"
   ],
   "metadata": {
    "collapsed": false
   }
  },
  {
   "cell_type": "code",
   "execution_count": 238,
   "outputs": [],
   "source": [
    "df['Number_of_Children_clean'] = pd.to_numeric(df['Number of Children'], errors='coerce')\n"
   ],
   "metadata": {
    "collapsed": false
   }
  },
  {
   "cell_type": "code",
   "execution_count": 239,
   "outputs": [
    {
     "data": {
      "text/plain": "   Number of Children  Number_of_Children_clean\n0                   2                       2.0\n1                   1                       1.0\n2                   3                       3.0\n3                  -1                      -1.0\n4                five                       NaN\n5                   0                       0.0\n6                   1                       1.0\n7                   3                       3.0\n8                   2                       2.0\n9                  -1                      -1.0\n10                  0                       0.0\n11                NaN                       NaN\n12              three                       NaN\n13                 -2                      -2.0\n14                  2                       2.0\n15                  2                       2.0\n16                  1                       1.0\n17                  0                       0.0\n18                two                       NaN\n19                NaN                       NaN",
      "text/html": "<div>\n<style scoped>\n    .dataframe tbody tr th:only-of-type {\n        vertical-align: middle;\n    }\n\n    .dataframe tbody tr th {\n        vertical-align: top;\n    }\n\n    .dataframe thead th {\n        text-align: right;\n    }\n</style>\n<table border=\"1\" class=\"dataframe\">\n  <thead>\n    <tr style=\"text-align: right;\">\n      <th></th>\n      <th>Number of Children</th>\n      <th>Number_of_Children_clean</th>\n    </tr>\n  </thead>\n  <tbody>\n    <tr>\n      <th>0</th>\n      <td>2</td>\n      <td>2.0</td>\n    </tr>\n    <tr>\n      <th>1</th>\n      <td>1</td>\n      <td>1.0</td>\n    </tr>\n    <tr>\n      <th>2</th>\n      <td>3</td>\n      <td>3.0</td>\n    </tr>\n    <tr>\n      <th>3</th>\n      <td>-1</td>\n      <td>-1.0</td>\n    </tr>\n    <tr>\n      <th>4</th>\n      <td>five</td>\n      <td>NaN</td>\n    </tr>\n    <tr>\n      <th>5</th>\n      <td>0</td>\n      <td>0.0</td>\n    </tr>\n    <tr>\n      <th>6</th>\n      <td>1</td>\n      <td>1.0</td>\n    </tr>\n    <tr>\n      <th>7</th>\n      <td>3</td>\n      <td>3.0</td>\n    </tr>\n    <tr>\n      <th>8</th>\n      <td>2</td>\n      <td>2.0</td>\n    </tr>\n    <tr>\n      <th>9</th>\n      <td>-1</td>\n      <td>-1.0</td>\n    </tr>\n    <tr>\n      <th>10</th>\n      <td>0</td>\n      <td>0.0</td>\n    </tr>\n    <tr>\n      <th>11</th>\n      <td>NaN</td>\n      <td>NaN</td>\n    </tr>\n    <tr>\n      <th>12</th>\n      <td>three</td>\n      <td>NaN</td>\n    </tr>\n    <tr>\n      <th>13</th>\n      <td>-2</td>\n      <td>-2.0</td>\n    </tr>\n    <tr>\n      <th>14</th>\n      <td>2</td>\n      <td>2.0</td>\n    </tr>\n    <tr>\n      <th>15</th>\n      <td>2</td>\n      <td>2.0</td>\n    </tr>\n    <tr>\n      <th>16</th>\n      <td>1</td>\n      <td>1.0</td>\n    </tr>\n    <tr>\n      <th>17</th>\n      <td>0</td>\n      <td>0.0</td>\n    </tr>\n    <tr>\n      <th>18</th>\n      <td>two</td>\n      <td>NaN</td>\n    </tr>\n    <tr>\n      <th>19</th>\n      <td>NaN</td>\n      <td>NaN</td>\n    </tr>\n  </tbody>\n</table>\n</div>"
     },
     "execution_count": 239,
     "metadata": {},
     "output_type": "execute_result"
    }
   ],
   "source": [
    "df[['Number of Children', 'Number_of_Children_clean']]\n"
   ],
   "metadata": {
    "collapsed": false
   }
  },
  {
   "cell_type": "code",
   "execution_count": 240,
   "outputs": [],
   "source": [
    "df['Number_of_Children_clean'] = df['Number_of_Children_clean'].apply(lambda x: x if x >= 0 else None)\n"
   ],
   "metadata": {
    "collapsed": false
   }
  },
  {
   "cell_type": "code",
   "execution_count": 241,
   "outputs": [
    {
     "data": {
      "text/plain": "   Number of Children  Number_of_Children_clean\n0                   2                       2.0\n1                   1                       1.0\n2                   3                       3.0\n3                  -1                       NaN\n4                five                       NaN\n5                   0                       0.0\n6                   1                       1.0\n7                   3                       3.0\n8                   2                       2.0\n9                  -1                       NaN\n10                  0                       0.0\n11                NaN                       NaN\n12              three                       NaN\n13                 -2                       NaN\n14                  2                       2.0\n15                  2                       2.0\n16                  1                       1.0\n17                  0                       0.0\n18                two                       NaN\n19                NaN                       NaN",
      "text/html": "<div>\n<style scoped>\n    .dataframe tbody tr th:only-of-type {\n        vertical-align: middle;\n    }\n\n    .dataframe tbody tr th {\n        vertical-align: top;\n    }\n\n    .dataframe thead th {\n        text-align: right;\n    }\n</style>\n<table border=\"1\" class=\"dataframe\">\n  <thead>\n    <tr style=\"text-align: right;\">\n      <th></th>\n      <th>Number of Children</th>\n      <th>Number_of_Children_clean</th>\n    </tr>\n  </thead>\n  <tbody>\n    <tr>\n      <th>0</th>\n      <td>2</td>\n      <td>2.0</td>\n    </tr>\n    <tr>\n      <th>1</th>\n      <td>1</td>\n      <td>1.0</td>\n    </tr>\n    <tr>\n      <th>2</th>\n      <td>3</td>\n      <td>3.0</td>\n    </tr>\n    <tr>\n      <th>3</th>\n      <td>-1</td>\n      <td>NaN</td>\n    </tr>\n    <tr>\n      <th>4</th>\n      <td>five</td>\n      <td>NaN</td>\n    </tr>\n    <tr>\n      <th>5</th>\n      <td>0</td>\n      <td>0.0</td>\n    </tr>\n    <tr>\n      <th>6</th>\n      <td>1</td>\n      <td>1.0</td>\n    </tr>\n    <tr>\n      <th>7</th>\n      <td>3</td>\n      <td>3.0</td>\n    </tr>\n    <tr>\n      <th>8</th>\n      <td>2</td>\n      <td>2.0</td>\n    </tr>\n    <tr>\n      <th>9</th>\n      <td>-1</td>\n      <td>NaN</td>\n    </tr>\n    <tr>\n      <th>10</th>\n      <td>0</td>\n      <td>0.0</td>\n    </tr>\n    <tr>\n      <th>11</th>\n      <td>NaN</td>\n      <td>NaN</td>\n    </tr>\n    <tr>\n      <th>12</th>\n      <td>three</td>\n      <td>NaN</td>\n    </tr>\n    <tr>\n      <th>13</th>\n      <td>-2</td>\n      <td>NaN</td>\n    </tr>\n    <tr>\n      <th>14</th>\n      <td>2</td>\n      <td>2.0</td>\n    </tr>\n    <tr>\n      <th>15</th>\n      <td>2</td>\n      <td>2.0</td>\n    </tr>\n    <tr>\n      <th>16</th>\n      <td>1</td>\n      <td>1.0</td>\n    </tr>\n    <tr>\n      <th>17</th>\n      <td>0</td>\n      <td>0.0</td>\n    </tr>\n    <tr>\n      <th>18</th>\n      <td>two</td>\n      <td>NaN</td>\n    </tr>\n    <tr>\n      <th>19</th>\n      <td>NaN</td>\n      <td>NaN</td>\n    </tr>\n  </tbody>\n</table>\n</div>"
     },
     "execution_count": 241,
     "metadata": {},
     "output_type": "execute_result"
    }
   ],
   "source": [
    "df[['Number of Children', 'Number_of_Children_clean']]\n"
   ],
   "metadata": {
    "collapsed": false
   }
  },
  {
   "cell_type": "code",
   "execution_count": 242,
   "outputs": [
    {
     "data": {
      "text/plain": "0     2.0\n1     1.0\n2     3.0\n3     nan\n4     nan\n5     0.0\n6     1.0\n7     3.0\n8     2.0\n9     nan\n10    0.0\n11    nan\n12    nan\n13    nan\n14    2.0\n15    2.0\n16    1.0\n17    0.0\n18    nan\n19    nan\nName: Number_of_Children_clean, dtype: object"
     },
     "execution_count": 242,
     "metadata": {},
     "output_type": "execute_result"
    }
   ],
   "source": [
    "df.Number_of_Children_clean.astype('str')\n",
    "\n",
    "# def children_for_no(x):\n",
    "#     if x == 0 and df.Have_Children_clean == 'n':\n",
    "#         return x\n"
   ],
   "metadata": {
    "collapsed": false
   }
  },
  {
   "cell_type": "code",
   "execution_count": 244,
   "outputs": [
    {
     "data": {
      "text/plain": "dtype('float64')"
     },
     "execution_count": 244,
     "metadata": {},
     "output_type": "execute_result"
    }
   ],
   "source": [
    "df.Number_of_Children_clean.dtype"
   ],
   "metadata": {
    "collapsed": false
   }
  },
  {
   "cell_type": "code",
   "execution_count": 256,
   "outputs": [
    {
     "data": {
      "text/plain": "0       y\n1       n\n2       y\n3       n\n4       y\n5     nan\n6       y\n7       n\n8       y\n9     nan\n10      y\n11      n\n12      y\n13      n\n14      y\n15      n\n16      y\n17      n\n18      y\n19    nan\nName: Have_Children_clean, dtype: object"
     },
     "execution_count": 256,
     "metadata": {},
     "output_type": "execute_result"
    }
   ],
   "source": [
    "df.Have_Children_clean.astype('str')\n",
    "\n"
   ],
   "metadata": {
    "collapsed": false
   }
  },
  {
   "cell_type": "code",
   "execution_count": 259,
   "outputs": [
    {
     "data": {
      "text/plain": "dtype('O')"
     },
     "execution_count": 259,
     "metadata": {},
     "output_type": "execute_result"
    }
   ],
   "source": [
    "df.Have_Children_clean.dtype\n"
   ],
   "metadata": {
    "collapsed": false
   }
  },
  {
   "cell_type": "code",
   "execution_count": 281,
   "outputs": [],
   "source": [
    "def check_num_of_children(row):\n",
    "    check1 = row.Have_Children_clean=='n' and row.Number_of_Children_clean > 0\n",
    "    check2 = row.Have_Children_clean=='y' and row.Number_of_Children_clean == 0\n",
    "    if check1:\n",
    "        return 0\n",
    "    elif check2:\n",
    "        return None\n",
    "    else:\n",
    "        return row.Number_of_Children_clean\n"
   ],
   "metadata": {
    "collapsed": false
   }
  },
  {
   "cell_type": "code",
   "execution_count": 282,
   "outputs": [],
   "source": [
    "df['children_cross_ok'] = df.apply(check_num_of_children, axis=1)\n"
   ],
   "metadata": {
    "collapsed": false
   }
  },
  {
   "cell_type": "code",
   "execution_count": 283,
   "outputs": [
    {
     "data": {
      "text/plain": "     ID          Name Age Gender                  Email     Occupation  \\\n0     1    John Smith  35      M    johnsmith@gmail.com       Engineer   \n1   two      Jane Doe  28      F    janedoe@hotmail.com      Scientist   \n2     3    Mark Brown  42      M                     xx         Doctor   \n3     4      Mary Lee   a      F  marylee@invalid-email  Sales Manager   \n4     5    David Chen  27      M    davidchen@gmail.com         Lawyer   \n5     6     Janny Low  32      F   jennylow@hotmail.com     Programmer   \n6     7    Carlos Lee  39      M    carloslee@gmail.com       Engineer   \n7     8      Samantha  24      F     samantha@gmail.com         Doctor   \n8     9     Brian Kim  31      M     briankim@gmail.com        Teacher   \n9    10      John Dow  44      M      johndoe@gmail.com     Programmer   \n10    x    Alice Wong  29      F    alicewong@yahoo.com       Engineer   \n11   12      Rose Lee  34      e      roselee@gmail.com            nnn   \n12   13           NaN  38      F  rachelkim@hotmail.com     Accountant   \n13  NaN    Michael Wu  27      M    michaelwu@gmail.com  Sales Manager   \n14   15           ???   b      F      anitali@yahoo.com        Teacher   \n15   16   William Tan  47      M   williamtan@gmail.com         Doctor   \n16   17     Emily Tan  25      F     emilytan@gmail.com       Engineer   \n17   18      Chris Li  36      M    chrisli@hotmail.com     Programmer   \n18   19  Sharon Gomez  42      F                     yy        Teacher   \n19   20    Jackson Wu  33      M    jacksonwu@gmail.com      Scientist   \n\n      Salary Have Children Number of Children         City_State ID_isDigit  \\\n0    $90,000             Y                  2       New York, NY       True   \n1    $85,000             N                  1  San Francisco, CA      False   \n2   $100,000             Y                  3         Boston, MA       True   \n3    $75,000            no                 -1        Chicago, IL       True   \n4    $95,000           yes               five         Dallas, TX       True   \n5    $80,000           NaN                  0          Miami, FL       True   \n6   $110,000             Y                  1        Phoenix, AZ       True   \n7        80k             N                  3        Atlanta, GA       True   \n8    $70,000           yes                  2         Denver, CO       True   \n9   $105,000           NaN                 -1       New York, NY       True   \n10   $85,000             Y                  0  San Francisco, CA      False   \n11  $120,000            no                NaN         Boston, MA       True   \n12   $90,000           YES              three        Chicago, IL       True   \n13   $80,000             N                 -2         Dallas, TX        NaN   \n14   $65,000           yes                  2          Miami, FL       True   \n15  $130,000            NO                  2        Phoenix, AZ       True   \n16   $90,000             Y                  1        Atlanta, GA       True   \n17   $95,000             N                  0         Denver, CO       True   \n18  $100,000             y                two       New York, NY       True   \n19   $95,000           NaN                NaN  San Francisco, CA       True   \n\n      Name_clean  Age_clean Gender_clean            Email_clean  \\\n0     John Smith       35.0            M    johnsmith@gmail.com   \n1       Jane Doe       28.0            F    janedoe@hotmail.com   \n2     Mark Brown       42.0            M                   None   \n3       Mary Lee        NaN            F                   None   \n4     David Chen       27.0            M    davidchen@gmail.com   \n5      Janny Low       32.0            F   jennylow@hotmail.com   \n6     Carlos Lee       39.0            M    carloslee@gmail.com   \n7       Samantha       24.0            F     samantha@gmail.com   \n8      Brian Kim       31.0            M     briankim@gmail.com   \n9       John Dow       44.0            M      johndoe@gmail.com   \n10    Alice Wong       29.0            F    alicewong@yahoo.com   \n11      Rose Lee       34.0         None      roselee@gmail.com   \n12           nan       38.0            F  rachelkim@hotmail.com   \n13    Michael Wu       27.0            M    michaelwu@gmail.com   \n14          None        NaN            F      anitali@yahoo.com   \n15   William Tan       47.0            M   williamtan@gmail.com   \n16     Emily Tan       25.0            F     emilytan@gmail.com   \n17      Chris Li       36.0            M    chrisli@hotmail.com   \n18  Sharon Gomez       42.0            F                   None   \n19    Jackson Wu       33.0            M    jacksonwu@gmail.com   \n\n   Occupation_clean Salary_clean Have_Children_clean  \\\n0          Engineer        90000                   y   \n1         Scientist        85000                   n   \n2            Doctor       100000                   y   \n3     Sales Manager        75000                   n   \n4            Lawyer        95000                   y   \n5        Programmer        80000                 NaN   \n6          Engineer       110000                   y   \n7            Doctor        80000                   n   \n8           Teacher        70000                   y   \n9        Programmer       105000                 NaN   \n10         Engineer        85000                   y   \n11             None       120000                   n   \n12       Accountant        90000                   y   \n13    Sales Manager        80000                   n   \n14          Teacher        65000                   y   \n15           Doctor       130000                   n   \n16         Engineer        90000                   y   \n17       Programmer        95000                   n   \n18          Teacher       100000                   y   \n19        Scientist        95000                 NaN   \n\n    Number_of_Children_clean  children_cross_ok  \n0                        2.0                2.0  \n1                        1.0                0.0  \n2                        3.0                3.0  \n3                        NaN                NaN  \n4                        NaN                NaN  \n5                        0.0                0.0  \n6                        1.0                1.0  \n7                        3.0                0.0  \n8                        2.0                2.0  \n9                        NaN                NaN  \n10                       0.0                NaN  \n11                       NaN                NaN  \n12                       NaN                NaN  \n13                       NaN                NaN  \n14                       2.0                2.0  \n15                       2.0                0.0  \n16                       1.0                1.0  \n17                       0.0                0.0  \n18                       NaN                NaN  \n19                       NaN                NaN  ",
      "text/html": "<div>\n<style scoped>\n    .dataframe tbody tr th:only-of-type {\n        vertical-align: middle;\n    }\n\n    .dataframe tbody tr th {\n        vertical-align: top;\n    }\n\n    .dataframe thead th {\n        text-align: right;\n    }\n</style>\n<table border=\"1\" class=\"dataframe\">\n  <thead>\n    <tr style=\"text-align: right;\">\n      <th></th>\n      <th>ID</th>\n      <th>Name</th>\n      <th>Age</th>\n      <th>Gender</th>\n      <th>Email</th>\n      <th>Occupation</th>\n      <th>Salary</th>\n      <th>Have Children</th>\n      <th>Number of Children</th>\n      <th>City_State</th>\n      <th>ID_isDigit</th>\n      <th>Name_clean</th>\n      <th>Age_clean</th>\n      <th>Gender_clean</th>\n      <th>Email_clean</th>\n      <th>Occupation_clean</th>\n      <th>Salary_clean</th>\n      <th>Have_Children_clean</th>\n      <th>Number_of_Children_clean</th>\n      <th>children_cross_ok</th>\n    </tr>\n  </thead>\n  <tbody>\n    <tr>\n      <th>0</th>\n      <td>1</td>\n      <td>John Smith</td>\n      <td>35</td>\n      <td>M</td>\n      <td>johnsmith@gmail.com</td>\n      <td>Engineer</td>\n      <td>$90,000</td>\n      <td>Y</td>\n      <td>2</td>\n      <td>New York, NY</td>\n      <td>True</td>\n      <td>John Smith</td>\n      <td>35.0</td>\n      <td>M</td>\n      <td>johnsmith@gmail.com</td>\n      <td>Engineer</td>\n      <td>90000</td>\n      <td>y</td>\n      <td>2.0</td>\n      <td>2.0</td>\n    </tr>\n    <tr>\n      <th>1</th>\n      <td>two</td>\n      <td>Jane Doe</td>\n      <td>28</td>\n      <td>F</td>\n      <td>janedoe@hotmail.com</td>\n      <td>Scientist</td>\n      <td>$85,000</td>\n      <td>N</td>\n      <td>1</td>\n      <td>San Francisco, CA</td>\n      <td>False</td>\n      <td>Jane Doe</td>\n      <td>28.0</td>\n      <td>F</td>\n      <td>janedoe@hotmail.com</td>\n      <td>Scientist</td>\n      <td>85000</td>\n      <td>n</td>\n      <td>1.0</td>\n      <td>0.0</td>\n    </tr>\n    <tr>\n      <th>2</th>\n      <td>3</td>\n      <td>Mark Brown</td>\n      <td>42</td>\n      <td>M</td>\n      <td>xx</td>\n      <td>Doctor</td>\n      <td>$100,000</td>\n      <td>Y</td>\n      <td>3</td>\n      <td>Boston, MA</td>\n      <td>True</td>\n      <td>Mark Brown</td>\n      <td>42.0</td>\n      <td>M</td>\n      <td>None</td>\n      <td>Doctor</td>\n      <td>100000</td>\n      <td>y</td>\n      <td>3.0</td>\n      <td>3.0</td>\n    </tr>\n    <tr>\n      <th>3</th>\n      <td>4</td>\n      <td>Mary Lee</td>\n      <td>a</td>\n      <td>F</td>\n      <td>marylee@invalid-email</td>\n      <td>Sales Manager</td>\n      <td>$75,000</td>\n      <td>no</td>\n      <td>-1</td>\n      <td>Chicago, IL</td>\n      <td>True</td>\n      <td>Mary Lee</td>\n      <td>NaN</td>\n      <td>F</td>\n      <td>None</td>\n      <td>Sales Manager</td>\n      <td>75000</td>\n      <td>n</td>\n      <td>NaN</td>\n      <td>NaN</td>\n    </tr>\n    <tr>\n      <th>4</th>\n      <td>5</td>\n      <td>David Chen</td>\n      <td>27</td>\n      <td>M</td>\n      <td>davidchen@gmail.com</td>\n      <td>Lawyer</td>\n      <td>$95,000</td>\n      <td>yes</td>\n      <td>five</td>\n      <td>Dallas, TX</td>\n      <td>True</td>\n      <td>David Chen</td>\n      <td>27.0</td>\n      <td>M</td>\n      <td>davidchen@gmail.com</td>\n      <td>Lawyer</td>\n      <td>95000</td>\n      <td>y</td>\n      <td>NaN</td>\n      <td>NaN</td>\n    </tr>\n    <tr>\n      <th>5</th>\n      <td>6</td>\n      <td>Janny Low</td>\n      <td>32</td>\n      <td>F</td>\n      <td>jennylow@hotmail.com</td>\n      <td>Programmer</td>\n      <td>$80,000</td>\n      <td>NaN</td>\n      <td>0</td>\n      <td>Miami, FL</td>\n      <td>True</td>\n      <td>Janny Low</td>\n      <td>32.0</td>\n      <td>F</td>\n      <td>jennylow@hotmail.com</td>\n      <td>Programmer</td>\n      <td>80000</td>\n      <td>NaN</td>\n      <td>0.0</td>\n      <td>0.0</td>\n    </tr>\n    <tr>\n      <th>6</th>\n      <td>7</td>\n      <td>Carlos Lee</td>\n      <td>39</td>\n      <td>M</td>\n      <td>carloslee@gmail.com</td>\n      <td>Engineer</td>\n      <td>$110,000</td>\n      <td>Y</td>\n      <td>1</td>\n      <td>Phoenix, AZ</td>\n      <td>True</td>\n      <td>Carlos Lee</td>\n      <td>39.0</td>\n      <td>M</td>\n      <td>carloslee@gmail.com</td>\n      <td>Engineer</td>\n      <td>110000</td>\n      <td>y</td>\n      <td>1.0</td>\n      <td>1.0</td>\n    </tr>\n    <tr>\n      <th>7</th>\n      <td>8</td>\n      <td>Samantha</td>\n      <td>24</td>\n      <td>F</td>\n      <td>samantha@gmail.com</td>\n      <td>Doctor</td>\n      <td>80k</td>\n      <td>N</td>\n      <td>3</td>\n      <td>Atlanta, GA</td>\n      <td>True</td>\n      <td>Samantha</td>\n      <td>24.0</td>\n      <td>F</td>\n      <td>samantha@gmail.com</td>\n      <td>Doctor</td>\n      <td>80000</td>\n      <td>n</td>\n      <td>3.0</td>\n      <td>0.0</td>\n    </tr>\n    <tr>\n      <th>8</th>\n      <td>9</td>\n      <td>Brian Kim</td>\n      <td>31</td>\n      <td>M</td>\n      <td>briankim@gmail.com</td>\n      <td>Teacher</td>\n      <td>$70,000</td>\n      <td>yes</td>\n      <td>2</td>\n      <td>Denver, CO</td>\n      <td>True</td>\n      <td>Brian Kim</td>\n      <td>31.0</td>\n      <td>M</td>\n      <td>briankim@gmail.com</td>\n      <td>Teacher</td>\n      <td>70000</td>\n      <td>y</td>\n      <td>2.0</td>\n      <td>2.0</td>\n    </tr>\n    <tr>\n      <th>9</th>\n      <td>10</td>\n      <td>John Dow</td>\n      <td>44</td>\n      <td>M</td>\n      <td>johndoe@gmail.com</td>\n      <td>Programmer</td>\n      <td>$105,000</td>\n      <td>NaN</td>\n      <td>-1</td>\n      <td>New York, NY</td>\n      <td>True</td>\n      <td>John Dow</td>\n      <td>44.0</td>\n      <td>M</td>\n      <td>johndoe@gmail.com</td>\n      <td>Programmer</td>\n      <td>105000</td>\n      <td>NaN</td>\n      <td>NaN</td>\n      <td>NaN</td>\n    </tr>\n    <tr>\n      <th>10</th>\n      <td>x</td>\n      <td>Alice Wong</td>\n      <td>29</td>\n      <td>F</td>\n      <td>alicewong@yahoo.com</td>\n      <td>Engineer</td>\n      <td>$85,000</td>\n      <td>Y</td>\n      <td>0</td>\n      <td>San Francisco, CA</td>\n      <td>False</td>\n      <td>Alice Wong</td>\n      <td>29.0</td>\n      <td>F</td>\n      <td>alicewong@yahoo.com</td>\n      <td>Engineer</td>\n      <td>85000</td>\n      <td>y</td>\n      <td>0.0</td>\n      <td>NaN</td>\n    </tr>\n    <tr>\n      <th>11</th>\n      <td>12</td>\n      <td>Rose Lee</td>\n      <td>34</td>\n      <td>e</td>\n      <td>roselee@gmail.com</td>\n      <td>nnn</td>\n      <td>$120,000</td>\n      <td>no</td>\n      <td>NaN</td>\n      <td>Boston, MA</td>\n      <td>True</td>\n      <td>Rose Lee</td>\n      <td>34.0</td>\n      <td>None</td>\n      <td>roselee@gmail.com</td>\n      <td>None</td>\n      <td>120000</td>\n      <td>n</td>\n      <td>NaN</td>\n      <td>NaN</td>\n    </tr>\n    <tr>\n      <th>12</th>\n      <td>13</td>\n      <td>NaN</td>\n      <td>38</td>\n      <td>F</td>\n      <td>rachelkim@hotmail.com</td>\n      <td>Accountant</td>\n      <td>$90,000</td>\n      <td>YES</td>\n      <td>three</td>\n      <td>Chicago, IL</td>\n      <td>True</td>\n      <td>nan</td>\n      <td>38.0</td>\n      <td>F</td>\n      <td>rachelkim@hotmail.com</td>\n      <td>Accountant</td>\n      <td>90000</td>\n      <td>y</td>\n      <td>NaN</td>\n      <td>NaN</td>\n    </tr>\n    <tr>\n      <th>13</th>\n      <td>NaN</td>\n      <td>Michael Wu</td>\n      <td>27</td>\n      <td>M</td>\n      <td>michaelwu@gmail.com</td>\n      <td>Sales Manager</td>\n      <td>$80,000</td>\n      <td>N</td>\n      <td>-2</td>\n      <td>Dallas, TX</td>\n      <td>NaN</td>\n      <td>Michael Wu</td>\n      <td>27.0</td>\n      <td>M</td>\n      <td>michaelwu@gmail.com</td>\n      <td>Sales Manager</td>\n      <td>80000</td>\n      <td>n</td>\n      <td>NaN</td>\n      <td>NaN</td>\n    </tr>\n    <tr>\n      <th>14</th>\n      <td>15</td>\n      <td>???</td>\n      <td>b</td>\n      <td>F</td>\n      <td>anitali@yahoo.com</td>\n      <td>Teacher</td>\n      <td>$65,000</td>\n      <td>yes</td>\n      <td>2</td>\n      <td>Miami, FL</td>\n      <td>True</td>\n      <td>None</td>\n      <td>NaN</td>\n      <td>F</td>\n      <td>anitali@yahoo.com</td>\n      <td>Teacher</td>\n      <td>65000</td>\n      <td>y</td>\n      <td>2.0</td>\n      <td>2.0</td>\n    </tr>\n    <tr>\n      <th>15</th>\n      <td>16</td>\n      <td>William Tan</td>\n      <td>47</td>\n      <td>M</td>\n      <td>williamtan@gmail.com</td>\n      <td>Doctor</td>\n      <td>$130,000</td>\n      <td>NO</td>\n      <td>2</td>\n      <td>Phoenix, AZ</td>\n      <td>True</td>\n      <td>William Tan</td>\n      <td>47.0</td>\n      <td>M</td>\n      <td>williamtan@gmail.com</td>\n      <td>Doctor</td>\n      <td>130000</td>\n      <td>n</td>\n      <td>2.0</td>\n      <td>0.0</td>\n    </tr>\n    <tr>\n      <th>16</th>\n      <td>17</td>\n      <td>Emily Tan</td>\n      <td>25</td>\n      <td>F</td>\n      <td>emilytan@gmail.com</td>\n      <td>Engineer</td>\n      <td>$90,000</td>\n      <td>Y</td>\n      <td>1</td>\n      <td>Atlanta, GA</td>\n      <td>True</td>\n      <td>Emily Tan</td>\n      <td>25.0</td>\n      <td>F</td>\n      <td>emilytan@gmail.com</td>\n      <td>Engineer</td>\n      <td>90000</td>\n      <td>y</td>\n      <td>1.0</td>\n      <td>1.0</td>\n    </tr>\n    <tr>\n      <th>17</th>\n      <td>18</td>\n      <td>Chris Li</td>\n      <td>36</td>\n      <td>M</td>\n      <td>chrisli@hotmail.com</td>\n      <td>Programmer</td>\n      <td>$95,000</td>\n      <td>N</td>\n      <td>0</td>\n      <td>Denver, CO</td>\n      <td>True</td>\n      <td>Chris Li</td>\n      <td>36.0</td>\n      <td>M</td>\n      <td>chrisli@hotmail.com</td>\n      <td>Programmer</td>\n      <td>95000</td>\n      <td>n</td>\n      <td>0.0</td>\n      <td>0.0</td>\n    </tr>\n    <tr>\n      <th>18</th>\n      <td>19</td>\n      <td>Sharon Gomez</td>\n      <td>42</td>\n      <td>F</td>\n      <td>yy</td>\n      <td>Teacher</td>\n      <td>$100,000</td>\n      <td>y</td>\n      <td>two</td>\n      <td>New York, NY</td>\n      <td>True</td>\n      <td>Sharon Gomez</td>\n      <td>42.0</td>\n      <td>F</td>\n      <td>None</td>\n      <td>Teacher</td>\n      <td>100000</td>\n      <td>y</td>\n      <td>NaN</td>\n      <td>NaN</td>\n    </tr>\n    <tr>\n      <th>19</th>\n      <td>20</td>\n      <td>Jackson Wu</td>\n      <td>33</td>\n      <td>M</td>\n      <td>jacksonwu@gmail.com</td>\n      <td>Scientist</td>\n      <td>$95,000</td>\n      <td>NaN</td>\n      <td>NaN</td>\n      <td>San Francisco, CA</td>\n      <td>True</td>\n      <td>Jackson Wu</td>\n      <td>33.0</td>\n      <td>M</td>\n      <td>jacksonwu@gmail.com</td>\n      <td>Scientist</td>\n      <td>95000</td>\n      <td>NaN</td>\n      <td>NaN</td>\n      <td>NaN</td>\n    </tr>\n  </tbody>\n</table>\n</div>"
     },
     "execution_count": 283,
     "metadata": {},
     "output_type": "execute_result"
    }
   ],
   "source": [
    "df\n"
   ],
   "metadata": {
    "collapsed": false
   }
  },
  {
   "cell_type": "code",
   "execution_count": 279,
   "outputs": [
    {
     "data": {
      "text/plain": "     ID         Name Age Gender                 Email  Occupation    Salary  \\\n1   two     Jane Doe  28      F   janedoe@hotmail.com   Scientist   $85,000   \n5     6    Janny Low  32      F  jennylow@hotmail.com  Programmer   $80,000   \n7     8     Samantha  24      F    samantha@gmail.com      Doctor       80k   \n15   16  William Tan  47      M  williamtan@gmail.com      Doctor  $130,000   \n17   18     Chris Li  36      M   chrisli@hotmail.com  Programmer   $95,000   \n\n   Have Children Number of Children         City_State ID_isDigit  \\\n1              N                  1  San Francisco, CA      False   \n5            NaN                  0          Miami, FL       True   \n7              N                  3        Atlanta, GA       True   \n15            NO                  2        Phoenix, AZ       True   \n17             N                  0         Denver, CO       True   \n\n     Name_clean  Age_clean Gender_clean           Email_clean  \\\n1      Jane Doe       28.0            F   janedoe@hotmail.com   \n5     Janny Low       32.0            F  jennylow@hotmail.com   \n7      Samantha       24.0            F    samantha@gmail.com   \n15  William Tan       47.0            M  williamtan@gmail.com   \n17     Chris Li       36.0            M   chrisli@hotmail.com   \n\n   Occupation_clean Salary_clean Have_Children_clean  \\\n1         Scientist        85000                   n   \n5        Programmer        80000                 NaN   \n7            Doctor        80000                   n   \n15           Doctor       130000                   n   \n17       Programmer        95000                   n   \n\n    Number_of_Children_clean  children_cross_ok  \n1                        1.0                0.0  \n5                        0.0                0.0  \n7                        3.0                0.0  \n15                       2.0                0.0  \n17                       0.0                0.0  ",
      "text/html": "<div>\n<style scoped>\n    .dataframe tbody tr th:only-of-type {\n        vertical-align: middle;\n    }\n\n    .dataframe tbody tr th {\n        vertical-align: top;\n    }\n\n    .dataframe thead th {\n        text-align: right;\n    }\n</style>\n<table border=\"1\" class=\"dataframe\">\n  <thead>\n    <tr style=\"text-align: right;\">\n      <th></th>\n      <th>ID</th>\n      <th>Name</th>\n      <th>Age</th>\n      <th>Gender</th>\n      <th>Email</th>\n      <th>Occupation</th>\n      <th>Salary</th>\n      <th>Have Children</th>\n      <th>Number of Children</th>\n      <th>City_State</th>\n      <th>ID_isDigit</th>\n      <th>Name_clean</th>\n      <th>Age_clean</th>\n      <th>Gender_clean</th>\n      <th>Email_clean</th>\n      <th>Occupation_clean</th>\n      <th>Salary_clean</th>\n      <th>Have_Children_clean</th>\n      <th>Number_of_Children_clean</th>\n      <th>children_cross_ok</th>\n    </tr>\n  </thead>\n  <tbody>\n    <tr>\n      <th>1</th>\n      <td>two</td>\n      <td>Jane Doe</td>\n      <td>28</td>\n      <td>F</td>\n      <td>janedoe@hotmail.com</td>\n      <td>Scientist</td>\n      <td>$85,000</td>\n      <td>N</td>\n      <td>1</td>\n      <td>San Francisco, CA</td>\n      <td>False</td>\n      <td>Jane Doe</td>\n      <td>28.0</td>\n      <td>F</td>\n      <td>janedoe@hotmail.com</td>\n      <td>Scientist</td>\n      <td>85000</td>\n      <td>n</td>\n      <td>1.0</td>\n      <td>0.0</td>\n    </tr>\n    <tr>\n      <th>5</th>\n      <td>6</td>\n      <td>Janny Low</td>\n      <td>32</td>\n      <td>F</td>\n      <td>jennylow@hotmail.com</td>\n      <td>Programmer</td>\n      <td>$80,000</td>\n      <td>NaN</td>\n      <td>0</td>\n      <td>Miami, FL</td>\n      <td>True</td>\n      <td>Janny Low</td>\n      <td>32.0</td>\n      <td>F</td>\n      <td>jennylow@hotmail.com</td>\n      <td>Programmer</td>\n      <td>80000</td>\n      <td>NaN</td>\n      <td>0.0</td>\n      <td>0.0</td>\n    </tr>\n    <tr>\n      <th>7</th>\n      <td>8</td>\n      <td>Samantha</td>\n      <td>24</td>\n      <td>F</td>\n      <td>samantha@gmail.com</td>\n      <td>Doctor</td>\n      <td>80k</td>\n      <td>N</td>\n      <td>3</td>\n      <td>Atlanta, GA</td>\n      <td>True</td>\n      <td>Samantha</td>\n      <td>24.0</td>\n      <td>F</td>\n      <td>samantha@gmail.com</td>\n      <td>Doctor</td>\n      <td>80000</td>\n      <td>n</td>\n      <td>3.0</td>\n      <td>0.0</td>\n    </tr>\n    <tr>\n      <th>15</th>\n      <td>16</td>\n      <td>William Tan</td>\n      <td>47</td>\n      <td>M</td>\n      <td>williamtan@gmail.com</td>\n      <td>Doctor</td>\n      <td>$130,000</td>\n      <td>NO</td>\n      <td>2</td>\n      <td>Phoenix, AZ</td>\n      <td>True</td>\n      <td>William Tan</td>\n      <td>47.0</td>\n      <td>M</td>\n      <td>williamtan@gmail.com</td>\n      <td>Doctor</td>\n      <td>130000</td>\n      <td>n</td>\n      <td>2.0</td>\n      <td>0.0</td>\n    </tr>\n    <tr>\n      <th>17</th>\n      <td>18</td>\n      <td>Chris Li</td>\n      <td>36</td>\n      <td>M</td>\n      <td>chrisli@hotmail.com</td>\n      <td>Programmer</td>\n      <td>$95,000</td>\n      <td>N</td>\n      <td>0</td>\n      <td>Denver, CO</td>\n      <td>True</td>\n      <td>Chris Li</td>\n      <td>36.0</td>\n      <td>M</td>\n      <td>chrisli@hotmail.com</td>\n      <td>Programmer</td>\n      <td>95000</td>\n      <td>n</td>\n      <td>0.0</td>\n      <td>0.0</td>\n    </tr>\n  </tbody>\n</table>\n</div>"
     },
     "execution_count": 279,
     "metadata": {},
     "output_type": "execute_result"
    }
   ],
   "source": [
    "df[df.children_cross_ok == 0]\n"
   ],
   "metadata": {
    "collapsed": false
   }
  },
  {
   "cell_type": "code",
   "execution_count": 284,
   "outputs": [
    {
     "data": {
      "text/plain": "    ID          Name Age Gender                  Email  Occupation    Salary  \\\n0    1    John Smith  35      M    johnsmith@gmail.com    Engineer   $90,000   \n2    3    Mark Brown  42      M                     xx      Doctor  $100,000   \n4    5    David Chen  27      M    davidchen@gmail.com      Lawyer   $95,000   \n6    7    Carlos Lee  39      M    carloslee@gmail.com    Engineer  $110,000   \n8    9     Brian Kim  31      M     briankim@gmail.com     Teacher   $70,000   \n10   x    Alice Wong  29      F    alicewong@yahoo.com    Engineer   $85,000   \n12  13           NaN  38      F  rachelkim@hotmail.com  Accountant   $90,000   \n14  15           ???   b      F      anitali@yahoo.com     Teacher   $65,000   \n16  17     Emily Tan  25      F     emilytan@gmail.com    Engineer   $90,000   \n18  19  Sharon Gomez  42      F                     yy     Teacher  $100,000   \n\n   Have Children Number of Children         City_State ID_isDigit  \\\n0              Y                  2       New York, NY       True   \n2              Y                  3         Boston, MA       True   \n4            yes               five         Dallas, TX       True   \n6              Y                  1        Phoenix, AZ       True   \n8            yes                  2         Denver, CO       True   \n10             Y                  0  San Francisco, CA      False   \n12           YES              three        Chicago, IL       True   \n14           yes                  2          Miami, FL       True   \n16             Y                  1        Atlanta, GA       True   \n18             y                two       New York, NY       True   \n\n      Name_clean  Age_clean Gender_clean            Email_clean  \\\n0     John Smith       35.0            M    johnsmith@gmail.com   \n2     Mark Brown       42.0            M                   None   \n4     David Chen       27.0            M    davidchen@gmail.com   \n6     Carlos Lee       39.0            M    carloslee@gmail.com   \n8      Brian Kim       31.0            M     briankim@gmail.com   \n10    Alice Wong       29.0            F    alicewong@yahoo.com   \n12           nan       38.0            F  rachelkim@hotmail.com   \n14          None        NaN            F      anitali@yahoo.com   \n16     Emily Tan       25.0            F     emilytan@gmail.com   \n18  Sharon Gomez       42.0            F                   None   \n\n   Occupation_clean Salary_clean Have_Children_clean  \\\n0          Engineer        90000                   y   \n2            Doctor       100000                   y   \n4            Lawyer        95000                   y   \n6          Engineer       110000                   y   \n8           Teacher        70000                   y   \n10         Engineer        85000                   y   \n12       Accountant        90000                   y   \n14          Teacher        65000                   y   \n16         Engineer        90000                   y   \n18          Teacher       100000                   y   \n\n    Number_of_Children_clean  children_cross_ok  \n0                        2.0                2.0  \n2                        3.0                3.0  \n4                        NaN                NaN  \n6                        1.0                1.0  \n8                        2.0                2.0  \n10                       0.0                NaN  \n12                       NaN                NaN  \n14                       2.0                2.0  \n16                       1.0                1.0  \n18                       NaN                NaN  ",
      "text/html": "<div>\n<style scoped>\n    .dataframe tbody tr th:only-of-type {\n        vertical-align: middle;\n    }\n\n    .dataframe tbody tr th {\n        vertical-align: top;\n    }\n\n    .dataframe thead th {\n        text-align: right;\n    }\n</style>\n<table border=\"1\" class=\"dataframe\">\n  <thead>\n    <tr style=\"text-align: right;\">\n      <th></th>\n      <th>ID</th>\n      <th>Name</th>\n      <th>Age</th>\n      <th>Gender</th>\n      <th>Email</th>\n      <th>Occupation</th>\n      <th>Salary</th>\n      <th>Have Children</th>\n      <th>Number of Children</th>\n      <th>City_State</th>\n      <th>ID_isDigit</th>\n      <th>Name_clean</th>\n      <th>Age_clean</th>\n      <th>Gender_clean</th>\n      <th>Email_clean</th>\n      <th>Occupation_clean</th>\n      <th>Salary_clean</th>\n      <th>Have_Children_clean</th>\n      <th>Number_of_Children_clean</th>\n      <th>children_cross_ok</th>\n    </tr>\n  </thead>\n  <tbody>\n    <tr>\n      <th>0</th>\n      <td>1</td>\n      <td>John Smith</td>\n      <td>35</td>\n      <td>M</td>\n      <td>johnsmith@gmail.com</td>\n      <td>Engineer</td>\n      <td>$90,000</td>\n      <td>Y</td>\n      <td>2</td>\n      <td>New York, NY</td>\n      <td>True</td>\n      <td>John Smith</td>\n      <td>35.0</td>\n      <td>M</td>\n      <td>johnsmith@gmail.com</td>\n      <td>Engineer</td>\n      <td>90000</td>\n      <td>y</td>\n      <td>2.0</td>\n      <td>2.0</td>\n    </tr>\n    <tr>\n      <th>2</th>\n      <td>3</td>\n      <td>Mark Brown</td>\n      <td>42</td>\n      <td>M</td>\n      <td>xx</td>\n      <td>Doctor</td>\n      <td>$100,000</td>\n      <td>Y</td>\n      <td>3</td>\n      <td>Boston, MA</td>\n      <td>True</td>\n      <td>Mark Brown</td>\n      <td>42.0</td>\n      <td>M</td>\n      <td>None</td>\n      <td>Doctor</td>\n      <td>100000</td>\n      <td>y</td>\n      <td>3.0</td>\n      <td>3.0</td>\n    </tr>\n    <tr>\n      <th>4</th>\n      <td>5</td>\n      <td>David Chen</td>\n      <td>27</td>\n      <td>M</td>\n      <td>davidchen@gmail.com</td>\n      <td>Lawyer</td>\n      <td>$95,000</td>\n      <td>yes</td>\n      <td>five</td>\n      <td>Dallas, TX</td>\n      <td>True</td>\n      <td>David Chen</td>\n      <td>27.0</td>\n      <td>M</td>\n      <td>davidchen@gmail.com</td>\n      <td>Lawyer</td>\n      <td>95000</td>\n      <td>y</td>\n      <td>NaN</td>\n      <td>NaN</td>\n    </tr>\n    <tr>\n      <th>6</th>\n      <td>7</td>\n      <td>Carlos Lee</td>\n      <td>39</td>\n      <td>M</td>\n      <td>carloslee@gmail.com</td>\n      <td>Engineer</td>\n      <td>$110,000</td>\n      <td>Y</td>\n      <td>1</td>\n      <td>Phoenix, AZ</td>\n      <td>True</td>\n      <td>Carlos Lee</td>\n      <td>39.0</td>\n      <td>M</td>\n      <td>carloslee@gmail.com</td>\n      <td>Engineer</td>\n      <td>110000</td>\n      <td>y</td>\n      <td>1.0</td>\n      <td>1.0</td>\n    </tr>\n    <tr>\n      <th>8</th>\n      <td>9</td>\n      <td>Brian Kim</td>\n      <td>31</td>\n      <td>M</td>\n      <td>briankim@gmail.com</td>\n      <td>Teacher</td>\n      <td>$70,000</td>\n      <td>yes</td>\n      <td>2</td>\n      <td>Denver, CO</td>\n      <td>True</td>\n      <td>Brian Kim</td>\n      <td>31.0</td>\n      <td>M</td>\n      <td>briankim@gmail.com</td>\n      <td>Teacher</td>\n      <td>70000</td>\n      <td>y</td>\n      <td>2.0</td>\n      <td>2.0</td>\n    </tr>\n    <tr>\n      <th>10</th>\n      <td>x</td>\n      <td>Alice Wong</td>\n      <td>29</td>\n      <td>F</td>\n      <td>alicewong@yahoo.com</td>\n      <td>Engineer</td>\n      <td>$85,000</td>\n      <td>Y</td>\n      <td>0</td>\n      <td>San Francisco, CA</td>\n      <td>False</td>\n      <td>Alice Wong</td>\n      <td>29.0</td>\n      <td>F</td>\n      <td>alicewong@yahoo.com</td>\n      <td>Engineer</td>\n      <td>85000</td>\n      <td>y</td>\n      <td>0.0</td>\n      <td>NaN</td>\n    </tr>\n    <tr>\n      <th>12</th>\n      <td>13</td>\n      <td>NaN</td>\n      <td>38</td>\n      <td>F</td>\n      <td>rachelkim@hotmail.com</td>\n      <td>Accountant</td>\n      <td>$90,000</td>\n      <td>YES</td>\n      <td>three</td>\n      <td>Chicago, IL</td>\n      <td>True</td>\n      <td>nan</td>\n      <td>38.0</td>\n      <td>F</td>\n      <td>rachelkim@hotmail.com</td>\n      <td>Accountant</td>\n      <td>90000</td>\n      <td>y</td>\n      <td>NaN</td>\n      <td>NaN</td>\n    </tr>\n    <tr>\n      <th>14</th>\n      <td>15</td>\n      <td>???</td>\n      <td>b</td>\n      <td>F</td>\n      <td>anitali@yahoo.com</td>\n      <td>Teacher</td>\n      <td>$65,000</td>\n      <td>yes</td>\n      <td>2</td>\n      <td>Miami, FL</td>\n      <td>True</td>\n      <td>None</td>\n      <td>NaN</td>\n      <td>F</td>\n      <td>anitali@yahoo.com</td>\n      <td>Teacher</td>\n      <td>65000</td>\n      <td>y</td>\n      <td>2.0</td>\n      <td>2.0</td>\n    </tr>\n    <tr>\n      <th>16</th>\n      <td>17</td>\n      <td>Emily Tan</td>\n      <td>25</td>\n      <td>F</td>\n      <td>emilytan@gmail.com</td>\n      <td>Engineer</td>\n      <td>$90,000</td>\n      <td>Y</td>\n      <td>1</td>\n      <td>Atlanta, GA</td>\n      <td>True</td>\n      <td>Emily Tan</td>\n      <td>25.0</td>\n      <td>F</td>\n      <td>emilytan@gmail.com</td>\n      <td>Engineer</td>\n      <td>90000</td>\n      <td>y</td>\n      <td>1.0</td>\n      <td>1.0</td>\n    </tr>\n    <tr>\n      <th>18</th>\n      <td>19</td>\n      <td>Sharon Gomez</td>\n      <td>42</td>\n      <td>F</td>\n      <td>yy</td>\n      <td>Teacher</td>\n      <td>$100,000</td>\n      <td>y</td>\n      <td>two</td>\n      <td>New York, NY</td>\n      <td>True</td>\n      <td>Sharon Gomez</td>\n      <td>42.0</td>\n      <td>F</td>\n      <td>None</td>\n      <td>Teacher</td>\n      <td>100000</td>\n      <td>y</td>\n      <td>NaN</td>\n      <td>NaN</td>\n    </tr>\n  </tbody>\n</table>\n</div>"
     },
     "execution_count": 284,
     "metadata": {},
     "output_type": "execute_result"
    }
   ],
   "source": [
    "df[df.Have_Children_clean == 'y']\n"
   ],
   "metadata": {
    "collapsed": false
   }
  },
  {
   "cell_type": "code",
   "execution_count": null,
   "outputs": [],
   "source": [],
   "metadata": {
    "collapsed": false
   }
  }
 ],
 "metadata": {
  "kernelspec": {
   "display_name": "Python 3 (ipykernel)",
   "language": "python",
   "name": "python3"
  },
  "language_info": {
   "codemirror_mode": {
    "name": "ipython",
    "version": 3
   },
   "file_extension": ".py",
   "mimetype": "text/x-python",
   "name": "python",
   "nbconvert_exporter": "python",
   "pygments_lexer": "ipython3",
   "version": "3.11.2"
  }
 },
 "nbformat": 4,
 "nbformat_minor": 1
}
