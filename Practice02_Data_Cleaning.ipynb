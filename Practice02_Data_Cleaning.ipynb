{
 "cells": [
  {
   "cell_type": "code",
   "execution_count": 170,
   "metadata": {
    "collapsed": true
   },
   "outputs": [],
   "source": [
    "import pandas as pd\n",
    "import numpy as np\n"
   ]
  },
  {
   "cell_type": "code",
   "execution_count": 171,
   "metadata": {},
   "outputs": [],
   "source": [
    "df = pd.read_csv('Unclean_Data1.csv', index_col='ID')\n"
   ]
  },
  {
   "cell_type": "code",
   "execution_count": 172,
   "metadata": {},
   "outputs": [
    {
     "data": {
      "text/plain": "             Name  Age  Gender  Birth Date         City_State  \\\nID                                                              \n1        John Doe   25       M  2003-01-21       New York, NY   \n2      Jane Smith   32       F    3/2/2001  San Francisco, CA   \n3     Bob Johnson   41    Male  03/03/2001         Boston, MA   \n4      Mary Brown   28       f  2001-03-04        Chicago, IL   \n5       David Lee   36       M      Mar-01         Dallas, TX   \n6      Sarah Chen   29  Female     x3/6/00          Miami, FL   \n7     Michael Kim   46       m     3/32/99        Phoenix, AZ   \n8      Lisa Davis   31       F  2003-01-22        Atlanta, GA   \n9     Alex Wilson   29    Male    3/2/2002         Denver, CO   \n10  Jessica Brown   42  female  03/03/2002       New York, NY   \n11       Mark Lee   33       M  2001-02-26  San Francisco, CA   \n12    Emily Smith   27       f      Feb-01         Boston, MA   \n13      Brian Kim   45    Male     x3/6/01        Chicago, IL   \n14    Ashley Chen   30  Female     3/32/00         Dallas, TX   \n15   Jack Johnson   38       m  2003-01-23          Miami, FL   \n16   Lauren Davis   29       F    3/2/2003        Phoenix, AZ   \n17   Chris Wilson   28    Male  03/03/2003        Atlanta, GA   \n18    Karen Brown   44  female  2001-02-20         Denver, CO   \n19       Ryan Lee   31       M      Feb-01       New York, NY   \n20    Sarah Smith   35       f     x3/6/02  San Francisco, CA   \n\n    Height (inches) Weight (lbs) Income ($)  \nID                                           \n1                68          160      45000  \n2                64          125    $60,000  \n3                72          190        75K  \n4                65          130      80000  \n5                69          220     90,000  \n6                63          135    $50,000  \n7                75          250     100000  \n8                66          155        55k  \n9                71          175     70,000  \n10               62          145     120000  \n11               68          160     65,000  \n12               66          abc      50000  \n13               73          300       140K  \n14               64          135     45,000  \n15               70          195    $80,000  \n16               63          140        60k  \n17               68          165     75,000  \n18               62         125%     110000  \n19               72          190     50,000  \n20               65          130    $70,000  ",
      "text/html": "<div>\n<style scoped>\n    .dataframe tbody tr th:only-of-type {\n        vertical-align: middle;\n    }\n\n    .dataframe tbody tr th {\n        vertical-align: top;\n    }\n\n    .dataframe thead th {\n        text-align: right;\n    }\n</style>\n<table border=\"1\" class=\"dataframe\">\n  <thead>\n    <tr style=\"text-align: right;\">\n      <th></th>\n      <th>Name</th>\n      <th>Age</th>\n      <th>Gender</th>\n      <th>Birth Date</th>\n      <th>City_State</th>\n      <th>Height (inches)</th>\n      <th>Weight (lbs)</th>\n      <th>Income ($)</th>\n    </tr>\n    <tr>\n      <th>ID</th>\n      <th></th>\n      <th></th>\n      <th></th>\n      <th></th>\n      <th></th>\n      <th></th>\n      <th></th>\n      <th></th>\n    </tr>\n  </thead>\n  <tbody>\n    <tr>\n      <th>1</th>\n      <td>John Doe</td>\n      <td>25</td>\n      <td>M</td>\n      <td>2003-01-21</td>\n      <td>New York, NY</td>\n      <td>68</td>\n      <td>160</td>\n      <td>45000</td>\n    </tr>\n    <tr>\n      <th>2</th>\n      <td>Jane Smith</td>\n      <td>32</td>\n      <td>F</td>\n      <td>3/2/2001</td>\n      <td>San Francisco, CA</td>\n      <td>64</td>\n      <td>125</td>\n      <td>$60,000</td>\n    </tr>\n    <tr>\n      <th>3</th>\n      <td>Bob Johnson</td>\n      <td>41</td>\n      <td>Male</td>\n      <td>03/03/2001</td>\n      <td>Boston, MA</td>\n      <td>72</td>\n      <td>190</td>\n      <td>75K</td>\n    </tr>\n    <tr>\n      <th>4</th>\n      <td>Mary Brown</td>\n      <td>28</td>\n      <td>f</td>\n      <td>2001-03-04</td>\n      <td>Chicago, IL</td>\n      <td>65</td>\n      <td>130</td>\n      <td>80000</td>\n    </tr>\n    <tr>\n      <th>5</th>\n      <td>David Lee</td>\n      <td>36</td>\n      <td>M</td>\n      <td>Mar-01</td>\n      <td>Dallas, TX</td>\n      <td>69</td>\n      <td>220</td>\n      <td>90,000</td>\n    </tr>\n    <tr>\n      <th>6</th>\n      <td>Sarah Chen</td>\n      <td>29</td>\n      <td>Female</td>\n      <td>x3/6/00</td>\n      <td>Miami, FL</td>\n      <td>63</td>\n      <td>135</td>\n      <td>$50,000</td>\n    </tr>\n    <tr>\n      <th>7</th>\n      <td>Michael Kim</td>\n      <td>46</td>\n      <td>m</td>\n      <td>3/32/99</td>\n      <td>Phoenix, AZ</td>\n      <td>75</td>\n      <td>250</td>\n      <td>100000</td>\n    </tr>\n    <tr>\n      <th>8</th>\n      <td>Lisa Davis</td>\n      <td>31</td>\n      <td>F</td>\n      <td>2003-01-22</td>\n      <td>Atlanta, GA</td>\n      <td>66</td>\n      <td>155</td>\n      <td>55k</td>\n    </tr>\n    <tr>\n      <th>9</th>\n      <td>Alex Wilson</td>\n      <td>29</td>\n      <td>Male</td>\n      <td>3/2/2002</td>\n      <td>Denver, CO</td>\n      <td>71</td>\n      <td>175</td>\n      <td>70,000</td>\n    </tr>\n    <tr>\n      <th>10</th>\n      <td>Jessica Brown</td>\n      <td>42</td>\n      <td>female</td>\n      <td>03/03/2002</td>\n      <td>New York, NY</td>\n      <td>62</td>\n      <td>145</td>\n      <td>120000</td>\n    </tr>\n    <tr>\n      <th>11</th>\n      <td>Mark Lee</td>\n      <td>33</td>\n      <td>M</td>\n      <td>2001-02-26</td>\n      <td>San Francisco, CA</td>\n      <td>68</td>\n      <td>160</td>\n      <td>65,000</td>\n    </tr>\n    <tr>\n      <th>12</th>\n      <td>Emily Smith</td>\n      <td>27</td>\n      <td>f</td>\n      <td>Feb-01</td>\n      <td>Boston, MA</td>\n      <td>66</td>\n      <td>abc</td>\n      <td>50000</td>\n    </tr>\n    <tr>\n      <th>13</th>\n      <td>Brian Kim</td>\n      <td>45</td>\n      <td>Male</td>\n      <td>x3/6/01</td>\n      <td>Chicago, IL</td>\n      <td>73</td>\n      <td>300</td>\n      <td>140K</td>\n    </tr>\n    <tr>\n      <th>14</th>\n      <td>Ashley Chen</td>\n      <td>30</td>\n      <td>Female</td>\n      <td>3/32/00</td>\n      <td>Dallas, TX</td>\n      <td>64</td>\n      <td>135</td>\n      <td>45,000</td>\n    </tr>\n    <tr>\n      <th>15</th>\n      <td>Jack Johnson</td>\n      <td>38</td>\n      <td>m</td>\n      <td>2003-01-23</td>\n      <td>Miami, FL</td>\n      <td>70</td>\n      <td>195</td>\n      <td>$80,000</td>\n    </tr>\n    <tr>\n      <th>16</th>\n      <td>Lauren Davis</td>\n      <td>29</td>\n      <td>F</td>\n      <td>3/2/2003</td>\n      <td>Phoenix, AZ</td>\n      <td>63</td>\n      <td>140</td>\n      <td>60k</td>\n    </tr>\n    <tr>\n      <th>17</th>\n      <td>Chris Wilson</td>\n      <td>28</td>\n      <td>Male</td>\n      <td>03/03/2003</td>\n      <td>Atlanta, GA</td>\n      <td>68</td>\n      <td>165</td>\n      <td>75,000</td>\n    </tr>\n    <tr>\n      <th>18</th>\n      <td>Karen Brown</td>\n      <td>44</td>\n      <td>female</td>\n      <td>2001-02-20</td>\n      <td>Denver, CO</td>\n      <td>62</td>\n      <td>125%</td>\n      <td>110000</td>\n    </tr>\n    <tr>\n      <th>19</th>\n      <td>Ryan Lee</td>\n      <td>31</td>\n      <td>M</td>\n      <td>Feb-01</td>\n      <td>New York, NY</td>\n      <td>72</td>\n      <td>190</td>\n      <td>50,000</td>\n    </tr>\n    <tr>\n      <th>20</th>\n      <td>Sarah Smith</td>\n      <td>35</td>\n      <td>f</td>\n      <td>x3/6/02</td>\n      <td>San Francisco, CA</td>\n      <td>65</td>\n      <td>130</td>\n      <td>$70,000</td>\n    </tr>\n  </tbody>\n</table>\n</div>"
     },
     "execution_count": 172,
     "metadata": {},
     "output_type": "execute_result"
    }
   ],
   "source": [
    "df\n"
   ]
  },
  {
   "cell_type": "code",
   "execution_count": 173,
   "metadata": {},
   "outputs": [],
   "source": [
    "# Clean Gender\n"
   ]
  },
  {
   "cell_type": "code",
   "execution_count": 174,
   "outputs": [],
   "source": [
    "df['Gender_Clean'] = df.Gender.str.lower()\n"
   ],
   "metadata": {
    "collapsed": false
   }
  },
  {
   "cell_type": "code",
   "execution_count": 175,
   "outputs": [],
   "source": [
    "df['Gender_Clean'] = df.Gender_Clean.str[0]\n"
   ],
   "metadata": {
    "collapsed": false
   }
  },
  {
   "cell_type": "code",
   "execution_count": 176,
   "outputs": [
    {
     "data": {
      "text/plain": "    Gender Gender_Clean\nID                     \n1        M            m\n2        F            f\n3     Male            m\n4        f            f\n5        M            m\n6   Female            f\n7        m            m\n8        F            f\n9     Male            m\n10  female            f\n11       M            m\n12       f            f\n13    Male            m\n14  Female            f\n15       m            m\n16       F            f\n17    Male            m\n18  female            f\n19       M            m\n20       f            f",
      "text/html": "<div>\n<style scoped>\n    .dataframe tbody tr th:only-of-type {\n        vertical-align: middle;\n    }\n\n    .dataframe tbody tr th {\n        vertical-align: top;\n    }\n\n    .dataframe thead th {\n        text-align: right;\n    }\n</style>\n<table border=\"1\" class=\"dataframe\">\n  <thead>\n    <tr style=\"text-align: right;\">\n      <th></th>\n      <th>Gender</th>\n      <th>Gender_Clean</th>\n    </tr>\n    <tr>\n      <th>ID</th>\n      <th></th>\n      <th></th>\n    </tr>\n  </thead>\n  <tbody>\n    <tr>\n      <th>1</th>\n      <td>M</td>\n      <td>m</td>\n    </tr>\n    <tr>\n      <th>2</th>\n      <td>F</td>\n      <td>f</td>\n    </tr>\n    <tr>\n      <th>3</th>\n      <td>Male</td>\n      <td>m</td>\n    </tr>\n    <tr>\n      <th>4</th>\n      <td>f</td>\n      <td>f</td>\n    </tr>\n    <tr>\n      <th>5</th>\n      <td>M</td>\n      <td>m</td>\n    </tr>\n    <tr>\n      <th>6</th>\n      <td>Female</td>\n      <td>f</td>\n    </tr>\n    <tr>\n      <th>7</th>\n      <td>m</td>\n      <td>m</td>\n    </tr>\n    <tr>\n      <th>8</th>\n      <td>F</td>\n      <td>f</td>\n    </tr>\n    <tr>\n      <th>9</th>\n      <td>Male</td>\n      <td>m</td>\n    </tr>\n    <tr>\n      <th>10</th>\n      <td>female</td>\n      <td>f</td>\n    </tr>\n    <tr>\n      <th>11</th>\n      <td>M</td>\n      <td>m</td>\n    </tr>\n    <tr>\n      <th>12</th>\n      <td>f</td>\n      <td>f</td>\n    </tr>\n    <tr>\n      <th>13</th>\n      <td>Male</td>\n      <td>m</td>\n    </tr>\n    <tr>\n      <th>14</th>\n      <td>Female</td>\n      <td>f</td>\n    </tr>\n    <tr>\n      <th>15</th>\n      <td>m</td>\n      <td>m</td>\n    </tr>\n    <tr>\n      <th>16</th>\n      <td>F</td>\n      <td>f</td>\n    </tr>\n    <tr>\n      <th>17</th>\n      <td>Male</td>\n      <td>m</td>\n    </tr>\n    <tr>\n      <th>18</th>\n      <td>female</td>\n      <td>f</td>\n    </tr>\n    <tr>\n      <th>19</th>\n      <td>M</td>\n      <td>m</td>\n    </tr>\n    <tr>\n      <th>20</th>\n      <td>f</td>\n      <td>f</td>\n    </tr>\n  </tbody>\n</table>\n</div>"
     },
     "execution_count": 176,
     "metadata": {},
     "output_type": "execute_result"
    }
   ],
   "source": [
    "df[['Gender', 'Gender_Clean']]\n"
   ],
   "metadata": {
    "collapsed": false
   }
  },
  {
   "cell_type": "code",
   "execution_count": 177,
   "outputs": [],
   "source": [
    "# Clean Birth Date\n"
   ],
   "metadata": {
    "collapsed": false
   }
  },
  {
   "cell_type": "code",
   "execution_count": 178,
   "outputs": [],
   "source": [
    "df['Birth_Date_Clean'] = df['Birth Date'].str.replace(r'[^0-9/-]', '', regex=True)\n"
   ],
   "metadata": {
    "collapsed": false
   }
  },
  {
   "cell_type": "code",
   "execution_count": 179,
   "outputs": [
    {
     "data": {
      "text/plain": "    Birth Date Birth_Date_Clean\nID                             \n1   2003-01-21       2003-01-21\n2     3/2/2001         3/2/2001\n3   03/03/2001       03/03/2001\n4   2001-03-04       2001-03-04\n5       Mar-01              -01\n6      x3/6/00           3/6/00\n7      3/32/99          3/32/99\n8   2003-01-22       2003-01-22\n9     3/2/2002         3/2/2002\n10  03/03/2002       03/03/2002\n11  2001-02-26       2001-02-26\n12      Feb-01              -01\n13     x3/6/01           3/6/01\n14     3/32/00          3/32/00\n15  2003-01-23       2003-01-23\n16    3/2/2003         3/2/2003\n17  03/03/2003       03/03/2003\n18  2001-02-20       2001-02-20\n19      Feb-01              -01\n20     x3/6/02           3/6/02",
      "text/html": "<div>\n<style scoped>\n    .dataframe tbody tr th:only-of-type {\n        vertical-align: middle;\n    }\n\n    .dataframe tbody tr th {\n        vertical-align: top;\n    }\n\n    .dataframe thead th {\n        text-align: right;\n    }\n</style>\n<table border=\"1\" class=\"dataframe\">\n  <thead>\n    <tr style=\"text-align: right;\">\n      <th></th>\n      <th>Birth Date</th>\n      <th>Birth_Date_Clean</th>\n    </tr>\n    <tr>\n      <th>ID</th>\n      <th></th>\n      <th></th>\n    </tr>\n  </thead>\n  <tbody>\n    <tr>\n      <th>1</th>\n      <td>2003-01-21</td>\n      <td>2003-01-21</td>\n    </tr>\n    <tr>\n      <th>2</th>\n      <td>3/2/2001</td>\n      <td>3/2/2001</td>\n    </tr>\n    <tr>\n      <th>3</th>\n      <td>03/03/2001</td>\n      <td>03/03/2001</td>\n    </tr>\n    <tr>\n      <th>4</th>\n      <td>2001-03-04</td>\n      <td>2001-03-04</td>\n    </tr>\n    <tr>\n      <th>5</th>\n      <td>Mar-01</td>\n      <td>-01</td>\n    </tr>\n    <tr>\n      <th>6</th>\n      <td>x3/6/00</td>\n      <td>3/6/00</td>\n    </tr>\n    <tr>\n      <th>7</th>\n      <td>3/32/99</td>\n      <td>3/32/99</td>\n    </tr>\n    <tr>\n      <th>8</th>\n      <td>2003-01-22</td>\n      <td>2003-01-22</td>\n    </tr>\n    <tr>\n      <th>9</th>\n      <td>3/2/2002</td>\n      <td>3/2/2002</td>\n    </tr>\n    <tr>\n      <th>10</th>\n      <td>03/03/2002</td>\n      <td>03/03/2002</td>\n    </tr>\n    <tr>\n      <th>11</th>\n      <td>2001-02-26</td>\n      <td>2001-02-26</td>\n    </tr>\n    <tr>\n      <th>12</th>\n      <td>Feb-01</td>\n      <td>-01</td>\n    </tr>\n    <tr>\n      <th>13</th>\n      <td>x3/6/01</td>\n      <td>3/6/01</td>\n    </tr>\n    <tr>\n      <th>14</th>\n      <td>3/32/00</td>\n      <td>3/32/00</td>\n    </tr>\n    <tr>\n      <th>15</th>\n      <td>2003-01-23</td>\n      <td>2003-01-23</td>\n    </tr>\n    <tr>\n      <th>16</th>\n      <td>3/2/2003</td>\n      <td>3/2/2003</td>\n    </tr>\n    <tr>\n      <th>17</th>\n      <td>03/03/2003</td>\n      <td>03/03/2003</td>\n    </tr>\n    <tr>\n      <th>18</th>\n      <td>2001-02-20</td>\n      <td>2001-02-20</td>\n    </tr>\n    <tr>\n      <th>19</th>\n      <td>Feb-01</td>\n      <td>-01</td>\n    </tr>\n    <tr>\n      <th>20</th>\n      <td>x3/6/02</td>\n      <td>3/6/02</td>\n    </tr>\n  </tbody>\n</table>\n</div>"
     },
     "execution_count": 179,
     "metadata": {},
     "output_type": "execute_result"
    }
   ],
   "source": [
    "df[['Birth Date', 'Birth_Date_Clean']]\n"
   ],
   "metadata": {
    "collapsed": false
   }
  },
  {
   "cell_type": "code",
   "execution_count": 180,
   "outputs": [],
   "source": [
    "df['Birth_Date_Clean'] = pd.to_datetime(df['Birth_Date_Clean'], errors='coerce')\n"
   ],
   "metadata": {
    "collapsed": false
   }
  },
  {
   "cell_type": "code",
   "execution_count": 181,
   "outputs": [
    {
     "data": {
      "text/plain": "    Birth Date Birth_Date_Clean\nID                             \n1   2003-01-21       2003-01-21\n2     3/2/2001       2001-03-02\n3   03/03/2001       2001-03-03\n4   2001-03-04       2001-03-04\n5       Mar-01              NaT\n6      x3/6/00       2000-03-06\n7      3/32/99              NaT\n8   2003-01-22       2003-01-22\n9     3/2/2002       2002-03-02\n10  03/03/2002       2002-03-03\n11  2001-02-26       2001-02-26\n12      Feb-01              NaT\n13     x3/6/01       2001-03-06\n14     3/32/00              NaT\n15  2003-01-23       2003-01-23\n16    3/2/2003       2003-03-02\n17  03/03/2003       2003-03-03\n18  2001-02-20       2001-02-20\n19      Feb-01              NaT\n20     x3/6/02       2002-03-06",
      "text/html": "<div>\n<style scoped>\n    .dataframe tbody tr th:only-of-type {\n        vertical-align: middle;\n    }\n\n    .dataframe tbody tr th {\n        vertical-align: top;\n    }\n\n    .dataframe thead th {\n        text-align: right;\n    }\n</style>\n<table border=\"1\" class=\"dataframe\">\n  <thead>\n    <tr style=\"text-align: right;\">\n      <th></th>\n      <th>Birth Date</th>\n      <th>Birth_Date_Clean</th>\n    </tr>\n    <tr>\n      <th>ID</th>\n      <th></th>\n      <th></th>\n    </tr>\n  </thead>\n  <tbody>\n    <tr>\n      <th>1</th>\n      <td>2003-01-21</td>\n      <td>2003-01-21</td>\n    </tr>\n    <tr>\n      <th>2</th>\n      <td>3/2/2001</td>\n      <td>2001-03-02</td>\n    </tr>\n    <tr>\n      <th>3</th>\n      <td>03/03/2001</td>\n      <td>2001-03-03</td>\n    </tr>\n    <tr>\n      <th>4</th>\n      <td>2001-03-04</td>\n      <td>2001-03-04</td>\n    </tr>\n    <tr>\n      <th>5</th>\n      <td>Mar-01</td>\n      <td>NaT</td>\n    </tr>\n    <tr>\n      <th>6</th>\n      <td>x3/6/00</td>\n      <td>2000-03-06</td>\n    </tr>\n    <tr>\n      <th>7</th>\n      <td>3/32/99</td>\n      <td>NaT</td>\n    </tr>\n    <tr>\n      <th>8</th>\n      <td>2003-01-22</td>\n      <td>2003-01-22</td>\n    </tr>\n    <tr>\n      <th>9</th>\n      <td>3/2/2002</td>\n      <td>2002-03-02</td>\n    </tr>\n    <tr>\n      <th>10</th>\n      <td>03/03/2002</td>\n      <td>2002-03-03</td>\n    </tr>\n    <tr>\n      <th>11</th>\n      <td>2001-02-26</td>\n      <td>2001-02-26</td>\n    </tr>\n    <tr>\n      <th>12</th>\n      <td>Feb-01</td>\n      <td>NaT</td>\n    </tr>\n    <tr>\n      <th>13</th>\n      <td>x3/6/01</td>\n      <td>2001-03-06</td>\n    </tr>\n    <tr>\n      <th>14</th>\n      <td>3/32/00</td>\n      <td>NaT</td>\n    </tr>\n    <tr>\n      <th>15</th>\n      <td>2003-01-23</td>\n      <td>2003-01-23</td>\n    </tr>\n    <tr>\n      <th>16</th>\n      <td>3/2/2003</td>\n      <td>2003-03-02</td>\n    </tr>\n    <tr>\n      <th>17</th>\n      <td>03/03/2003</td>\n      <td>2003-03-03</td>\n    </tr>\n    <tr>\n      <th>18</th>\n      <td>2001-02-20</td>\n      <td>2001-02-20</td>\n    </tr>\n    <tr>\n      <th>19</th>\n      <td>Feb-01</td>\n      <td>NaT</td>\n    </tr>\n    <tr>\n      <th>20</th>\n      <td>x3/6/02</td>\n      <td>2002-03-06</td>\n    </tr>\n  </tbody>\n</table>\n</div>"
     },
     "execution_count": 181,
     "metadata": {},
     "output_type": "execute_result"
    }
   ],
   "source": [
    "df[['Birth Date', 'Birth_Date_Clean']]\n"
   ],
   "metadata": {
    "collapsed": false
   }
  },
  {
   "cell_type": "code",
   "execution_count": 182,
   "outputs": [
    {
     "name": "stdout",
     "output_type": "stream",
     "text": [
      "<class 'pandas.core.frame.DataFrame'>\n",
      "Int64Index: 20 entries, 1 to 20\n",
      "Data columns (total 10 columns):\n",
      " #   Column            Non-Null Count  Dtype         \n",
      "---  ------            --------------  -----         \n",
      " 0   Name              20 non-null     object        \n",
      " 1   Age               20 non-null     int64         \n",
      " 2   Gender            20 non-null     object        \n",
      " 3   Birth Date        20 non-null     object        \n",
      " 4   City_State        20 non-null     object        \n",
      " 5   Height (inches)   20 non-null     int64         \n",
      " 6   Weight (lbs)      20 non-null     object        \n",
      " 7   Income ($)        20 non-null     object        \n",
      " 8   Gender_Clean      20 non-null     object        \n",
      " 9   Birth_Date_Clean  15 non-null     datetime64[ns]\n",
      "dtypes: datetime64[ns](1), int64(2), object(7)\n",
      "memory usage: 1.7+ KB\n"
     ]
    }
   ],
   "source": [
    "df.info()\n"
   ],
   "metadata": {
    "collapsed": false
   }
  },
  {
   "cell_type": "code",
   "execution_count": 183,
   "outputs": [],
   "source": [
    "# Clean Weight\n"
   ],
   "metadata": {
    "collapsed": false
   }
  },
  {
   "cell_type": "code",
   "execution_count": 184,
   "outputs": [],
   "source": [
    "df['Weight_Clean'] = df['Weight (lbs)'].str.replace('%', '')\n"
   ],
   "metadata": {
    "collapsed": false
   }
  },
  {
   "cell_type": "code",
   "execution_count": 185,
   "outputs": [
    {
     "data": {
      "text/plain": "   Weight (lbs) Weight_Clean\nID                          \n1           160          160\n2           125          125\n3           190          190\n4           130          130\n5           220          220\n6           135          135\n7           250          250\n8           155          155\n9           175          175\n10          145          145\n11          160          160\n12          abc          abc\n13          300          300\n14          135          135\n15          195          195\n16          140          140\n17          165          165\n18         125%          125\n19          190          190\n20          130          130",
      "text/html": "<div>\n<style scoped>\n    .dataframe tbody tr th:only-of-type {\n        vertical-align: middle;\n    }\n\n    .dataframe tbody tr th {\n        vertical-align: top;\n    }\n\n    .dataframe thead th {\n        text-align: right;\n    }\n</style>\n<table border=\"1\" class=\"dataframe\">\n  <thead>\n    <tr style=\"text-align: right;\">\n      <th></th>\n      <th>Weight (lbs)</th>\n      <th>Weight_Clean</th>\n    </tr>\n    <tr>\n      <th>ID</th>\n      <th></th>\n      <th></th>\n    </tr>\n  </thead>\n  <tbody>\n    <tr>\n      <th>1</th>\n      <td>160</td>\n      <td>160</td>\n    </tr>\n    <tr>\n      <th>2</th>\n      <td>125</td>\n      <td>125</td>\n    </tr>\n    <tr>\n      <th>3</th>\n      <td>190</td>\n      <td>190</td>\n    </tr>\n    <tr>\n      <th>4</th>\n      <td>130</td>\n      <td>130</td>\n    </tr>\n    <tr>\n      <th>5</th>\n      <td>220</td>\n      <td>220</td>\n    </tr>\n    <tr>\n      <th>6</th>\n      <td>135</td>\n      <td>135</td>\n    </tr>\n    <tr>\n      <th>7</th>\n      <td>250</td>\n      <td>250</td>\n    </tr>\n    <tr>\n      <th>8</th>\n      <td>155</td>\n      <td>155</td>\n    </tr>\n    <tr>\n      <th>9</th>\n      <td>175</td>\n      <td>175</td>\n    </tr>\n    <tr>\n      <th>10</th>\n      <td>145</td>\n      <td>145</td>\n    </tr>\n    <tr>\n      <th>11</th>\n      <td>160</td>\n      <td>160</td>\n    </tr>\n    <tr>\n      <th>12</th>\n      <td>abc</td>\n      <td>abc</td>\n    </tr>\n    <tr>\n      <th>13</th>\n      <td>300</td>\n      <td>300</td>\n    </tr>\n    <tr>\n      <th>14</th>\n      <td>135</td>\n      <td>135</td>\n    </tr>\n    <tr>\n      <th>15</th>\n      <td>195</td>\n      <td>195</td>\n    </tr>\n    <tr>\n      <th>16</th>\n      <td>140</td>\n      <td>140</td>\n    </tr>\n    <tr>\n      <th>17</th>\n      <td>165</td>\n      <td>165</td>\n    </tr>\n    <tr>\n      <th>18</th>\n      <td>125%</td>\n      <td>125</td>\n    </tr>\n    <tr>\n      <th>19</th>\n      <td>190</td>\n      <td>190</td>\n    </tr>\n    <tr>\n      <th>20</th>\n      <td>130</td>\n      <td>130</td>\n    </tr>\n  </tbody>\n</table>\n</div>"
     },
     "execution_count": 185,
     "metadata": {},
     "output_type": "execute_result"
    }
   ],
   "source": [
    "df[['Weight (lbs)', 'Weight_Clean']]\n"
   ],
   "metadata": {
    "collapsed": false
   }
  },
  {
   "cell_type": "code",
   "execution_count": 186,
   "outputs": [],
   "source": [
    "# Clean Income\n"
   ],
   "metadata": {
    "collapsed": false
   }
  },
  {
   "cell_type": "code",
   "execution_count": 187,
   "outputs": [],
   "source": [
    "df['Income_Clean'] = df['Income ($)'].str.replace('$', '', regex=True)\n"
   ],
   "metadata": {
    "collapsed": false
   }
  },
  {
   "cell_type": "code",
   "execution_count": 188,
   "outputs": [],
   "source": [
    "df['Income_Clean'] = df.Income_Clean.str.replace('k', '000')\n"
   ],
   "metadata": {
    "collapsed": false
   }
  },
  {
   "cell_type": "code",
   "execution_count": 189,
   "outputs": [],
   "source": [
    "df['Income_Clean'] = df.Income_Clean.str.replace('K', '000')\n"
   ],
   "metadata": {
    "collapsed": false
   }
  },
  {
   "cell_type": "code",
   "execution_count": 190,
   "outputs": [],
   "source": [
    "df['Income_Clean'] = df.Income_Clean.str.replace(',', '')\n"
   ],
   "metadata": {
    "collapsed": false
   }
  },
  {
   "cell_type": "code",
   "execution_count": 191,
   "outputs": [
    {
     "data": {
      "text/plain": "   Income ($) Income_Clean\nID                        \n1       45000        45000\n2     $60,000        60000\n3         75K        75000\n4       80000        80000\n5      90,000        90000\n6     $50,000        50000\n7      100000       100000\n8         55k        55000\n9      70,000        70000\n10     120000       120000\n11     65,000        65000\n12      50000        50000\n13       140K       140000\n14     45,000        45000\n15    $80,000        80000\n16        60k        60000\n17     75,000        75000\n18     110000       110000\n19     50,000        50000\n20    $70,000        70000",
      "text/html": "<div>\n<style scoped>\n    .dataframe tbody tr th:only-of-type {\n        vertical-align: middle;\n    }\n\n    .dataframe tbody tr th {\n        vertical-align: top;\n    }\n\n    .dataframe thead th {\n        text-align: right;\n    }\n</style>\n<table border=\"1\" class=\"dataframe\">\n  <thead>\n    <tr style=\"text-align: right;\">\n      <th></th>\n      <th>Income ($)</th>\n      <th>Income_Clean</th>\n    </tr>\n    <tr>\n      <th>ID</th>\n      <th></th>\n      <th></th>\n    </tr>\n  </thead>\n  <tbody>\n    <tr>\n      <th>1</th>\n      <td>45000</td>\n      <td>45000</td>\n    </tr>\n    <tr>\n      <th>2</th>\n      <td>$60,000</td>\n      <td>60000</td>\n    </tr>\n    <tr>\n      <th>3</th>\n      <td>75K</td>\n      <td>75000</td>\n    </tr>\n    <tr>\n      <th>4</th>\n      <td>80000</td>\n      <td>80000</td>\n    </tr>\n    <tr>\n      <th>5</th>\n      <td>90,000</td>\n      <td>90000</td>\n    </tr>\n    <tr>\n      <th>6</th>\n      <td>$50,000</td>\n      <td>50000</td>\n    </tr>\n    <tr>\n      <th>7</th>\n      <td>100000</td>\n      <td>100000</td>\n    </tr>\n    <tr>\n      <th>8</th>\n      <td>55k</td>\n      <td>55000</td>\n    </tr>\n    <tr>\n      <th>9</th>\n      <td>70,000</td>\n      <td>70000</td>\n    </tr>\n    <tr>\n      <th>10</th>\n      <td>120000</td>\n      <td>120000</td>\n    </tr>\n    <tr>\n      <th>11</th>\n      <td>65,000</td>\n      <td>65000</td>\n    </tr>\n    <tr>\n      <th>12</th>\n      <td>50000</td>\n      <td>50000</td>\n    </tr>\n    <tr>\n      <th>13</th>\n      <td>140K</td>\n      <td>140000</td>\n    </tr>\n    <tr>\n      <th>14</th>\n      <td>45,000</td>\n      <td>45000</td>\n    </tr>\n    <tr>\n      <th>15</th>\n      <td>$80,000</td>\n      <td>80000</td>\n    </tr>\n    <tr>\n      <th>16</th>\n      <td>60k</td>\n      <td>60000</td>\n    </tr>\n    <tr>\n      <th>17</th>\n      <td>75,000</td>\n      <td>75000</td>\n    </tr>\n    <tr>\n      <th>18</th>\n      <td>110000</td>\n      <td>110000</td>\n    </tr>\n    <tr>\n      <th>19</th>\n      <td>50,000</td>\n      <td>50000</td>\n    </tr>\n    <tr>\n      <th>20</th>\n      <td>$70,000</td>\n      <td>70000</td>\n    </tr>\n  </tbody>\n</table>\n</div>"
     },
     "execution_count": 191,
     "metadata": {},
     "output_type": "execute_result"
    }
   ],
   "source": [
    "df[['Income ($)', 'Income_Clean']]\n"
   ],
   "metadata": {
    "collapsed": false
   }
  },
  {
   "cell_type": "code",
   "execution_count": 192,
   "outputs": [
    {
     "data": {
      "text/plain": "ID\n1      45000.0\n2      60000.0\n3      75000.0\n4      80000.0\n5      90000.0\n6      50000.0\n7     100000.0\n8      55000.0\n9      70000.0\n10    120000.0\n11     65000.0\n12     50000.0\n13    140000.0\n14     45000.0\n15     80000.0\n16     60000.0\n17     75000.0\n18    110000.0\n19     50000.0\n20     70000.0\nName: Income_Clean, dtype: float64"
     },
     "execution_count": 192,
     "metadata": {},
     "output_type": "execute_result"
    }
   ],
   "source": [
    "df.Income_Clean.astype('float64')\n"
   ],
   "metadata": {
    "collapsed": false
   }
  },
  {
   "cell_type": "code",
   "execution_count": 193,
   "outputs": [],
   "source": [
    "# Clean Weight to remove 'abc'\n"
   ],
   "metadata": {
    "collapsed": false
   }
  },
  {
   "cell_type": "code",
   "execution_count": 197,
   "outputs": [],
   "source": [
    "df['Weight_Clean'] = pd.to_numeric(df.Weight_Clean, errors='coerce')\n"
   ],
   "metadata": {
    "collapsed": false
   }
  },
  {
   "cell_type": "code",
   "execution_count": 198,
   "outputs": [
    {
     "data": {
      "text/plain": "   Weight (lbs)  Weight_Clean\nID                           \n1           160         160.0\n2           125         125.0\n3           190         190.0\n4           130         130.0\n5           220         220.0\n6           135         135.0\n7           250         250.0\n8           155         155.0\n9           175         175.0\n10          145         145.0\n11          160         160.0\n12          abc           NaN\n13          300         300.0\n14          135         135.0\n15          195         195.0\n16          140         140.0\n17          165         165.0\n18         125%         125.0\n19          190         190.0\n20          130         130.0",
      "text/html": "<div>\n<style scoped>\n    .dataframe tbody tr th:only-of-type {\n        vertical-align: middle;\n    }\n\n    .dataframe tbody tr th {\n        vertical-align: top;\n    }\n\n    .dataframe thead th {\n        text-align: right;\n    }\n</style>\n<table border=\"1\" class=\"dataframe\">\n  <thead>\n    <tr style=\"text-align: right;\">\n      <th></th>\n      <th>Weight (lbs)</th>\n      <th>Weight_Clean</th>\n    </tr>\n    <tr>\n      <th>ID</th>\n      <th></th>\n      <th></th>\n    </tr>\n  </thead>\n  <tbody>\n    <tr>\n      <th>1</th>\n      <td>160</td>\n      <td>160.0</td>\n    </tr>\n    <tr>\n      <th>2</th>\n      <td>125</td>\n      <td>125.0</td>\n    </tr>\n    <tr>\n      <th>3</th>\n      <td>190</td>\n      <td>190.0</td>\n    </tr>\n    <tr>\n      <th>4</th>\n      <td>130</td>\n      <td>130.0</td>\n    </tr>\n    <tr>\n      <th>5</th>\n      <td>220</td>\n      <td>220.0</td>\n    </tr>\n    <tr>\n      <th>6</th>\n      <td>135</td>\n      <td>135.0</td>\n    </tr>\n    <tr>\n      <th>7</th>\n      <td>250</td>\n      <td>250.0</td>\n    </tr>\n    <tr>\n      <th>8</th>\n      <td>155</td>\n      <td>155.0</td>\n    </tr>\n    <tr>\n      <th>9</th>\n      <td>175</td>\n      <td>175.0</td>\n    </tr>\n    <tr>\n      <th>10</th>\n      <td>145</td>\n      <td>145.0</td>\n    </tr>\n    <tr>\n      <th>11</th>\n      <td>160</td>\n      <td>160.0</td>\n    </tr>\n    <tr>\n      <th>12</th>\n      <td>abc</td>\n      <td>NaN</td>\n    </tr>\n    <tr>\n      <th>13</th>\n      <td>300</td>\n      <td>300.0</td>\n    </tr>\n    <tr>\n      <th>14</th>\n      <td>135</td>\n      <td>135.0</td>\n    </tr>\n    <tr>\n      <th>15</th>\n      <td>195</td>\n      <td>195.0</td>\n    </tr>\n    <tr>\n      <th>16</th>\n      <td>140</td>\n      <td>140.0</td>\n    </tr>\n    <tr>\n      <th>17</th>\n      <td>165</td>\n      <td>165.0</td>\n    </tr>\n    <tr>\n      <th>18</th>\n      <td>125%</td>\n      <td>125.0</td>\n    </tr>\n    <tr>\n      <th>19</th>\n      <td>190</td>\n      <td>190.0</td>\n    </tr>\n    <tr>\n      <th>20</th>\n      <td>130</td>\n      <td>130.0</td>\n    </tr>\n  </tbody>\n</table>\n</div>"
     },
     "execution_count": 198,
     "metadata": {},
     "output_type": "execute_result"
    }
   ],
   "source": [
    "df[['Weight (lbs)', 'Weight_Clean']]\n"
   ],
   "metadata": {
    "collapsed": false
   }
  },
  {
   "cell_type": "code",
   "execution_count": 199,
   "outputs": [
    {
     "name": "stdout",
     "output_type": "stream",
     "text": [
      "<class 'pandas.core.frame.DataFrame'>\n",
      "Int64Index: 20 entries, 1 to 20\n",
      "Data columns (total 12 columns):\n",
      " #   Column            Non-Null Count  Dtype         \n",
      "---  ------            --------------  -----         \n",
      " 0   Name              20 non-null     object        \n",
      " 1   Age               20 non-null     int64         \n",
      " 2   Gender            20 non-null     object        \n",
      " 3   Birth Date        20 non-null     object        \n",
      " 4   City_State        20 non-null     object        \n",
      " 5   Height (inches)   20 non-null     int64         \n",
      " 6   Weight (lbs)      20 non-null     object        \n",
      " 7   Income ($)        20 non-null     object        \n",
      " 8   Gender_Clean      20 non-null     object        \n",
      " 9   Birth_Date_Clean  15 non-null     datetime64[ns]\n",
      " 10  Weight_Clean      19 non-null     float64       \n",
      " 11  Income_Clean      20 non-null     object        \n",
      "dtypes: datetime64[ns](1), float64(1), int64(2), object(8)\n",
      "memory usage: 2.0+ KB\n"
     ]
    }
   ],
   "source": [
    "df.info()"
   ],
   "metadata": {
    "collapsed": false
   }
  },
  {
   "cell_type": "code",
   "execution_count": 200,
   "outputs": [
    {
     "data": {
      "text/plain": "ID\n1     160.0\n2     125.0\n3     190.0\n4     130.0\n5     220.0\n6     135.0\n7     250.0\n8     155.0\n9     175.0\n10    145.0\n11    160.0\n12      NaN\n13    300.0\n14    135.0\n15    195.0\n16    140.0\n17    165.0\n18    125.0\n19    190.0\n20    130.0\nName: Weight_Clean, dtype: float16"
     },
     "execution_count": 200,
     "metadata": {},
     "output_type": "execute_result"
    }
   ],
   "source": [
    "df.Weight_Clean.astype('float16')\n"
   ],
   "metadata": {
    "collapsed": false
   }
  },
  {
   "cell_type": "code",
   "execution_count": null,
   "outputs": [],
   "source": [],
   "metadata": {
    "collapsed": false
   }
  }
 ],
 "metadata": {
  "kernelspec": {
   "display_name": "Python 3 (ipykernel)",
   "language": "python",
   "name": "python3"
  },
  "language_info": {
   "codemirror_mode": {
    "name": "ipython",
    "version": 3
   },
   "file_extension": ".py",
   "mimetype": "text/x-python",
   "name": "python",
   "nbconvert_exporter": "python",
   "pygments_lexer": "ipython3",
   "version": "3.11.2"
  }
 },
 "nbformat": 4,
 "nbformat_minor": 1
}
