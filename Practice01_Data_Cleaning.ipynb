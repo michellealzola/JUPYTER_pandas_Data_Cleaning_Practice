{
 "cells": [
  {
   "cell_type": "code",
   "execution_count": 1,
   "metadata": {
    "collapsed": true
   },
   "outputs": [],
   "source": [
    "import pandas as pd\n",
    "import numpy as np\n",
    "\n",
    "\n",
    "# Clean up Salary, Rating, Established, and Easy Apply Columns\n"
   ]
  },
  {
   "cell_type": "code",
   "execution_count": 2,
   "outputs": [],
   "source": [
    "df = pd.read_csv('Data-cleaning-for-beginners-using-pandas.csv')\n"
   ],
   "metadata": {
    "collapsed": false
   }
  },
  {
   "cell_type": "code",
   "execution_count": 3,
   "outputs": [
    {
     "data": {
      "text/plain": "    Index   Age      Salary  Rating       Location  Established Easy Apply\n0       0  44.0   $44k-$99k     5.4       India,In         1999       TRUE\n1       1  66.0   $55k-$66k     3.5    New York,Ny         2002       TRUE\n2       2   NaN   $77k-$89k    -1.0    New York,Ny           -1         -1\n3       3  64.0   $44k-$99k     4.4       India In         1988         -1\n4       4  25.0   $44k-$99k     6.4  Australia Aus         2002         -1\n5       5  44.0   $77k-$89k     1.4       India,In         1999       TRUE\n6       6  21.0   $44k-$99k     0.0    New York,Ny           -1         -1\n7       7  44.0   $44k-$99k    -1.0  Australia Aus           -1         -1\n8       8  35.0   $44k-$99k     5.4    New York,Ny           -1         -1\n9       9  22.0   $44k-$99k     7.7       India,In           -1       TRUE\n10     10  55.0   $10k-$49k     5.4       India,In         2008       TRUE\n11     11  44.0   $10k-$49k     6.7       India,In         2009         -1\n12     12   NaN   $44k-$99k     0.0       India,In         1999         -1\n13     13  25.0   $44k-$99k    -1.0  Australia Aus         2019       TRUE\n14     14  66.0   $44k-$99k     4.0  Australia Aus         2020       TRUE\n15     15  44.0  $88k-$101k     3.0  Australia Aus         1999         -1\n16     16  19.0   $19k-$40k     4.5       India,In         1984         -1\n17     17   NaN   $44k-$99k     5.3    New York,Ny         1943       TRUE\n18     18  35.0   $44k-$99k     6.7    New York,Ny         1954       TRUE\n19     19  32.0   $44k-$99k     3.3    New York,Ny         1955       TRUE\n20     20   NaN   $44k-$99k     5.7    New York,Ny         1944       TRUE\n21     21  35.0   $44k-$99k     5.0    New York,Ny         1946         -1\n22     22  19.0   $55k-$66k     7.8    New York,Ny         1988       TRUE\n23     23   NaN   $44k-$99k     2.4    New York,Ny         1999       TRUE\n24     24  13.0   $44k-$99k    -1.0    New York,Ny         1987         -1\n25     25  55.0   $44k-$99k     0.0  Australia Aus         1980       TRUE\n26     26   NaN   $55k-$66k     NaN       India,In         1934       TRUE\n27     27  52.0   $44k-$99k     5.4       India,In         1935         -1\n28     28   NaN   $39k-$88k     3.4  Australia Aus         1932         -1",
      "text/html": "<div>\n<style scoped>\n    .dataframe tbody tr th:only-of-type {\n        vertical-align: middle;\n    }\n\n    .dataframe tbody tr th {\n        vertical-align: top;\n    }\n\n    .dataframe thead th {\n        text-align: right;\n    }\n</style>\n<table border=\"1\" class=\"dataframe\">\n  <thead>\n    <tr style=\"text-align: right;\">\n      <th></th>\n      <th>Index</th>\n      <th>Age</th>\n      <th>Salary</th>\n      <th>Rating</th>\n      <th>Location</th>\n      <th>Established</th>\n      <th>Easy Apply</th>\n    </tr>\n  </thead>\n  <tbody>\n    <tr>\n      <th>0</th>\n      <td>0</td>\n      <td>44.0</td>\n      <td>$44k-$99k</td>\n      <td>5.4</td>\n      <td>India,In</td>\n      <td>1999</td>\n      <td>TRUE</td>\n    </tr>\n    <tr>\n      <th>1</th>\n      <td>1</td>\n      <td>66.0</td>\n      <td>$55k-$66k</td>\n      <td>3.5</td>\n      <td>New York,Ny</td>\n      <td>2002</td>\n      <td>TRUE</td>\n    </tr>\n    <tr>\n      <th>2</th>\n      <td>2</td>\n      <td>NaN</td>\n      <td>$77k-$89k</td>\n      <td>-1.0</td>\n      <td>New York,Ny</td>\n      <td>-1</td>\n      <td>-1</td>\n    </tr>\n    <tr>\n      <th>3</th>\n      <td>3</td>\n      <td>64.0</td>\n      <td>$44k-$99k</td>\n      <td>4.4</td>\n      <td>India In</td>\n      <td>1988</td>\n      <td>-1</td>\n    </tr>\n    <tr>\n      <th>4</th>\n      <td>4</td>\n      <td>25.0</td>\n      <td>$44k-$99k</td>\n      <td>6.4</td>\n      <td>Australia Aus</td>\n      <td>2002</td>\n      <td>-1</td>\n    </tr>\n    <tr>\n      <th>5</th>\n      <td>5</td>\n      <td>44.0</td>\n      <td>$77k-$89k</td>\n      <td>1.4</td>\n      <td>India,In</td>\n      <td>1999</td>\n      <td>TRUE</td>\n    </tr>\n    <tr>\n      <th>6</th>\n      <td>6</td>\n      <td>21.0</td>\n      <td>$44k-$99k</td>\n      <td>0.0</td>\n      <td>New York,Ny</td>\n      <td>-1</td>\n      <td>-1</td>\n    </tr>\n    <tr>\n      <th>7</th>\n      <td>7</td>\n      <td>44.0</td>\n      <td>$44k-$99k</td>\n      <td>-1.0</td>\n      <td>Australia Aus</td>\n      <td>-1</td>\n      <td>-1</td>\n    </tr>\n    <tr>\n      <th>8</th>\n      <td>8</td>\n      <td>35.0</td>\n      <td>$44k-$99k</td>\n      <td>5.4</td>\n      <td>New York,Ny</td>\n      <td>-1</td>\n      <td>-1</td>\n    </tr>\n    <tr>\n      <th>9</th>\n      <td>9</td>\n      <td>22.0</td>\n      <td>$44k-$99k</td>\n      <td>7.7</td>\n      <td>India,In</td>\n      <td>-1</td>\n      <td>TRUE</td>\n    </tr>\n    <tr>\n      <th>10</th>\n      <td>10</td>\n      <td>55.0</td>\n      <td>$10k-$49k</td>\n      <td>5.4</td>\n      <td>India,In</td>\n      <td>2008</td>\n      <td>TRUE</td>\n    </tr>\n    <tr>\n      <th>11</th>\n      <td>11</td>\n      <td>44.0</td>\n      <td>$10k-$49k</td>\n      <td>6.7</td>\n      <td>India,In</td>\n      <td>2009</td>\n      <td>-1</td>\n    </tr>\n    <tr>\n      <th>12</th>\n      <td>12</td>\n      <td>NaN</td>\n      <td>$44k-$99k</td>\n      <td>0.0</td>\n      <td>India,In</td>\n      <td>1999</td>\n      <td>-1</td>\n    </tr>\n    <tr>\n      <th>13</th>\n      <td>13</td>\n      <td>25.0</td>\n      <td>$44k-$99k</td>\n      <td>-1.0</td>\n      <td>Australia Aus</td>\n      <td>2019</td>\n      <td>TRUE</td>\n    </tr>\n    <tr>\n      <th>14</th>\n      <td>14</td>\n      <td>66.0</td>\n      <td>$44k-$99k</td>\n      <td>4.0</td>\n      <td>Australia Aus</td>\n      <td>2020</td>\n      <td>TRUE</td>\n    </tr>\n    <tr>\n      <th>15</th>\n      <td>15</td>\n      <td>44.0</td>\n      <td>$88k-$101k</td>\n      <td>3.0</td>\n      <td>Australia Aus</td>\n      <td>1999</td>\n      <td>-1</td>\n    </tr>\n    <tr>\n      <th>16</th>\n      <td>16</td>\n      <td>19.0</td>\n      <td>$19k-$40k</td>\n      <td>4.5</td>\n      <td>India,In</td>\n      <td>1984</td>\n      <td>-1</td>\n    </tr>\n    <tr>\n      <th>17</th>\n      <td>17</td>\n      <td>NaN</td>\n      <td>$44k-$99k</td>\n      <td>5.3</td>\n      <td>New York,Ny</td>\n      <td>1943</td>\n      <td>TRUE</td>\n    </tr>\n    <tr>\n      <th>18</th>\n      <td>18</td>\n      <td>35.0</td>\n      <td>$44k-$99k</td>\n      <td>6.7</td>\n      <td>New York,Ny</td>\n      <td>1954</td>\n      <td>TRUE</td>\n    </tr>\n    <tr>\n      <th>19</th>\n      <td>19</td>\n      <td>32.0</td>\n      <td>$44k-$99k</td>\n      <td>3.3</td>\n      <td>New York,Ny</td>\n      <td>1955</td>\n      <td>TRUE</td>\n    </tr>\n    <tr>\n      <th>20</th>\n      <td>20</td>\n      <td>NaN</td>\n      <td>$44k-$99k</td>\n      <td>5.7</td>\n      <td>New York,Ny</td>\n      <td>1944</td>\n      <td>TRUE</td>\n    </tr>\n    <tr>\n      <th>21</th>\n      <td>21</td>\n      <td>35.0</td>\n      <td>$44k-$99k</td>\n      <td>5.0</td>\n      <td>New York,Ny</td>\n      <td>1946</td>\n      <td>-1</td>\n    </tr>\n    <tr>\n      <th>22</th>\n      <td>22</td>\n      <td>19.0</td>\n      <td>$55k-$66k</td>\n      <td>7.8</td>\n      <td>New York,Ny</td>\n      <td>1988</td>\n      <td>TRUE</td>\n    </tr>\n    <tr>\n      <th>23</th>\n      <td>23</td>\n      <td>NaN</td>\n      <td>$44k-$99k</td>\n      <td>2.4</td>\n      <td>New York,Ny</td>\n      <td>1999</td>\n      <td>TRUE</td>\n    </tr>\n    <tr>\n      <th>24</th>\n      <td>24</td>\n      <td>13.0</td>\n      <td>$44k-$99k</td>\n      <td>-1.0</td>\n      <td>New York,Ny</td>\n      <td>1987</td>\n      <td>-1</td>\n    </tr>\n    <tr>\n      <th>25</th>\n      <td>25</td>\n      <td>55.0</td>\n      <td>$44k-$99k</td>\n      <td>0.0</td>\n      <td>Australia Aus</td>\n      <td>1980</td>\n      <td>TRUE</td>\n    </tr>\n    <tr>\n      <th>26</th>\n      <td>26</td>\n      <td>NaN</td>\n      <td>$55k-$66k</td>\n      <td>NaN</td>\n      <td>India,In</td>\n      <td>1934</td>\n      <td>TRUE</td>\n    </tr>\n    <tr>\n      <th>27</th>\n      <td>27</td>\n      <td>52.0</td>\n      <td>$44k-$99k</td>\n      <td>5.4</td>\n      <td>India,In</td>\n      <td>1935</td>\n      <td>-1</td>\n    </tr>\n    <tr>\n      <th>28</th>\n      <td>28</td>\n      <td>NaN</td>\n      <td>$39k-$88k</td>\n      <td>3.4</td>\n      <td>Australia Aus</td>\n      <td>1932</td>\n      <td>-1</td>\n    </tr>\n  </tbody>\n</table>\n</div>"
     },
     "execution_count": 3,
     "metadata": {},
     "output_type": "execute_result"
    }
   ],
   "source": [
    "df\n"
   ],
   "metadata": {
    "collapsed": false
   }
  },
  {
   "cell_type": "code",
   "execution_count": 4,
   "outputs": [
    {
     "name": "stdout",
     "output_type": "stream",
     "text": [
      "<class 'pandas.core.frame.DataFrame'>\n",
      "RangeIndex: 29 entries, 0 to 28\n",
      "Data columns (total 7 columns):\n",
      " #   Column       Non-Null Count  Dtype  \n",
      "---  ------       --------------  -----  \n",
      " 0   Index        29 non-null     int64  \n",
      " 1   Age          22 non-null     float64\n",
      " 2   Salary       29 non-null     object \n",
      " 3   Rating       28 non-null     float64\n",
      " 4   Location     29 non-null     object \n",
      " 5   Established  29 non-null     int64  \n",
      " 6   Easy Apply   29 non-null     object \n",
      "dtypes: float64(2), int64(2), object(3)\n",
      "memory usage: 1.7+ KB\n"
     ]
    }
   ],
   "source": [
    "df.info()\n"
   ],
   "metadata": {
    "collapsed": false
   }
  },
  {
   "cell_type": "code",
   "execution_count": 5,
   "outputs": [
    {
     "data": {
      "text/plain": "(29, 7)"
     },
     "execution_count": 5,
     "metadata": {},
     "output_type": "execute_result"
    }
   ],
   "source": [
    "df.shape\n"
   ],
   "metadata": {
    "collapsed": false
   }
  },
  {
   "cell_type": "code",
   "execution_count": 6,
   "outputs": [],
   "source": [
    "def negativeOneToNone(value):\n",
    "    if value == -1:\n",
    "        return None\n",
    "    else:\n",
    "        return value\n"
   ],
   "metadata": {
    "collapsed": false
   }
  },
  {
   "cell_type": "code",
   "execution_count": 7,
   "outputs": [],
   "source": [
    "df['Rating_clean'] = df['Rating'].apply(negativeOneToNone)\n"
   ],
   "metadata": {
    "collapsed": false
   }
  },
  {
   "cell_type": "code",
   "execution_count": 8,
   "outputs": [
    {
     "data": {
      "text/plain": "    Rating  Rating_clean\n0      5.4           5.4\n1      3.5           3.5\n2     -1.0           NaN\n3      4.4           4.4\n4      6.4           6.4\n5      1.4           1.4\n6      0.0           0.0\n7     -1.0           NaN\n8      5.4           5.4\n9      7.7           7.7\n10     5.4           5.4\n11     6.7           6.7\n12     0.0           0.0\n13    -1.0           NaN\n14     4.0           4.0\n15     3.0           3.0\n16     4.5           4.5\n17     5.3           5.3\n18     6.7           6.7\n19     3.3           3.3\n20     5.7           5.7\n21     5.0           5.0\n22     7.8           7.8\n23     2.4           2.4\n24    -1.0           NaN\n25     0.0           0.0\n26     NaN           NaN\n27     5.4           5.4\n28     3.4           3.4",
      "text/html": "<div>\n<style scoped>\n    .dataframe tbody tr th:only-of-type {\n        vertical-align: middle;\n    }\n\n    .dataframe tbody tr th {\n        vertical-align: top;\n    }\n\n    .dataframe thead th {\n        text-align: right;\n    }\n</style>\n<table border=\"1\" class=\"dataframe\">\n  <thead>\n    <tr style=\"text-align: right;\">\n      <th></th>\n      <th>Rating</th>\n      <th>Rating_clean</th>\n    </tr>\n  </thead>\n  <tbody>\n    <tr>\n      <th>0</th>\n      <td>5.4</td>\n      <td>5.4</td>\n    </tr>\n    <tr>\n      <th>1</th>\n      <td>3.5</td>\n      <td>3.5</td>\n    </tr>\n    <tr>\n      <th>2</th>\n      <td>-1.0</td>\n      <td>NaN</td>\n    </tr>\n    <tr>\n      <th>3</th>\n      <td>4.4</td>\n      <td>4.4</td>\n    </tr>\n    <tr>\n      <th>4</th>\n      <td>6.4</td>\n      <td>6.4</td>\n    </tr>\n    <tr>\n      <th>5</th>\n      <td>1.4</td>\n      <td>1.4</td>\n    </tr>\n    <tr>\n      <th>6</th>\n      <td>0.0</td>\n      <td>0.0</td>\n    </tr>\n    <tr>\n      <th>7</th>\n      <td>-1.0</td>\n      <td>NaN</td>\n    </tr>\n    <tr>\n      <th>8</th>\n      <td>5.4</td>\n      <td>5.4</td>\n    </tr>\n    <tr>\n      <th>9</th>\n      <td>7.7</td>\n      <td>7.7</td>\n    </tr>\n    <tr>\n      <th>10</th>\n      <td>5.4</td>\n      <td>5.4</td>\n    </tr>\n    <tr>\n      <th>11</th>\n      <td>6.7</td>\n      <td>6.7</td>\n    </tr>\n    <tr>\n      <th>12</th>\n      <td>0.0</td>\n      <td>0.0</td>\n    </tr>\n    <tr>\n      <th>13</th>\n      <td>-1.0</td>\n      <td>NaN</td>\n    </tr>\n    <tr>\n      <th>14</th>\n      <td>4.0</td>\n      <td>4.0</td>\n    </tr>\n    <tr>\n      <th>15</th>\n      <td>3.0</td>\n      <td>3.0</td>\n    </tr>\n    <tr>\n      <th>16</th>\n      <td>4.5</td>\n      <td>4.5</td>\n    </tr>\n    <tr>\n      <th>17</th>\n      <td>5.3</td>\n      <td>5.3</td>\n    </tr>\n    <tr>\n      <th>18</th>\n      <td>6.7</td>\n      <td>6.7</td>\n    </tr>\n    <tr>\n      <th>19</th>\n      <td>3.3</td>\n      <td>3.3</td>\n    </tr>\n    <tr>\n      <th>20</th>\n      <td>5.7</td>\n      <td>5.7</td>\n    </tr>\n    <tr>\n      <th>21</th>\n      <td>5.0</td>\n      <td>5.0</td>\n    </tr>\n    <tr>\n      <th>22</th>\n      <td>7.8</td>\n      <td>7.8</td>\n    </tr>\n    <tr>\n      <th>23</th>\n      <td>2.4</td>\n      <td>2.4</td>\n    </tr>\n    <tr>\n      <th>24</th>\n      <td>-1.0</td>\n      <td>NaN</td>\n    </tr>\n    <tr>\n      <th>25</th>\n      <td>0.0</td>\n      <td>0.0</td>\n    </tr>\n    <tr>\n      <th>26</th>\n      <td>NaN</td>\n      <td>NaN</td>\n    </tr>\n    <tr>\n      <th>27</th>\n      <td>5.4</td>\n      <td>5.4</td>\n    </tr>\n    <tr>\n      <th>28</th>\n      <td>3.4</td>\n      <td>3.4</td>\n    </tr>\n  </tbody>\n</table>\n</div>"
     },
     "execution_count": 8,
     "metadata": {},
     "output_type": "execute_result"
    }
   ],
   "source": [
    "df[['Rating', 'Rating_clean']]\n"
   ],
   "metadata": {
    "collapsed": false
   }
  },
  {
   "cell_type": "code",
   "execution_count": 9,
   "outputs": [],
   "source": [
    "df['Established_clean'] = df['Established'].apply(negativeOneToNone)\n"
   ],
   "metadata": {
    "collapsed": false
   }
  },
  {
   "cell_type": "code",
   "execution_count": 10,
   "outputs": [
    {
     "data": {
      "text/plain": "    Established  Established_clean\n0          1999             1999.0\n1          2002             2002.0\n2            -1                NaN\n3          1988             1988.0\n4          2002             2002.0\n5          1999             1999.0\n6            -1                NaN\n7            -1                NaN\n8            -1                NaN\n9            -1                NaN\n10         2008             2008.0\n11         2009             2009.0\n12         1999             1999.0\n13         2019             2019.0\n14         2020             2020.0\n15         1999             1999.0\n16         1984             1984.0\n17         1943             1943.0\n18         1954             1954.0\n19         1955             1955.0\n20         1944             1944.0\n21         1946             1946.0\n22         1988             1988.0\n23         1999             1999.0\n24         1987             1987.0\n25         1980             1980.0\n26         1934             1934.0\n27         1935             1935.0\n28         1932             1932.0",
      "text/html": "<div>\n<style scoped>\n    .dataframe tbody tr th:only-of-type {\n        vertical-align: middle;\n    }\n\n    .dataframe tbody tr th {\n        vertical-align: top;\n    }\n\n    .dataframe thead th {\n        text-align: right;\n    }\n</style>\n<table border=\"1\" class=\"dataframe\">\n  <thead>\n    <tr style=\"text-align: right;\">\n      <th></th>\n      <th>Established</th>\n      <th>Established_clean</th>\n    </tr>\n  </thead>\n  <tbody>\n    <tr>\n      <th>0</th>\n      <td>1999</td>\n      <td>1999.0</td>\n    </tr>\n    <tr>\n      <th>1</th>\n      <td>2002</td>\n      <td>2002.0</td>\n    </tr>\n    <tr>\n      <th>2</th>\n      <td>-1</td>\n      <td>NaN</td>\n    </tr>\n    <tr>\n      <th>3</th>\n      <td>1988</td>\n      <td>1988.0</td>\n    </tr>\n    <tr>\n      <th>4</th>\n      <td>2002</td>\n      <td>2002.0</td>\n    </tr>\n    <tr>\n      <th>5</th>\n      <td>1999</td>\n      <td>1999.0</td>\n    </tr>\n    <tr>\n      <th>6</th>\n      <td>-1</td>\n      <td>NaN</td>\n    </tr>\n    <tr>\n      <th>7</th>\n      <td>-1</td>\n      <td>NaN</td>\n    </tr>\n    <tr>\n      <th>8</th>\n      <td>-1</td>\n      <td>NaN</td>\n    </tr>\n    <tr>\n      <th>9</th>\n      <td>-1</td>\n      <td>NaN</td>\n    </tr>\n    <tr>\n      <th>10</th>\n      <td>2008</td>\n      <td>2008.0</td>\n    </tr>\n    <tr>\n      <th>11</th>\n      <td>2009</td>\n      <td>2009.0</td>\n    </tr>\n    <tr>\n      <th>12</th>\n      <td>1999</td>\n      <td>1999.0</td>\n    </tr>\n    <tr>\n      <th>13</th>\n      <td>2019</td>\n      <td>2019.0</td>\n    </tr>\n    <tr>\n      <th>14</th>\n      <td>2020</td>\n      <td>2020.0</td>\n    </tr>\n    <tr>\n      <th>15</th>\n      <td>1999</td>\n      <td>1999.0</td>\n    </tr>\n    <tr>\n      <th>16</th>\n      <td>1984</td>\n      <td>1984.0</td>\n    </tr>\n    <tr>\n      <th>17</th>\n      <td>1943</td>\n      <td>1943.0</td>\n    </tr>\n    <tr>\n      <th>18</th>\n      <td>1954</td>\n      <td>1954.0</td>\n    </tr>\n    <tr>\n      <th>19</th>\n      <td>1955</td>\n      <td>1955.0</td>\n    </tr>\n    <tr>\n      <th>20</th>\n      <td>1944</td>\n      <td>1944.0</td>\n    </tr>\n    <tr>\n      <th>21</th>\n      <td>1946</td>\n      <td>1946.0</td>\n    </tr>\n    <tr>\n      <th>22</th>\n      <td>1988</td>\n      <td>1988.0</td>\n    </tr>\n    <tr>\n      <th>23</th>\n      <td>1999</td>\n      <td>1999.0</td>\n    </tr>\n    <tr>\n      <th>24</th>\n      <td>1987</td>\n      <td>1987.0</td>\n    </tr>\n    <tr>\n      <th>25</th>\n      <td>1980</td>\n      <td>1980.0</td>\n    </tr>\n    <tr>\n      <th>26</th>\n      <td>1934</td>\n      <td>1934.0</td>\n    </tr>\n    <tr>\n      <th>27</th>\n      <td>1935</td>\n      <td>1935.0</td>\n    </tr>\n    <tr>\n      <th>28</th>\n      <td>1932</td>\n      <td>1932.0</td>\n    </tr>\n  </tbody>\n</table>\n</div>"
     },
     "execution_count": 10,
     "metadata": {},
     "output_type": "execute_result"
    }
   ],
   "source": [
    "df[['Established', 'Established_clean']]\n"
   ],
   "metadata": {
    "collapsed": false
   }
  },
  {
   "cell_type": "code",
   "execution_count": 15,
   "outputs": [],
   "source": [
    "df['Easy Apply_clean'] = df['Easy Apply'].apply(lambda x: False if x == '-1' else True)\n"
   ],
   "metadata": {
    "collapsed": false
   }
  },
  {
   "cell_type": "code",
   "execution_count": 16,
   "outputs": [
    {
     "data": {
      "text/plain": "   Easy Apply  Easy Apply_clean\n0        TRUE              True\n1        TRUE              True\n2          -1             False\n3          -1             False\n4          -1             False\n5        TRUE              True\n6          -1             False\n7          -1             False\n8          -1             False\n9        TRUE              True\n10       TRUE              True\n11         -1             False\n12         -1             False\n13       TRUE              True\n14       TRUE              True\n15         -1             False\n16         -1             False\n17       TRUE              True\n18       TRUE              True\n19       TRUE              True\n20       TRUE              True\n21         -1             False\n22       TRUE              True\n23       TRUE              True\n24         -1             False\n25       TRUE              True\n26       TRUE              True\n27         -1             False\n28         -1             False",
      "text/html": "<div>\n<style scoped>\n    .dataframe tbody tr th:only-of-type {\n        vertical-align: middle;\n    }\n\n    .dataframe tbody tr th {\n        vertical-align: top;\n    }\n\n    .dataframe thead th {\n        text-align: right;\n    }\n</style>\n<table border=\"1\" class=\"dataframe\">\n  <thead>\n    <tr style=\"text-align: right;\">\n      <th></th>\n      <th>Easy Apply</th>\n      <th>Easy Apply_clean</th>\n    </tr>\n  </thead>\n  <tbody>\n    <tr>\n      <th>0</th>\n      <td>TRUE</td>\n      <td>True</td>\n    </tr>\n    <tr>\n      <th>1</th>\n      <td>TRUE</td>\n      <td>True</td>\n    </tr>\n    <tr>\n      <th>2</th>\n      <td>-1</td>\n      <td>False</td>\n    </tr>\n    <tr>\n      <th>3</th>\n      <td>-1</td>\n      <td>False</td>\n    </tr>\n    <tr>\n      <th>4</th>\n      <td>-1</td>\n      <td>False</td>\n    </tr>\n    <tr>\n      <th>5</th>\n      <td>TRUE</td>\n      <td>True</td>\n    </tr>\n    <tr>\n      <th>6</th>\n      <td>-1</td>\n      <td>False</td>\n    </tr>\n    <tr>\n      <th>7</th>\n      <td>-1</td>\n      <td>False</td>\n    </tr>\n    <tr>\n      <th>8</th>\n      <td>-1</td>\n      <td>False</td>\n    </tr>\n    <tr>\n      <th>9</th>\n      <td>TRUE</td>\n      <td>True</td>\n    </tr>\n    <tr>\n      <th>10</th>\n      <td>TRUE</td>\n      <td>True</td>\n    </tr>\n    <tr>\n      <th>11</th>\n      <td>-1</td>\n      <td>False</td>\n    </tr>\n    <tr>\n      <th>12</th>\n      <td>-1</td>\n      <td>False</td>\n    </tr>\n    <tr>\n      <th>13</th>\n      <td>TRUE</td>\n      <td>True</td>\n    </tr>\n    <tr>\n      <th>14</th>\n      <td>TRUE</td>\n      <td>True</td>\n    </tr>\n    <tr>\n      <th>15</th>\n      <td>-1</td>\n      <td>False</td>\n    </tr>\n    <tr>\n      <th>16</th>\n      <td>-1</td>\n      <td>False</td>\n    </tr>\n    <tr>\n      <th>17</th>\n      <td>TRUE</td>\n      <td>True</td>\n    </tr>\n    <tr>\n      <th>18</th>\n      <td>TRUE</td>\n      <td>True</td>\n    </tr>\n    <tr>\n      <th>19</th>\n      <td>TRUE</td>\n      <td>True</td>\n    </tr>\n    <tr>\n      <th>20</th>\n      <td>TRUE</td>\n      <td>True</td>\n    </tr>\n    <tr>\n      <th>21</th>\n      <td>-1</td>\n      <td>False</td>\n    </tr>\n    <tr>\n      <th>22</th>\n      <td>TRUE</td>\n      <td>True</td>\n    </tr>\n    <tr>\n      <th>23</th>\n      <td>TRUE</td>\n      <td>True</td>\n    </tr>\n    <tr>\n      <th>24</th>\n      <td>-1</td>\n      <td>False</td>\n    </tr>\n    <tr>\n      <th>25</th>\n      <td>TRUE</td>\n      <td>True</td>\n    </tr>\n    <tr>\n      <th>26</th>\n      <td>TRUE</td>\n      <td>True</td>\n    </tr>\n    <tr>\n      <th>27</th>\n      <td>-1</td>\n      <td>False</td>\n    </tr>\n    <tr>\n      <th>28</th>\n      <td>-1</td>\n      <td>False</td>\n    </tr>\n  </tbody>\n</table>\n</div>"
     },
     "execution_count": 16,
     "metadata": {},
     "output_type": "execute_result"
    }
   ],
   "source": [
    "df[['Easy Apply', 'Easy Apply_clean']]\n"
   ],
   "metadata": {
    "collapsed": false
   }
  },
  {
   "cell_type": "code",
   "execution_count": 53,
   "outputs": [
    {
     "data": {
      "text/plain": "[71500.0,\n 60500.0,\n 83000.0,\n 71500.0,\n 71500.0,\n 83000.0,\n 71500.0,\n 71500.0,\n 71500.0,\n 71500.0,\n 29500.0,\n 29500.0,\n 71500.0,\n 71500.0,\n 71500.0,\n 94500.0,\n 29500.0,\n 71500.0,\n 71500.0,\n 71500.0,\n 71500.0,\n 71500.0,\n 60500.0,\n 71500.0,\n 71500.0,\n 71500.0,\n 60500.0,\n 71500.0,\n 63500.0]"
     },
     "execution_count": 53,
     "metadata": {},
     "output_type": "execute_result"
    }
   ],
   "source": [
    "salary_list = []\n",
    "for value in df.Salary:\n",
    "    salary_list.append(value)\n",
    "salary_list\n",
    "\n",
    "salary_list2 = []\n",
    "for i in range(len(salary_list)):\n",
    "    str = salary_list[i].replace('$', '').split('-')\n",
    "    salary_list2.append(str)\n",
    "salary_list2\n",
    "\n",
    "salary_list3 = []\n",
    "for item in salary_list2:\n",
    "    v1 = float(item[0].replace('k', '000'))\n",
    "    v2 = float(item[1].replace('k', '000'))\n",
    "    salary_list3.append((v1 + v2)/2)\n",
    "salary_list3\n"
   ],
   "metadata": {
    "collapsed": false
   }
  },
  {
   "cell_type": "code",
   "execution_count": 54,
   "outputs": [],
   "source": [
    "df['Salary_clean'] = salary_list3"
   ],
   "metadata": {
    "collapsed": false
   }
  },
  {
   "cell_type": "code",
   "execution_count": 55,
   "outputs": [
    {
     "data": {
      "text/plain": "    Index   Age      Salary  Rating       Location  Established Easy Apply  \\\n0       0  44.0   $44k-$99k     5.4       India,In         1999       TRUE   \n1       1  66.0   $55k-$66k     3.5    New York,Ny         2002       TRUE   \n2       2   NaN   $77k-$89k    -1.0    New York,Ny           -1         -1   \n3       3  64.0   $44k-$99k     4.4       India In         1988         -1   \n4       4  25.0   $44k-$99k     6.4  Australia Aus         2002         -1   \n5       5  44.0   $77k-$89k     1.4       India,In         1999       TRUE   \n6       6  21.0   $44k-$99k     0.0    New York,Ny           -1         -1   \n7       7  44.0   $44k-$99k    -1.0  Australia Aus           -1         -1   \n8       8  35.0   $44k-$99k     5.4    New York,Ny           -1         -1   \n9       9  22.0   $44k-$99k     7.7       India,In           -1       TRUE   \n10     10  55.0   $10k-$49k     5.4       India,In         2008       TRUE   \n11     11  44.0   $10k-$49k     6.7       India,In         2009         -1   \n12     12   NaN   $44k-$99k     0.0       India,In         1999         -1   \n13     13  25.0   $44k-$99k    -1.0  Australia Aus         2019       TRUE   \n14     14  66.0   $44k-$99k     4.0  Australia Aus         2020       TRUE   \n15     15  44.0  $88k-$101k     3.0  Australia Aus         1999         -1   \n16     16  19.0   $19k-$40k     4.5       India,In         1984         -1   \n17     17   NaN   $44k-$99k     5.3    New York,Ny         1943       TRUE   \n18     18  35.0   $44k-$99k     6.7    New York,Ny         1954       TRUE   \n19     19  32.0   $44k-$99k     3.3    New York,Ny         1955       TRUE   \n20     20   NaN   $44k-$99k     5.7    New York,Ny         1944       TRUE   \n21     21  35.0   $44k-$99k     5.0    New York,Ny         1946         -1   \n22     22  19.0   $55k-$66k     7.8    New York,Ny         1988       TRUE   \n23     23   NaN   $44k-$99k     2.4    New York,Ny         1999       TRUE   \n24     24  13.0   $44k-$99k    -1.0    New York,Ny         1987         -1   \n25     25  55.0   $44k-$99k     0.0  Australia Aus         1980       TRUE   \n26     26   NaN   $55k-$66k     NaN       India,In         1934       TRUE   \n27     27  52.0   $44k-$99k     5.4       India,In         1935         -1   \n28     28   NaN   $39k-$88k     3.4  Australia Aus         1932         -1   \n\n    Rating_clean  Established_clean  Easy Apply_clean  Salary_clean  \n0            5.4             1999.0              True       71500.0  \n1            3.5             2002.0              True       60500.0  \n2            NaN                NaN             False       83000.0  \n3            4.4             1988.0             False       71500.0  \n4            6.4             2002.0             False       71500.0  \n5            1.4             1999.0              True       83000.0  \n6            0.0                NaN             False       71500.0  \n7            NaN                NaN             False       71500.0  \n8            5.4                NaN             False       71500.0  \n9            7.7                NaN              True       71500.0  \n10           5.4             2008.0              True       29500.0  \n11           6.7             2009.0             False       29500.0  \n12           0.0             1999.0             False       71500.0  \n13           NaN             2019.0              True       71500.0  \n14           4.0             2020.0              True       71500.0  \n15           3.0             1999.0             False       94500.0  \n16           4.5             1984.0             False       29500.0  \n17           5.3             1943.0              True       71500.0  \n18           6.7             1954.0              True       71500.0  \n19           3.3             1955.0              True       71500.0  \n20           5.7             1944.0              True       71500.0  \n21           5.0             1946.0             False       71500.0  \n22           7.8             1988.0              True       60500.0  \n23           2.4             1999.0              True       71500.0  \n24           NaN             1987.0             False       71500.0  \n25           0.0             1980.0              True       71500.0  \n26           NaN             1934.0              True       60500.0  \n27           5.4             1935.0             False       71500.0  \n28           3.4             1932.0             False       63500.0  ",
      "text/html": "<div>\n<style scoped>\n    .dataframe tbody tr th:only-of-type {\n        vertical-align: middle;\n    }\n\n    .dataframe tbody tr th {\n        vertical-align: top;\n    }\n\n    .dataframe thead th {\n        text-align: right;\n    }\n</style>\n<table border=\"1\" class=\"dataframe\">\n  <thead>\n    <tr style=\"text-align: right;\">\n      <th></th>\n      <th>Index</th>\n      <th>Age</th>\n      <th>Salary</th>\n      <th>Rating</th>\n      <th>Location</th>\n      <th>Established</th>\n      <th>Easy Apply</th>\n      <th>Rating_clean</th>\n      <th>Established_clean</th>\n      <th>Easy Apply_clean</th>\n      <th>Salary_clean</th>\n    </tr>\n  </thead>\n  <tbody>\n    <tr>\n      <th>0</th>\n      <td>0</td>\n      <td>44.0</td>\n      <td>$44k-$99k</td>\n      <td>5.4</td>\n      <td>India,In</td>\n      <td>1999</td>\n      <td>TRUE</td>\n      <td>5.4</td>\n      <td>1999.0</td>\n      <td>True</td>\n      <td>71500.0</td>\n    </tr>\n    <tr>\n      <th>1</th>\n      <td>1</td>\n      <td>66.0</td>\n      <td>$55k-$66k</td>\n      <td>3.5</td>\n      <td>New York,Ny</td>\n      <td>2002</td>\n      <td>TRUE</td>\n      <td>3.5</td>\n      <td>2002.0</td>\n      <td>True</td>\n      <td>60500.0</td>\n    </tr>\n    <tr>\n      <th>2</th>\n      <td>2</td>\n      <td>NaN</td>\n      <td>$77k-$89k</td>\n      <td>-1.0</td>\n      <td>New York,Ny</td>\n      <td>-1</td>\n      <td>-1</td>\n      <td>NaN</td>\n      <td>NaN</td>\n      <td>False</td>\n      <td>83000.0</td>\n    </tr>\n    <tr>\n      <th>3</th>\n      <td>3</td>\n      <td>64.0</td>\n      <td>$44k-$99k</td>\n      <td>4.4</td>\n      <td>India In</td>\n      <td>1988</td>\n      <td>-1</td>\n      <td>4.4</td>\n      <td>1988.0</td>\n      <td>False</td>\n      <td>71500.0</td>\n    </tr>\n    <tr>\n      <th>4</th>\n      <td>4</td>\n      <td>25.0</td>\n      <td>$44k-$99k</td>\n      <td>6.4</td>\n      <td>Australia Aus</td>\n      <td>2002</td>\n      <td>-1</td>\n      <td>6.4</td>\n      <td>2002.0</td>\n      <td>False</td>\n      <td>71500.0</td>\n    </tr>\n    <tr>\n      <th>5</th>\n      <td>5</td>\n      <td>44.0</td>\n      <td>$77k-$89k</td>\n      <td>1.4</td>\n      <td>India,In</td>\n      <td>1999</td>\n      <td>TRUE</td>\n      <td>1.4</td>\n      <td>1999.0</td>\n      <td>True</td>\n      <td>83000.0</td>\n    </tr>\n    <tr>\n      <th>6</th>\n      <td>6</td>\n      <td>21.0</td>\n      <td>$44k-$99k</td>\n      <td>0.0</td>\n      <td>New York,Ny</td>\n      <td>-1</td>\n      <td>-1</td>\n      <td>0.0</td>\n      <td>NaN</td>\n      <td>False</td>\n      <td>71500.0</td>\n    </tr>\n    <tr>\n      <th>7</th>\n      <td>7</td>\n      <td>44.0</td>\n      <td>$44k-$99k</td>\n      <td>-1.0</td>\n      <td>Australia Aus</td>\n      <td>-1</td>\n      <td>-1</td>\n      <td>NaN</td>\n      <td>NaN</td>\n      <td>False</td>\n      <td>71500.0</td>\n    </tr>\n    <tr>\n      <th>8</th>\n      <td>8</td>\n      <td>35.0</td>\n      <td>$44k-$99k</td>\n      <td>5.4</td>\n      <td>New York,Ny</td>\n      <td>-1</td>\n      <td>-1</td>\n      <td>5.4</td>\n      <td>NaN</td>\n      <td>False</td>\n      <td>71500.0</td>\n    </tr>\n    <tr>\n      <th>9</th>\n      <td>9</td>\n      <td>22.0</td>\n      <td>$44k-$99k</td>\n      <td>7.7</td>\n      <td>India,In</td>\n      <td>-1</td>\n      <td>TRUE</td>\n      <td>7.7</td>\n      <td>NaN</td>\n      <td>True</td>\n      <td>71500.0</td>\n    </tr>\n    <tr>\n      <th>10</th>\n      <td>10</td>\n      <td>55.0</td>\n      <td>$10k-$49k</td>\n      <td>5.4</td>\n      <td>India,In</td>\n      <td>2008</td>\n      <td>TRUE</td>\n      <td>5.4</td>\n      <td>2008.0</td>\n      <td>True</td>\n      <td>29500.0</td>\n    </tr>\n    <tr>\n      <th>11</th>\n      <td>11</td>\n      <td>44.0</td>\n      <td>$10k-$49k</td>\n      <td>6.7</td>\n      <td>India,In</td>\n      <td>2009</td>\n      <td>-1</td>\n      <td>6.7</td>\n      <td>2009.0</td>\n      <td>False</td>\n      <td>29500.0</td>\n    </tr>\n    <tr>\n      <th>12</th>\n      <td>12</td>\n      <td>NaN</td>\n      <td>$44k-$99k</td>\n      <td>0.0</td>\n      <td>India,In</td>\n      <td>1999</td>\n      <td>-1</td>\n      <td>0.0</td>\n      <td>1999.0</td>\n      <td>False</td>\n      <td>71500.0</td>\n    </tr>\n    <tr>\n      <th>13</th>\n      <td>13</td>\n      <td>25.0</td>\n      <td>$44k-$99k</td>\n      <td>-1.0</td>\n      <td>Australia Aus</td>\n      <td>2019</td>\n      <td>TRUE</td>\n      <td>NaN</td>\n      <td>2019.0</td>\n      <td>True</td>\n      <td>71500.0</td>\n    </tr>\n    <tr>\n      <th>14</th>\n      <td>14</td>\n      <td>66.0</td>\n      <td>$44k-$99k</td>\n      <td>4.0</td>\n      <td>Australia Aus</td>\n      <td>2020</td>\n      <td>TRUE</td>\n      <td>4.0</td>\n      <td>2020.0</td>\n      <td>True</td>\n      <td>71500.0</td>\n    </tr>\n    <tr>\n      <th>15</th>\n      <td>15</td>\n      <td>44.0</td>\n      <td>$88k-$101k</td>\n      <td>3.0</td>\n      <td>Australia Aus</td>\n      <td>1999</td>\n      <td>-1</td>\n      <td>3.0</td>\n      <td>1999.0</td>\n      <td>False</td>\n      <td>94500.0</td>\n    </tr>\n    <tr>\n      <th>16</th>\n      <td>16</td>\n      <td>19.0</td>\n      <td>$19k-$40k</td>\n      <td>4.5</td>\n      <td>India,In</td>\n      <td>1984</td>\n      <td>-1</td>\n      <td>4.5</td>\n      <td>1984.0</td>\n      <td>False</td>\n      <td>29500.0</td>\n    </tr>\n    <tr>\n      <th>17</th>\n      <td>17</td>\n      <td>NaN</td>\n      <td>$44k-$99k</td>\n      <td>5.3</td>\n      <td>New York,Ny</td>\n      <td>1943</td>\n      <td>TRUE</td>\n      <td>5.3</td>\n      <td>1943.0</td>\n      <td>True</td>\n      <td>71500.0</td>\n    </tr>\n    <tr>\n      <th>18</th>\n      <td>18</td>\n      <td>35.0</td>\n      <td>$44k-$99k</td>\n      <td>6.7</td>\n      <td>New York,Ny</td>\n      <td>1954</td>\n      <td>TRUE</td>\n      <td>6.7</td>\n      <td>1954.0</td>\n      <td>True</td>\n      <td>71500.0</td>\n    </tr>\n    <tr>\n      <th>19</th>\n      <td>19</td>\n      <td>32.0</td>\n      <td>$44k-$99k</td>\n      <td>3.3</td>\n      <td>New York,Ny</td>\n      <td>1955</td>\n      <td>TRUE</td>\n      <td>3.3</td>\n      <td>1955.0</td>\n      <td>True</td>\n      <td>71500.0</td>\n    </tr>\n    <tr>\n      <th>20</th>\n      <td>20</td>\n      <td>NaN</td>\n      <td>$44k-$99k</td>\n      <td>5.7</td>\n      <td>New York,Ny</td>\n      <td>1944</td>\n      <td>TRUE</td>\n      <td>5.7</td>\n      <td>1944.0</td>\n      <td>True</td>\n      <td>71500.0</td>\n    </tr>\n    <tr>\n      <th>21</th>\n      <td>21</td>\n      <td>35.0</td>\n      <td>$44k-$99k</td>\n      <td>5.0</td>\n      <td>New York,Ny</td>\n      <td>1946</td>\n      <td>-1</td>\n      <td>5.0</td>\n      <td>1946.0</td>\n      <td>False</td>\n      <td>71500.0</td>\n    </tr>\n    <tr>\n      <th>22</th>\n      <td>22</td>\n      <td>19.0</td>\n      <td>$55k-$66k</td>\n      <td>7.8</td>\n      <td>New York,Ny</td>\n      <td>1988</td>\n      <td>TRUE</td>\n      <td>7.8</td>\n      <td>1988.0</td>\n      <td>True</td>\n      <td>60500.0</td>\n    </tr>\n    <tr>\n      <th>23</th>\n      <td>23</td>\n      <td>NaN</td>\n      <td>$44k-$99k</td>\n      <td>2.4</td>\n      <td>New York,Ny</td>\n      <td>1999</td>\n      <td>TRUE</td>\n      <td>2.4</td>\n      <td>1999.0</td>\n      <td>True</td>\n      <td>71500.0</td>\n    </tr>\n    <tr>\n      <th>24</th>\n      <td>24</td>\n      <td>13.0</td>\n      <td>$44k-$99k</td>\n      <td>-1.0</td>\n      <td>New York,Ny</td>\n      <td>1987</td>\n      <td>-1</td>\n      <td>NaN</td>\n      <td>1987.0</td>\n      <td>False</td>\n      <td>71500.0</td>\n    </tr>\n    <tr>\n      <th>25</th>\n      <td>25</td>\n      <td>55.0</td>\n      <td>$44k-$99k</td>\n      <td>0.0</td>\n      <td>Australia Aus</td>\n      <td>1980</td>\n      <td>TRUE</td>\n      <td>0.0</td>\n      <td>1980.0</td>\n      <td>True</td>\n      <td>71500.0</td>\n    </tr>\n    <tr>\n      <th>26</th>\n      <td>26</td>\n      <td>NaN</td>\n      <td>$55k-$66k</td>\n      <td>NaN</td>\n      <td>India,In</td>\n      <td>1934</td>\n      <td>TRUE</td>\n      <td>NaN</td>\n      <td>1934.0</td>\n      <td>True</td>\n      <td>60500.0</td>\n    </tr>\n    <tr>\n      <th>27</th>\n      <td>27</td>\n      <td>52.0</td>\n      <td>$44k-$99k</td>\n      <td>5.4</td>\n      <td>India,In</td>\n      <td>1935</td>\n      <td>-1</td>\n      <td>5.4</td>\n      <td>1935.0</td>\n      <td>False</td>\n      <td>71500.0</td>\n    </tr>\n    <tr>\n      <th>28</th>\n      <td>28</td>\n      <td>NaN</td>\n      <td>$39k-$88k</td>\n      <td>3.4</td>\n      <td>Australia Aus</td>\n      <td>1932</td>\n      <td>-1</td>\n      <td>3.4</td>\n      <td>1932.0</td>\n      <td>False</td>\n      <td>63500.0</td>\n    </tr>\n  </tbody>\n</table>\n</div>"
     },
     "execution_count": 55,
     "metadata": {},
     "output_type": "execute_result"
    }
   ],
   "source": [
    "df\n"
   ],
   "metadata": {
    "collapsed": false
   }
  },
  {
   "cell_type": "code",
   "execution_count": 56,
   "outputs": [
    {
     "data": {
      "text/plain": "    Salary_clean  Rating_clean  Established_clean  Easy Apply_clean\n0        71500.0           5.4             1999.0              True\n1        60500.0           3.5             2002.0              True\n2        83000.0           NaN                NaN             False\n3        71500.0           4.4             1988.0             False\n4        71500.0           6.4             2002.0             False\n5        83000.0           1.4             1999.0              True\n6        71500.0           0.0                NaN             False\n7        71500.0           NaN                NaN             False\n8        71500.0           5.4                NaN             False\n9        71500.0           7.7                NaN              True\n10       29500.0           5.4             2008.0              True\n11       29500.0           6.7             2009.0             False\n12       71500.0           0.0             1999.0             False\n13       71500.0           NaN             2019.0              True\n14       71500.0           4.0             2020.0              True\n15       94500.0           3.0             1999.0             False\n16       29500.0           4.5             1984.0             False\n17       71500.0           5.3             1943.0              True\n18       71500.0           6.7             1954.0              True\n19       71500.0           3.3             1955.0              True\n20       71500.0           5.7             1944.0              True\n21       71500.0           5.0             1946.0             False\n22       60500.0           7.8             1988.0              True\n23       71500.0           2.4             1999.0              True\n24       71500.0           NaN             1987.0             False\n25       71500.0           0.0             1980.0              True\n26       60500.0           NaN             1934.0              True\n27       71500.0           5.4             1935.0             False\n28       63500.0           3.4             1932.0             False",
      "text/html": "<div>\n<style scoped>\n    .dataframe tbody tr th:only-of-type {\n        vertical-align: middle;\n    }\n\n    .dataframe tbody tr th {\n        vertical-align: top;\n    }\n\n    .dataframe thead th {\n        text-align: right;\n    }\n</style>\n<table border=\"1\" class=\"dataframe\">\n  <thead>\n    <tr style=\"text-align: right;\">\n      <th></th>\n      <th>Salary_clean</th>\n      <th>Rating_clean</th>\n      <th>Established_clean</th>\n      <th>Easy Apply_clean</th>\n    </tr>\n  </thead>\n  <tbody>\n    <tr>\n      <th>0</th>\n      <td>71500.0</td>\n      <td>5.4</td>\n      <td>1999.0</td>\n      <td>True</td>\n    </tr>\n    <tr>\n      <th>1</th>\n      <td>60500.0</td>\n      <td>3.5</td>\n      <td>2002.0</td>\n      <td>True</td>\n    </tr>\n    <tr>\n      <th>2</th>\n      <td>83000.0</td>\n      <td>NaN</td>\n      <td>NaN</td>\n      <td>False</td>\n    </tr>\n    <tr>\n      <th>3</th>\n      <td>71500.0</td>\n      <td>4.4</td>\n      <td>1988.0</td>\n      <td>False</td>\n    </tr>\n    <tr>\n      <th>4</th>\n      <td>71500.0</td>\n      <td>6.4</td>\n      <td>2002.0</td>\n      <td>False</td>\n    </tr>\n    <tr>\n      <th>5</th>\n      <td>83000.0</td>\n      <td>1.4</td>\n      <td>1999.0</td>\n      <td>True</td>\n    </tr>\n    <tr>\n      <th>6</th>\n      <td>71500.0</td>\n      <td>0.0</td>\n      <td>NaN</td>\n      <td>False</td>\n    </tr>\n    <tr>\n      <th>7</th>\n      <td>71500.0</td>\n      <td>NaN</td>\n      <td>NaN</td>\n      <td>False</td>\n    </tr>\n    <tr>\n      <th>8</th>\n      <td>71500.0</td>\n      <td>5.4</td>\n      <td>NaN</td>\n      <td>False</td>\n    </tr>\n    <tr>\n      <th>9</th>\n      <td>71500.0</td>\n      <td>7.7</td>\n      <td>NaN</td>\n      <td>True</td>\n    </tr>\n    <tr>\n      <th>10</th>\n      <td>29500.0</td>\n      <td>5.4</td>\n      <td>2008.0</td>\n      <td>True</td>\n    </tr>\n    <tr>\n      <th>11</th>\n      <td>29500.0</td>\n      <td>6.7</td>\n      <td>2009.0</td>\n      <td>False</td>\n    </tr>\n    <tr>\n      <th>12</th>\n      <td>71500.0</td>\n      <td>0.0</td>\n      <td>1999.0</td>\n      <td>False</td>\n    </tr>\n    <tr>\n      <th>13</th>\n      <td>71500.0</td>\n      <td>NaN</td>\n      <td>2019.0</td>\n      <td>True</td>\n    </tr>\n    <tr>\n      <th>14</th>\n      <td>71500.0</td>\n      <td>4.0</td>\n      <td>2020.0</td>\n      <td>True</td>\n    </tr>\n    <tr>\n      <th>15</th>\n      <td>94500.0</td>\n      <td>3.0</td>\n      <td>1999.0</td>\n      <td>False</td>\n    </tr>\n    <tr>\n      <th>16</th>\n      <td>29500.0</td>\n      <td>4.5</td>\n      <td>1984.0</td>\n      <td>False</td>\n    </tr>\n    <tr>\n      <th>17</th>\n      <td>71500.0</td>\n      <td>5.3</td>\n      <td>1943.0</td>\n      <td>True</td>\n    </tr>\n    <tr>\n      <th>18</th>\n      <td>71500.0</td>\n      <td>6.7</td>\n      <td>1954.0</td>\n      <td>True</td>\n    </tr>\n    <tr>\n      <th>19</th>\n      <td>71500.0</td>\n      <td>3.3</td>\n      <td>1955.0</td>\n      <td>True</td>\n    </tr>\n    <tr>\n      <th>20</th>\n      <td>71500.0</td>\n      <td>5.7</td>\n      <td>1944.0</td>\n      <td>True</td>\n    </tr>\n    <tr>\n      <th>21</th>\n      <td>71500.0</td>\n      <td>5.0</td>\n      <td>1946.0</td>\n      <td>False</td>\n    </tr>\n    <tr>\n      <th>22</th>\n      <td>60500.0</td>\n      <td>7.8</td>\n      <td>1988.0</td>\n      <td>True</td>\n    </tr>\n    <tr>\n      <th>23</th>\n      <td>71500.0</td>\n      <td>2.4</td>\n      <td>1999.0</td>\n      <td>True</td>\n    </tr>\n    <tr>\n      <th>24</th>\n      <td>71500.0</td>\n      <td>NaN</td>\n      <td>1987.0</td>\n      <td>False</td>\n    </tr>\n    <tr>\n      <th>25</th>\n      <td>71500.0</td>\n      <td>0.0</td>\n      <td>1980.0</td>\n      <td>True</td>\n    </tr>\n    <tr>\n      <th>26</th>\n      <td>60500.0</td>\n      <td>NaN</td>\n      <td>1934.0</td>\n      <td>True</td>\n    </tr>\n    <tr>\n      <th>27</th>\n      <td>71500.0</td>\n      <td>5.4</td>\n      <td>1935.0</td>\n      <td>False</td>\n    </tr>\n    <tr>\n      <th>28</th>\n      <td>63500.0</td>\n      <td>3.4</td>\n      <td>1932.0</td>\n      <td>False</td>\n    </tr>\n  </tbody>\n</table>\n</div>"
     },
     "execution_count": 56,
     "metadata": {},
     "output_type": "execute_result"
    }
   ],
   "source": [
    "df[['Salary_clean', 'Rating_clean', 'Established_clean', 'Easy Apply_clean']]\n"
   ],
   "metadata": {
    "collapsed": false
   }
  },
  {
   "cell_type": "code",
   "execution_count": null,
   "outputs": [],
   "source": [],
   "metadata": {
    "collapsed": false
   }
  }
 ],
 "metadata": {
  "kernelspec": {
   "display_name": "Python 3",
   "language": "python",
   "name": "python3"
  },
  "language_info": {
   "codemirror_mode": {
    "name": "ipython",
    "version": 2
   },
   "file_extension": ".py",
   "mimetype": "text/x-python",
   "name": "python",
   "nbconvert_exporter": "python",
   "pygments_lexer": "ipython2",
   "version": "2.7.6"
  }
 },
 "nbformat": 4,
 "nbformat_minor": 0
}
